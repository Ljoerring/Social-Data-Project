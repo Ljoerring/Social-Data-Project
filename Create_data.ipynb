{
 "cells": [
  {
   "cell_type": "code",
   "execution_count": 1,
   "metadata": {},
   "outputs": [
    {
     "data": {
      "text/plain": "'/Users/carolinesofieljorring/Desktop/Social-Data-Project'"
     },
     "execution_count": 1,
     "metadata": {},
     "output_type": "execute_result"
    }
   ],
   "source": [
    "import pandas as pd\n",
    "import os \n",
    "import matplotlib.pyplot as plt \n",
    "import re\n",
    "import numpy as np\n",
    "os.getcwd()"
   ]
  },
  {
   "cell_type": "code",
   "execution_count": 11,
   "metadata": {},
   "outputs": [],
   "source": [
    "# load tree data from the municipality of Copenhagen \n",
    "cols = ['id','kategori','ny_dm_element','traeart','slaegtsnavn','planteaar','faeldningsaar','bydelsnavn','byrumstype','vejnavn','fritrumsprofil','stammeomfang','placering','omgivelse','reg_dato','opdateret_dato','wkb_geometry']\n",
    "df = pd.read_csv('raw_data/trae_basis.csv',sep=',',usecols=cols)\n",
    "\n",
    "# prepare tree data for analysis\n",
    "dfnew = df[df[\"planteaar\"] >= 2000] # get data from 2000 and after \n",
    "dfnew = dfnew.dropna(subset=['planteaar']) # remove samples with unknown plant year \n",
    "dfnew.columns = ['category','id','type','tree_species','species','year','cut_year','district','district_type','street','space_profile','trunk_size','street_location','surroundings','register_date','update_date','coordinates']"
   ]
  },
  {
   "cell_type": "code",
   "execution_count": null,
   "metadata": {},
   "outputs": [],
   "source": []
  },
  {
   "cell_type": "code",
   "execution_count": null,
   "metadata": {},
   "outputs": [],
   "source": [
    "\n",
    "# get top 10 tree species \n",
    "tree_species = dfnew[\"species\"].value_counts().sort_values(ascending = False)[1:11].index.to_list()"
   ]
  }
 ],
 "metadata": {
  "kernelspec": {
   "display_name": "Python 3.9.1 64-bit ('SocialData': conda)",
   "name": "python391jvsc74a57bd035102f34d3bdac640e2569cd15da5c68d187c34a3d5c738579b8b36af75149df"
  },
  "language_info": {
   "codemirror_mode": {
    "name": "ipython",
    "version": 3
   },
   "file_extension": ".py",
   "mimetype": "text/x-python",
   "name": "python",
   "nbconvert_exporter": "python",
   "pygments_lexer": "ipython3",
   "version": "3.9.1"
  },
  "metadata": {
   "interpreter": {
    "hash": "35102f34d3bdac640e2569cd15da5c68d187c34a3d5c738579b8b36af75149df"
   }
  },
  "orig_nbformat": 2
 },
 "nbformat": 4,
 "nbformat_minor": 2
}
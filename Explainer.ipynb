{
 "cells": [
  {
   "cell_type": "markdown",
   "metadata": {},
   "source": [
    "# Motivation"
   ]
  },
  {
   "cell_type": "markdown",
   "metadata": {},
   "source": [
    "# Basic statistics"
   ]
  },
  {
   "cell_type": "markdown",
   "metadata": {},
   "source": [
    "# Data analysis"
   ]
  },
  {
   "cell_type": "markdown",
   "metadata": {},
   "source": [
    "# Genre\n",
    "<!-- Which genre of data story did you use?\n",
    "Which tools did you use from each of the 3 categories of Visual Narrative (Figure 7 in Segal and Heer). Why?\n",
    "Which tools did you use from each of the 3 categories of Narrative Structure (Figure 7 in Segal and Heer). Why?-->\n",
    "\n",
    "The main genre of our data story is magasine style due to the amount of text accompanying the visualisations and the clear ordering/path of the story. However, after the introduction, there is a bit freedom for the reader since there is two path for the story - either by selection the section \"More trees planted over the years?\" or the section \"Large variation in tree species?\". The idea is though that the reader should go through both sections and the conclusion can not be understood without reading both. \n",
    "\n",
    "The 3 categories mentioned in Segel and Heer for Visual Narrative is visual structuring, highlighting and transition guidance. \n",
    "\n",
    "Regarding visual structuring, our story follows a consistent visual platform. Besides the main sections there are no real meachanisms that can help the viewer to identify his/hers position within the story. However, when having all sections open, the reader can see everything what is in the story and no more visualisations or text will appear. Thus by opening all sections, the reader can see the scope of the story. In terms of highlighting, we use feature distinction by using consistent colors for the 10 districts such that they can not only be recognized by name but also by color. Also we use motion through the two heatmaps over time and furthermore the two heatmaps and all bokeh plots have a zoom function. We have no transition guidance but the section headlines which underlines a transition to a new question of interest. \n",
    "\n",
    "When thinking about the narrative structure of our story, the ordering is a mix of linear and user directed. When the user has chosen one of the two sections besides introduction and conclusion, the ordering of the story is linear and chosen by us (the authors). Regarding interactivity, we use both hover highlighting, filtering/selection/search and explicit instructions. Hover lighting is when the reader choose a district and its grapgh is highlighted on the visualisation. Selection is when the reader selects a page for viweing a visualisation for a given district. Finally the text provides suggestions to the reader selections on the interactive graphs. About the messaging, the story includes section headlines as already mentioned. Also, the visualisations are accompanyed by text ala an article to make the reader comprehend the story better. However, the visualisations are the main driver of the story and each text bite is refering to visualisations and connecting them. Finally the story includes an introduction section to motivate the analysis and some times through the story we wrap up main findings so far and thus give a short summary of the story.   \n",
    "\n",
    "Ref: http://vis.stanford.edu/files/2010-Narrative-InfoVis.pdf"
   ]
  },
  {
   "cell_type": "markdown",
   "metadata": {},
   "source": [
    "# Visualizations"
   ]
  },
  {
   "cell_type": "markdown",
   "metadata": {},
   "source": [
    "# Discussion"
   ]
  },
  {
   "cell_type": "markdown",
   "metadata": {},
   "source": [
    "# Contributions"
   ]
  }
 ],
 "metadata": {
  "kernelspec": {
   "display_name": "Python 3.9.1 64-bit",
   "name": "python391jvsc74a57bd035102f34d3bdac640e2569cd15da5c68d187c34a3d5c738579b8b36af75149df"
  },
  "language_info": {
   "name": "python",
   "version": ""
  },
  "metadata": {
   "interpreter": {
    "hash": "35102f34d3bdac640e2569cd15da5c68d187c34a3d5c738579b8b36af75149df"
   }
  },
  "orig_nbformat": 2
 },
 "nbformat": 4,
 "nbformat_minor": 2
}
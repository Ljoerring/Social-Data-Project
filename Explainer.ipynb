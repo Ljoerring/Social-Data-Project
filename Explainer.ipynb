{
 "cells": [
  {
   "cell_type": "markdown",
   "metadata": {},
   "source": [
    "# Motivation\n",
    "\n",
    "In this project we have been investigating if the municipality of Copenhagen are fullfilling the following two principles of their tree policy:\n",
    "\n",
    "1. There must be planted more trees in Copenhagen \n",
    "2. There should be a large variation in tree species in Copenhagen \n",
    "\n",
    "We thought this could be an exciting topic to investigate, because we both love nature and green enviroments. We also both live in Copenhagen and therefore it could be interesting to use our new data visualisations skills on something we could relate to.  \n",
    "To carry out this investigation we have been working with the following datasets. The dataset trae_basis is a dataset containing information about trees in Copenhagen. More specificaly it is dataset which contains the year a tree is planted, the species and where in the city it is. The dataset 2022419113038370864435KKIND3 is a dataset containing information of the average income in the districts of Copenhagen. The dataset 2022419114031370864435KKUDD2 is a dataset containing information of the average study year in the districts of Copenhagen. The dataset 2022426114414371694040KKAREAL is a dataset containing the size in km2 of each district in Copenhagen. \n",
    "\n",
    "We chose these datasets because we could use them for a thorough analysis in our investigation and answer if the municipality of Copenhagen arr fullfilling their tree policy. With the dataset of average income and average study year we could also explore the demographics in the districts of Copenhagen and see if it had influence in the trees being planted. With the dataset of the area we could find the number of trees being planted relative to size of the district it is in. \n",
    "\n",
    "The goal for our investigation was to give people a thourough analysis and answer if the municipality are fullfilling their tree policy. "
   ]
  },
  {
   "cell_type": "markdown",
   "metadata": {},
   "source": [
    "# Basic statistics\n",
    "All 4 datasets have been preprocessed in the file called \"Read_data_new.ipynb\". \n",
    "\n",
    "Trae_basis: \n",
    "The purpose of preprocessing this dataset were to make it ready for our analysis of the variation of different tree species. Secondly to merge it with the remaining three datasets for the analysis of more trees planted in Copenhagen. \n",
    "In this dataset we first looked at the variables and discarded the ones we did not find necesarry for our analysis. Then we chose to only use data from the time period 2000 and 2020, since too old data would be of use to answer if the municipality of Copenhagen is fullfilling their tree policy today. All the data variables were then changed to english instead of danish in order for us to reach a broader audience. The next step were to extract the geo data from a string and create a latitude and longitude variable.\n",
    "With the preprocessing complete we saved the dataframe as a csv file called \"df_tree\" so it was ready to use again. \n",
    "\n",
    "\n",
    "2022419113038370864435KKIND3 and 2022419114031370864435KKUDD2: \n",
    "These two dataset contains information of income and study year for the districts in Copenhagen. The variables names were both changed to english and both datasets were restructured to match the df_tree dataset. The study year were calculated as an average of educations lengths with a biased parameter. Both datasets were also saved as csv files like the tree dataset.\n",
    "\n",
    "2022426114414371694040KKAREAL:\n",
    "The last dataset contains information of area size in m2 of the districts in Copenhagen. The variables names were changed to english and the area size were calculated in km2 instead. This dataset were also saved as a csv file. \n",
    "\n",
    "For the analysis of the first research question all 4 datasets were merged into one dataset called df_genial and this dataset were used to analyse if Copenhagen are planting more trees.\n",
    "\n",
    "For the analysis of the second research question we only used the dataset df_tree.  \n",
    "\n"
   ]
  },
  {
   "cell_type": "markdown",
   "metadata": {},
   "source": [
    "# Data analysis\n",
    "\n",
    "Our data analysis is split into two research questions \"More trees planted over the years?\" and \"Large variation in tree species?\". \n",
    "In the first analysis the goal was to investigate if the municipality are plating more trees over. During this investigation we quickly discovered that overall there was a trend showing more and more trees were planted. We therefore got curious and wanted to test if this also was the case when looking at the different districts in Copenhagen. We tested this with a pairwise statistical test, which infact showed there was a statistical difference in number of trees planted in Østerbro and Nørrebro after 2007 compared to the reamining districts. Suddenly we had discovered something which could indicate the municipality was prioritzing richer districts in Copenhagen. We investigated if this was true by analysing if a linear regression model with average income and study year for the districts as input would be significant. This did not turn out to be true, since it was only year and district which were significant input variables in a model. \n",
    "We also discovered the large amount of trees planted in Nørrebro and Østerbro after 2007 were mainly in parks and new city areas. \n",
    "\n",
    "#### hey\n",
    "If we try to fit a model only using district and average income as explanatory variables, we will see an effect of average income on the number of planted trees. Why is that?? This effect is caused by the fact that the average income is highly correlated with time (which we also saw earlier on one of the interactive plot of average income over time) - so the effect we see when fitting such a model is actually the effect of time on the number of planted trees!\n",
    "\n",
    "\n",
    "In the second analysis we wanted to investigate if the municipality are having a large variation in tree species. We started with a plot showing how many trees of differnet species were platend for top 20 species in the time period 2000 to 2020. This plot showed a good distribution for the species. However there were still species which were being planted more than others and we wanted to look furhter into this by looking at the districts in Copenhagen. We discovered 4 districts which were favouring a species by planting this more than the others. We saw Lind was popular in Indre By because the trees where mostly streets trees and Eg popular in Østerbro because of the many growth areas. We came up with an idea to the municipality of Copenhagen of how the could distribute the species better by moving growth ares to Amager Vest and they could change the variation of species in Indre By and Brønshøj-Husum.\n",
    "\n"
   ]
  },
  {
   "cell_type": "markdown",
   "metadata": {},
   "source": [
    "# Genre\n",
    "<!-- Which genre of data story did you use?\n",
    "Which tools did you use from each of the 3 categories of Visual Narrative (Figure 7 in Segal and Heer). Why?\n",
    "Which tools did you use from each of the 3 categories of Narrative Structure (Figure 7 in Segal and Heer). Why?-->\n",
    "\n",
    "The main genre of our data story is magasine style due to the amount of text accompanying the visualisations and the clear ordering/path of the story. However, after the introduction, there is a bit freedom for the reader since there is two path for the story - either by selection the section \"More trees planted over the years?\" or the section \"Large variation in tree species?\". The idea is though that the reader should go through both sections and the conclusion can not be understood without reading both. \n",
    "\n",
    "The 3 categories mentioned in Segel and Heer for Visual Narrative is visual structuring, highlighting and transition guidance. \n",
    "\n",
    "Regarding visual structuring, our story follows a consistent visual platform. Besides the main sections there are no real meachanisms that can help the viewer to identify his/hers position within the story. However, when having all sections open, the reader can see everything what is in the story and no more visualisations or text will appear. Thus by opening all sections, the reader can see the scope of the story. In terms of highlighting, we use feature distinction by using consistent colors for the 10 districts such that they can not only be recognized by name but also by color. Also we use motion through the two heatmaps over time and furthermore the two heatmaps and all bokeh plots have a zoom function. We have no transition guidance but the section headlines which underlines a transition to a new question of interest. \n",
    "\n",
    "When thinking about the narrative structure of our story, the ordering is a mix of linear and user directed. When the user has chosen one of the two sections besides introduction and conclusion, the ordering of the story is linear and chosen by us (the authors). Regarding interactivity, we use both hover highlighting, filtering/selection/search and explicit instructions. Hover lighting is when the reader choose a district and its grapgh is highlighted on the visualisation. Selection is when the reader selects a page for viweing a visualisation for a given district. Finally the text provides suggestions to the reader selections on the interactive graphs. About the messaging, the story includes section headlines as already mentioned. Also, the visualisations are accompanyed by text ala an article to make the reader comprehend the story better. However, the visualisations are the main driver of the story and each text bite is refering to visualisations and connecting them. Finally the story includes an introduction section to motivate the analysis and some times through the story we wrap up main findings so far and thus give a short summary of the story.   \n",
    "\n",
    "Ref: http://vis.stanford.edu/files/2010-Narrative-InfoVis.pdf"
   ]
  },
  {
   "cell_type": "markdown",
   "metadata": {},
   "source": [
    "# Visualizations\n",
    "In this project we have been making a lot of visualisations. We have mostly been visualizing bar charts, line plots and heat maps, but we have also used statistical tests and showed outputs from these test. \n",
    "\n",
    "In our project we have used bar charts to visualise distributions of how many trees are being planted and how the variation in tree species are. This visualisations makes sense to use because we quickly get an overview of the distribution is and were we should focus our next step towards in the investigation. We were also able to make bokeh visualisations with bar charts to show distributions in the different districts.\n",
    "\n",
    "In our project we have used line plots to better visualise how things change over time. We visualised how the number of trees planted changed for the different districts, how the average income and study year change over time, to compare variables to check if the corelate and to see how well model performace was. These visualisations were crucial for our analysis and helped to show how dificult it is with linear models to capture sudden changes.\n",
    "\n",
    "We used heat maps to visualise where trees are being planted in differnet periods between 2000 to 2020. These visualisation made it possible to see exactly where in the districts trees were being planted and if the municipality had a specific focus. \n",
    "\n",
    "We have used statisticals test throughout the first analysis. In order for us to conclude anything from these test we had to look at outputs and stepwise eleminate input to models to get an informative model. We also used plots to show the variables against each other. \n",
    "\n",
    "\n",
    "\n",
    "been working with bar charts, line plots, \n"
   ]
  },
  {
   "cell_type": "markdown",
   "metadata": {},
   "source": [
    "# Discussion"
   ]
  },
  {
   "cell_type": "markdown",
   "metadata": {},
   "source": [
    "# Contributions"
   ]
  }
 ],
 "metadata": {
  "kernelspec": {
   "display_name": "Python 3.9.1 64-bit",
   "name": "python391jvsc74a57bd035102f34d3bdac640e2569cd15da5c68d187c34a3d5c738579b8b36af75149df"
  },
  "language_info": {
   "name": "python",
   "version": ""
  },
  "metadata": {
   "interpreter": {
    "hash": "35102f34d3bdac640e2569cd15da5c68d187c34a3d5c738579b8b36af75149df"
   }
  },
  "orig_nbformat": 2
 },
 "nbformat": 4,
 "nbformat_minor": 2
}

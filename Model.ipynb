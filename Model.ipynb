{
 "cells": [
  {
   "cell_type": "code",
   "execution_count": 132,
   "metadata": {},
   "outputs": [],
   "source": [
    "import numpy as np\n",
    "import pandas as pd \n",
    "import matplotlib.pyplot as plt\n",
    "from sklearn.model_selection import train_test_split\n",
    "from sklearn.linear_model import LinearRegression\n",
    "from sklearn.metrics import mean_absolute_error, r2_score, explained_variance_score\n",
    "from sklearn.preprocessing import MinMaxScaler\n",
    "from scipy import stats\n",
    "import statsmodels.api as sm\n",
    "import seaborn as sns\n",
    "\n",
    "np.random.seed(0)"
   ]
  },
  {
   "cell_type": "code",
   "execution_count": 133,
   "metadata": {},
   "outputs": [
    {
     "data": {
      "text/html": "<div>\n<style scoped>\n    .dataframe tbody tr th:only-of-type {\n        vertical-align: middle;\n    }\n\n    .dataframe tbody tr th {\n        vertical-align: top;\n    }\n\n    .dataframe thead th {\n        text-align: right;\n    }\n</style>\n<table border=\"1\" class=\"dataframe\">\n  <thead>\n    <tr style=\"text-align: right;\">\n      <th></th>\n      <th>year</th>\n      <th>district</th>\n      <th>number_planted_trees</th>\n      <th>number_unique_species</th>\n      <th>Formede træer</th>\n      <th>Gade- og allétræer</th>\n      <th>Park- og naturtræer</th>\n      <th>Private træer</th>\n      <th>Træer i bevoksninger</th>\n      <th>Gennemsnit for alle personer med indkomsten (kr.)</th>\n      <th>avg_study_year</th>\n    </tr>\n  </thead>\n  <tbody>\n    <tr>\n      <th>0</th>\n      <td>2008.0</td>\n      <td>Amager Vest</td>\n      <td>60</td>\n      <td>5</td>\n      <td>0.0</td>\n      <td>59.0</td>\n      <td>0.0</td>\n      <td>1.0</td>\n      <td>0.0</td>\n      <td>209245.0</td>\n      <td>13.152245</td>\n    </tr>\n    <tr>\n      <th>1</th>\n      <td>2008.0</td>\n      <td>Amager Øst</td>\n      <td>6</td>\n      <td>2</td>\n      <td>0.0</td>\n      <td>1.0</td>\n      <td>5.0</td>\n      <td>0.0</td>\n      <td>0.0</td>\n      <td>202575.0</td>\n      <td>13.077911</td>\n    </tr>\n    <tr>\n      <th>2</th>\n      <td>2008.0</td>\n      <td>Bispebjerg</td>\n      <td>17</td>\n      <td>2</td>\n      <td>0.0</td>\n      <td>17.0</td>\n      <td>0.0</td>\n      <td>0.0</td>\n      <td>0.0</td>\n      <td>190239.0</td>\n      <td>12.846948</td>\n    </tr>\n    <tr>\n      <th>3</th>\n      <td>2008.0</td>\n      <td>Brønshøj-Husum</td>\n      <td>101</td>\n      <td>2</td>\n      <td>0.0</td>\n      <td>101.0</td>\n      <td>0.0</td>\n      <td>0.0</td>\n      <td>0.0</td>\n      <td>203281.0</td>\n      <td>12.729431</td>\n    </tr>\n    <tr>\n      <th>4</th>\n      <td>2008.0</td>\n      <td>Indre By</td>\n      <td>33</td>\n      <td>4</td>\n      <td>5.0</td>\n      <td>28.0</td>\n      <td>0.0</td>\n      <td>0.0</td>\n      <td>0.0</td>\n      <td>258185.0</td>\n      <td>14.252449</td>\n    </tr>\n  </tbody>\n</table>\n</div>",
      "text/plain": "     year        district  number_planted_trees  number_unique_species  \\\n0  2008.0     Amager Vest                    60                      5   \n1  2008.0      Amager Øst                     6                      2   \n2  2008.0      Bispebjerg                    17                      2   \n3  2008.0  Brønshøj-Husum                   101                      2   \n4  2008.0        Indre By                    33                      4   \n\n   Formede træer  Gade- og allétræer  Park- og naturtræer  Private træer  \\\n0            0.0                59.0                  0.0            1.0   \n1            0.0                 1.0                  5.0            0.0   \n2            0.0                17.0                  0.0            0.0   \n3            0.0               101.0                  0.0            0.0   \n4            5.0                28.0                  0.0            0.0   \n\n   Træer i bevoksninger  Gennemsnit for alle personer med indkomsten (kr.)  \\\n0                   0.0                                           209245.0   \n1                   0.0                                           202575.0   \n2                   0.0                                           190239.0   \n3                   0.0                                           203281.0   \n4                   0.0                                           258185.0   \n\n   avg_study_year  \n0       13.152245  \n1       13.077911  \n2       12.846948  \n3       12.729431  \n4       14.252449  "
     },
     "execution_count": 133,
     "metadata": {},
     "output_type": "execute_result"
    }
   ],
   "source": [
    "# load data\n",
    "df = pd.read_csv('data/df_genial.csv')\n",
    "df = df.fillna(0)\n",
    "df.head()"
   ]
  },
  {
   "cell_type": "code",
   "execution_count": 134,
   "metadata": {},
   "outputs": [
    {
     "data": {
      "text/plain": "year                                                   int64\ndistrict                                              object\nnumber_planted_trees                                   int64\nnumber_unique_species                                  int64\nFormede træer                                          int64\nGade- og allétræer                                     int64\nPark- og naturtræer                                    int64\nPrivate træer                                          int64\nTræer i bevoksninger                                   int64\nGennemsnit for alle personer med indkomsten (kr.)    float64\navg_study_year                                       float64\ndtype: object"
     },
     "execution_count": 134,
     "metadata": {},
     "output_type": "execute_result"
    }
   ],
   "source": [
    "def get_types(df):\n",
    "    df['year'] = df['year'].astype(int)\n",
    "    df['Formede træer'] = df['Formede træer'].astype(int)\n",
    "    df['Gade- og allétræer'] = df['Gade- og allétræer'].astype(int)\n",
    "    df['Park- og naturtræer'] = df['Park- og naturtræer'].astype(int)\n",
    "    df['Private træer'] = df['Private træer'].astype(int)\n",
    "    df['Træer i bevoksninger'] = df['Træer i bevoksninger'].astype(int)\n",
    "    return df \n",
    "df = get_types(df)\n",
    "df.dtypes"
   ]
  },
  {
   "cell_type": "code",
   "execution_count": 135,
   "metadata": {},
   "outputs": [],
   "source": [
    "df['year'] = df['year']-2008"
   ]
  },
  {
   "cell_type": "code",
   "execution_count": 136,
   "metadata": {},
   "outputs": [
    {
     "name": "stdout",
     "output_type": "stream",
     "text": [
      "number of bins:  12\n"
     ]
    },
    {
     "data": {
      "image/png": "[encoded data removed]",
      "text/plain": "<Figure size 864x432 with 4 Axes>"
     },
     "metadata": {
      "needs_background": "light"
     },
     "output_type": "display_data"
    }
   ],
   "source": [
    "# Histogram of response variables - should be normal distributed for GLM\n",
    "nbins = int(np.ceil(np.sqrt(df.shape[0])))\n",
    "print('number of bins: ', nbins)\n",
    "fig, axes = plt.subplots(2,2, figsize = (12,6))\n",
    "sns.histplot(df['number_planted_trees'], bins=nbins, ax=axes[0,0])\n",
    "sns.histplot(df['Park- og naturtræer'], bins=nbins, ax=axes[0,1])\n",
    "sns.histplot(df['Gade- og allétræer'], bins=nbins, ax=axes[1,0])\n",
    "sns.histplot(df['Private træer'], bins=nbins, ax=axes[1,1])\n",
    "plt.tight_layout()\n",
    "plt.show()"
   ]
  },
  {
   "cell_type": "code",
   "execution_count": 137,
   "metadata": {},
   "outputs": [
    {
     "name": "stdout",
     "output_type": "stream",
     "text": [
      "0.18278001343830103\n"
     ]
    },
    {
     "data": {
      "image/png": "[encoded data removed]",
      "text/plain": "<Figure size 432x288 with 1 Axes>"
     },
     "metadata": {
      "needs_background": "light"
     },
     "output_type": "display_data"
    }
   ],
   "source": [
    "y_fitted, lambda_fitted = stats.boxcox(y)\n",
    "print(lambda_fitted)\n",
    "sns.histplot(y_fitted, bins = nbins)\n",
    "plt.show()"
   ]
  },
  {
   "cell_type": "code",
   "execution_count": 144,
   "metadata": {},
   "outputs": [
    {
     "name": "stdout",
     "output_type": "stream",
     "text": [
      "                            OLS Regression Results                            \n",
      "==============================================================================\n",
      "Dep. Variable:                      y   R-squared:                       0.612\n",
      "Model:                            OLS   Adj. R-squared:                  0.572\n",
      "Method:                 Least Squares   F-statistic:                     15.37\n",
      "Date:                Tue, 03 May 2022   Prob (F-statistic):           6.04e-19\n",
      "Time:                        11:12:48   Log-Likelihood:                -226.32\n",
      "No. Observations:                 130   AIC:                             478.6\n",
      "Df Residuals:                     117   BIC:                             515.9\n",
      "Df Model:                          12                                         \n",
      "Covariance Type:            nonrobust                                         \n",
      "=====================================================================================================================\n",
      "                                                        coef    std err          t      P>|t|      [0.025      0.975]\n",
      "---------------------------------------------------------------------------------------------------------------------\n",
      "const                                                10.5714      7.497      1.410      0.161      -4.276      25.419\n",
      "number_unique_species                                 0.2781      0.031      8.993      0.000       0.217       0.339\n",
      "Gennemsnit for alle personer med indkomsten (kr.) -1.222e-05   1.78e-05     -0.687      0.494   -4.74e-05     2.3e-05\n",
      "avg_study_year                                       -0.3654      0.858     -0.426      0.671      -2.065       1.334\n",
      "district_Amager Vest                                  2.1193      0.718      2.951      0.004       0.697       3.542\n",
      "district_Amager Øst                                   0.7282      0.772      0.943      0.348      -0.801       2.257\n",
      "district_Bispebjerg                                   1.2895      0.969      1.330      0.186      -0.630       3.209\n",
      "district_Brønshøj-Husum                              -0.0866      0.521     -0.166      0.868      -1.119       0.945\n",
      "district_Indre By                                     2.3588      0.852      2.770      0.007       0.672       4.045\n",
      "district_Nørrebro                                    -0.2535      1.598     -0.159      0.874      -3.419       2.912\n",
      "district_Valby                                        0.8439      0.634      1.331      0.186      -0.412       2.100\n",
      "district_Vanløse                                      1.0698      0.742      1.442      0.152      -0.399       2.539\n",
      "district_Vesterbro-Kongens Enghave                    0.7707      1.071      0.719      0.473      -1.351       2.892\n",
      "district_Østerbro                                     1.7314      0.984      1.760      0.081      -0.216       3.679\n",
      "==============================================================================\n",
      "Omnibus:                        6.504   Durbin-Watson:                   1.548\n",
      "Prob(Omnibus):                  0.039   Jarque-Bera (JB):                6.661\n",
      "Skew:                           0.383   Prob(JB):                       0.0358\n",
      "Kurtosis:                       3.801   Cond. No.                     1.73e+21\n",
      "==============================================================================\n",
      "\n",
      "Notes:\n",
      "[1] Standard Errors assume that the covariance matrix of the errors is correctly specified.\n",
      "[2] The smallest eigenvalue is 2.6e-30. This might indicate that there are\n",
      "strong multicollinearity problems or that the design matrix is singular.\n"
     ]
    }
   ],
   "source": [
    "# Modeling\n",
    "df_model = df.drop(columns=['Formede træer','Gade- og allétræer','Park- og naturtræer','Private træer','Træer i bevoksninger'])\n",
    "df_model = pd.get_dummies(df_model)\n",
    "\n",
    "# OLS\n",
    "X = sm.add_constant(df_model.drop(columns=['number_planted_trees','year']))\n",
    "est = sm.OLS(y_fitted, X)\n",
    "est2 = est.fit()\n",
    "print(est2.summary())"
   ]
  },
  {
   "cell_type": "code",
   "execution_count": 111,
   "metadata": {},
   "outputs": [],
   "source": [
    "# Modeling\n",
    "df = df.fillna(0)\n",
    "df = pd.get_dummies(df)\n",
    "X = df.drop(columns=['number_planted_trees','Formede træer','Gade- og allétræer','Park- og naturtræer','Private træer','Træer i bevoksninger'])\n",
    "X_train, X_test, y_train, y_test = train_test_split(X,y_fitted, test_size=0.25)"
   ]
  },
  {
   "cell_type": "code",
   "execution_count": 112,
   "metadata": {},
   "outputs": [
    {
     "name": "stdout",
     "output_type": "stream",
     "text": [
      "----------------------\n",
      "Linear Regression: \n",
      "MAE  1.3910321346367525\n",
      "R2  0.5696271864783975\n",
      "Explained variance  0.5696339866139608\n",
      "----------------------\n"
     ]
    }
   ],
   "source": [
    "# Linear Regression\n",
    "linear_regression = LinearRegression().fit(X_train, y_train)\n",
    "y_pred = linear_regression.predict(X_test)\n",
    "\n",
    "MAE_linear_regression = mean_absolute_error(y_test, y_pred)\n",
    "r2_linear_regression = r2_score(y_test, y_pred)\n",
    "var_linear_regression = explained_variance_score(y_test, y_pred)\n",
    "print(\"----------------------\")\n",
    "print(\"Linear Regression: \")\n",
    "print(\"MAE \", MAE_linear_regression)\n",
    "print(\"R2 \", r2_linear_regression)\n",
    "print(\"Explained variance \", var_linear_regression)\n",
    "print(\"----------------------\")"
   ]
  },
  {
   "cell_type": "code",
   "execution_count": 113,
   "metadata": {},
   "outputs": [
    {
     "name": "stdout",
     "output_type": "stream",
     "text": [
      "intercept:  -13.850407430812346\n"
     ]
    },
    {
     "data": {
      "text/html": "<div>\n<style scoped>\n    .dataframe tbody tr th:only-of-type {\n        vertical-align: middle;\n    }\n\n    .dataframe tbody tr th {\n        vertical-align: top;\n    }\n\n    .dataframe thead th {\n        text-align: right;\n    }\n</style>\n<table border=\"1\" class=\"dataframe\">\n  <thead>\n    <tr style=\"text-align: right;\">\n      <th></th>\n      <th>0</th>\n    </tr>\n  </thead>\n  <tbody>\n    <tr>\n      <th>-0.203692</th>\n      <td>year</td>\n    </tr>\n    <tr>\n      <th>0.230860</th>\n      <td>number_unique_species</td>\n    </tr>\n    <tr>\n      <th>-0.000007</th>\n      <td>Gennemsnit for alle personer med indkomsten (kr.)</td>\n    </tr>\n    <tr>\n      <th>1.488668</th>\n      <td>avg_study_year</td>\n    </tr>\n    <tr>\n      <th>0.722618</th>\n      <td>district_Amager Vest</td>\n    </tr>\n    <tr>\n      <th>0.029874</th>\n      <td>district_Amager Øst</td>\n    </tr>\n    <tr>\n      <th>0.926838</th>\n      <td>district_Bispebjerg</td>\n    </tr>\n    <tr>\n      <th>0.482591</th>\n      <td>district_Brønshøj-Husum</td>\n    </tr>\n    <tr>\n      <th>-0.946108</th>\n      <td>district_Indre By</td>\n    </tr>\n    <tr>\n      <th>-1.301133</th>\n      <td>district_Nørrebro</td>\n    </tr>\n    <tr>\n      <th>1.169496</th>\n      <td>district_Valby</td>\n    </tr>\n    <tr>\n      <th>-0.199795</th>\n      <td>district_Vanløse</td>\n    </tr>\n    <tr>\n      <th>-0.711680</th>\n      <td>district_Vesterbro-Kongens Enghave</td>\n    </tr>\n    <tr>\n      <th>-0.172702</th>\n      <td>district_Østerbro</td>\n    </tr>\n  </tbody>\n</table>\n</div>",
      "text/plain": "                                                           0\n-0.203692                                               year\n 0.230860                              number_unique_species\n-0.000007  Gennemsnit for alle personer med indkomsten (kr.)\n 1.488668                                     avg_study_year\n 0.722618                               district_Amager Vest\n 0.029874                                district_Amager Øst\n 0.926838                                district_Bispebjerg\n 0.482591                            district_Brønshøj-Husum\n-0.946108                                  district_Indre By\n-1.301133                                  district_Nørrebro\n 1.169496                                     district_Valby\n-0.199795                                   district_Vanløse\n-0.711680                 district_Vesterbro-Kongens Enghave\n-0.172702                                  district_Østerbro"
     },
     "execution_count": 113,
     "metadata": {},
     "output_type": "execute_result"
    }
   ],
   "source": [
    "print('intercept: ', linear_regression.intercept_)\n",
    "linear_regression.coef_\n",
    "linear_regression.feature_names_in_\n",
    "pd.DataFrame(linear_regression.feature_names_in_, linear_regression.coef_)\n"
   ]
  },
  {
   "cell_type": "code",
   "execution_count": null,
   "metadata": {},
   "outputs": [],
   "source": []
  }
 ],
 "metadata": {
  "kernelspec": {
   "display_name": "Python 3.9.1 64-bit ('SocialData': conda)",
   "name": "python391jvsc74a57bd035102f34d3bdac640e2569cd15da5c68d187c34a3d5c738579b8b36af75149df"
  },
  "language_info": {
   "codemirror_mode": {
    "name": "ipython",
    "version": 3
   },
   "file_extension": ".py",
   "mimetype": "text/x-python",
   "name": "python",
   "nbconvert_exporter": "python",
   "pygments_lexer": "ipython3",
   "version": "3.9.1"
  },
  "metadata": {
   "interpreter": {
    "hash": "35102f34d3bdac640e2569cd15da5c68d187c34a3d5c738579b8b36af75149df"
   }
  },
  "orig_nbformat": 2
 },
 "nbformat": 4,
 "nbformat_minor": 2
}
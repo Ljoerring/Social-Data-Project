{
 "cells": [
  {
   "cell_type": "code",
   "execution_count": 8,
   "metadata": {},
   "outputs": [],
   "source": [
    "import pandas as pd\n",
    "import os \n",
    "import matplotlib.pyplot as plt \n",
    "import re\n",
    "import numpy as np"
   ]
  },
  {
   "cell_type": "code",
   "execution_count": 9,
   "metadata": {},
   "outputs": [],
   "source": [
    "# load tree data from the municipality of Copenhagen \n",
    "cols = ['id','ny_dm_element','slaegtsnavn','planteaar','bydelsnavn','vejnavn','placering','wkb_geometry']\n",
    "df = pd.read_csv('raw_data/trae_basis.csv',sep=',',usecols=cols)\n",
    "\n",
    "# prepare tree data for analysis\n",
    "df = df[df[\"planteaar\"] >= 2000] # get data from 2000 and after \n",
    "df = df.dropna(subset=['planteaar']) # remove samples with unknown plant year \n",
    "df.columns = ['id','type','species','year','district','street','street_location','coordinates']\n",
    "\n",
    "# Get the X and Y coordinates for geodata plot\n",
    "def get_x(row):\n",
    "    x = re.findall(r\"[-+]?\\d*\\.\\d+|\\d+\", row)[0]\n",
    "    return float(x)\n",
    "def get_y(row):\n",
    "    y = re.findall(r\"[-+]?\\d*\\.\\d+|\\d+\", row)[1]\n",
    "    return float(y)\n",
    "\n",
    "df['X'] = df['coordinates'].apply(get_x)\n",
    "df['Y'] = df['coordinates'].apply(get_y)\n",
    "df = df.drop(columns = [\"coordinates\"])\n",
    "\n",
    "# save tree data for exploratory tree \n",
    "df.year = df.year.apply(int)\n",
    "df = df[df['year']<2022]\n",
    "df.to_csv('data/df_tree.csv', index=False) "
   ]
  },
  {
   "cell_type": "code",
   "execution_count": 20,
   "metadata": {},
   "outputs": [],
   "source": [
    "# load income data from the municipality of Copenhagen \n",
    "df1 = pd.read_excel('raw_data/2022419113038370864435KKIND3.xlsx', header=2, usecols = \"C:Y\")\n",
    "df1.rename(columns = {'Unnamed: 2':'income_type', 'Unnamed: 3':'district'}, inplace = True)\n",
    "df1['income_type'] = df1['income_type'].fillna(method='ffill')\n",
    "df1['district'] = df1['district'].str.replace(\"Bydel - \", \"\")\n",
    "df1['district'] = df1['district'].str.replace(\"/\", \"-\")\n",
    "df1 = df1[df1['district']!='København i alt']\n",
    "\n",
    "df_income = df1.melt(id_vars=[\"district\",\"income_type\"],var_name=\"year\", value_name=\"total\")\n",
    "df_income = (pd.pivot_table(df_income, values = \"total\", index = [\"year\", \"district\"], columns = [\"income_type\"], aggfunc = \"sum\")).reset_index()\n",
    "df_income = df_income.drop(columns=['Indkomstbeløb (1.000 kr.)','Personer med indkomsten (antal)'])\n",
    "df_income.rename(columns={'Gennemsnit for alle personer med indkomsten (kr.)': 'avg_income'}, inplace=True)\n",
    "df_income['year'] = df_income['year'].astype(int)\n",
    "df_income.to_csv('data/df_income.csv', index=False) # save income data"
   ]
  },
  {
   "cell_type": "code",
   "execution_count": 21,
   "metadata": {},
   "outputs": [],
   "source": [
    "# load education data \n",
    "df2 = pd.read_excel('raw_data/2022419114031370864435KKUDD2.xlsx', header =2, usecols = \"C:R\")\n",
    "df2.rename(columns = {'Unnamed: 2':'race', 'Unnamed: 3':'education', 'Unnamed: 4':'district'}, inplace = True)\n",
    "df2['race'] = df2['race'].fillna(method='ffill')\n",
    "df2['education'] = df2['education'].fillna(method='ffill')\n",
    "df2['district'] = df2['district'].str.replace(\"Bydel - \", \"\")\n",
    "df2['district'] = df2['district'].str.replace(\"/\", \"-\")\n",
    "df2 = df2[df2['district']!='København i alt']\n",
    "\n",
    "df_education = df2.melt(id_vars=[\"district\",\"race\", \"education\"], var_name=\"year\", value_name=\"total_educated\")\n",
    "df_education['year'] = df_education['year'].apply(int)\n",
    "df_race = (pd.pivot_table(df_education, values = \"total_educated\", index = [\"year\", \"district\"], columns = [\"race\"], aggfunc = \"sum\")).reset_index()\n",
    "df_level = (pd.pivot_table(df_education, values = \"total_educated\", index = [\"year\", \"district\"], columns = [\"education\"], aggfunc = \"sum\")).reset_index()\n",
    "\n",
    "df_merged = pd.merge(df_race,df_level)\n",
    "\n",
    "# Get average number of years in education per district\n",
    "grundskole = 10\n",
    "erhvervsfaglig = grundskole + 2\n",
    "gymnasiel = grundskole + 3\n",
    "lang_videregående = gymnasiel + (5+8)/2\n",
    "mellem_videregående = gymnasiel + 3\n",
    "\n",
    "# calculate average number of study year per district\n",
    "df_merged['total_study_year'] = (df_merged['Erhvervsfaglige og korte videregående uddannelser']*erhvervsfaglig\n",
    "+ df_merged['Grundskole og uoplyst mv.']*grundskole\n",
    "+ df_merged['Gymnasiale uddannelser og adgangsgivende uddannelsesforløb']*gymnasiel\n",
    "+ df_merged['Lange videregående uddannelser og Ph.d og forskeruddannelser']*lang_videregående\n",
    "+ df_merged['Mellemlange videregående uddannelser og bacheloruddannelser']*mellem_videregående)\n",
    "df_merged['total_educated'] = df_merged[['Erhvervsfaglige og korte videregående uddannelser','Grundskole og uoplyst mv.','Gymnasiale uddannelser og adgangsgivende uddannelsesforløb','Lange videregående uddannelser og Ph.d og forskeruddannelser','Mellemlange videregående uddannelser og bacheloruddannelser']].sum(axis=1)\n",
    "df_merged['avg_study_year'] = df_merged.total_study_year/df_merged.total_educated\n",
    "\n",
    "df_merged.to_csv('data/df_education.csv', index=False) # save education data "
   ]
  },
  {
   "cell_type": "code",
   "execution_count": 22,
   "metadata": {},
   "outputs": [],
   "source": [
    "# load area size data \n",
    "df_size = pd.read_excel('raw_data/2022426114414371694040KKAREAL.xlsx', header=2, usecols = \"B:K\")\n",
    "df_size = (df_size.dropna()).transpose()\n",
    "df_size = df_size.reset_index()\n",
    "df_size.rename(columns = {\"index\":'district', 0:'area_m2'}, inplace = True)\n",
    "df_size['district'] = df_size['district'].str.replace(\"Bydel - \", \"\")\n",
    "df_size['district'] = df_size['district'].str.replace(\"/\", \"-\")\n",
    "df_size['district'] = df_size['district'].str.replace(\"Kgs\", \"Kongens\")\n",
    "df_size['area_km2'] = df_size['area_m2']/(1000*1000)\n",
    "df_size.to_csv('data/df_size.csv', index=False) # save area size data "
   ]
  },
  {
   "cell_type": "code",
   "execution_count": 23,
   "metadata": {},
   "outputs": [],
   "source": [
    "## Merge datasets\n",
    "\n",
    "# Get number of planted trees and number of unique species per year per district \n",
    "data_tree = (df.groupby(['year','district']).size()).reset_index()\n",
    "df_species = df[['year','district','species']].groupby(['year','district']).nunique()\n",
    "df_species =  df_species.reset_index()\n",
    "df_tree_merged = pd.merge(data_tree,df_species)\n",
    "\n",
    "# Get number of planted tree types per year per district \n",
    "df_type = df[['year','district','type','id']].groupby(['year','district','type']).count()\n",
    "data_type = (df_type.pivot_table(index=['year','district'],columns='type', values='id')).reset_index()\n",
    "data_type = data_type.fillna(0)\n",
    "data_type = data_type.drop(columns='0')\n",
    "\n",
    "# Merge above dataframes \n",
    "df_tree_merged = pd.merge(df_tree_merged, data_type)\n",
    "df_tree_merged.rename(columns={0: 'number_planted_trees'}, inplace=True)\n",
    "\n",
    "# load area size data\n",
    "df_tree_final = pd.merge(df_tree_merged,df_size[['district','area_km2']])\n",
    "df_tree_final['trees_km2'] = df_tree_final.number_planted_trees/df_tree_final.area_km2 \n",
    "\n",
    "df_genial = pd.merge(pd.merge(df_tree_final,df_income),df_merged[['year','district','avg_study_year']], how='outer')\n",
    "df_genial.to_csv('data/df_genial.csv', index=False)"
   ]
  }
 ],
 "metadata": {
  "interpreter": {
   "hash": "fd10ce66b02ffab33161025f9ce872921483e68578b0c421a37b8bec3f5cf27b"
  },
  "kernelspec": {
   "display_name": "Python 3.9.1 64-bit ('SocialData': conda)",
   "name": "python391jvsc74a57bd035102f34d3bdac640e2569cd15da5c68d187c34a3d5c738579b8b36af75149df"
  },
  "language_info": {
   "name": "python",
   "version": ""
  },
  "metadata": {
   "interpreter": {
    "hash": "35102f34d3bdac640e2569cd15da5c68d187c34a3d5c738579b8b36af75149df"
   }
  },
  "orig_nbformat": 4
 },
 "nbformat": 4,
 "nbformat_minor": 2
}
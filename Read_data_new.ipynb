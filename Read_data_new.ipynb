{
 "cells": [
  {
   "cell_type": "code",
   "execution_count": 1,
   "metadata": {},
   "outputs": [],
   "source": [
    "import pandas as pd\n",
    "import os \n",
    "import matplotlib.pyplot as plt \n",
    "import re\n",
    "import numpy as np"
   ]
  },
  {
   "cell_type": "code",
   "execution_count": 2,
   "metadata": {},
   "outputs": [],
   "source": [
    "# load tree data from the municipality of Copenhagen \n",
    "cols = ['id','ny_dm_element','slaegtsnavn','planteaar','bydelsnavn','vejnavn','placering','wkb_geometry']\n",
    "df = pd.read_csv('raw_data/trae_basis.csv',sep=',',usecols=cols)\n",
    "\n",
    "# prepare tree data for analysis\n",
    "df = df[df[\"planteaar\"] >= 2000] # get data from 2000 and after \n",
    "df = df.dropna(subset=['planteaar']) # remove samples with unknown plant year \n",
    "df.columns = ['id','type','species','year','district','street','street_location','coordinates']\n"
   ]
  },
  {
   "cell_type": "code",
   "execution_count": 3,
   "metadata": {},
   "outputs": [],
   "source": [
    "# Get the X and Y coordinates for geodata plot\n",
    "def get_x(row):\n",
    "    x = re.findall(r\"[-+]?\\d*\\.\\d+|\\d+\", row)[0]\n",
    "    return float(x)\n",
    "def get_y(row):\n",
    "    y = re.findall(r\"[-+]?\\d*\\.\\d+|\\d+\", row)[1]\n",
    "    return float(y)\n",
    "\n",
    "\n",
    "df['X'] = df['coordinates'].apply(get_x)\n",
    "df['Y'] = df['coordinates'].apply(get_y)\n",
    "df = df.drop(columns = [\"coordinates\"])\n",
    "\n",
    "\n",
    "# save tree data for exploratory tree \n",
    "df.to_csv('data/df_tree.csv', index=False) "
   ]
  }
 ],
 "metadata": {
  "interpreter": {
   "hash": "fd10ce66b02ffab33161025f9ce872921483e68578b0c421a37b8bec3f5cf27b"
  },
  "kernelspec": {
   "display_name": "Python 3.9.1 ('base')",
   "language": "python",
   "name": "python3"
  },
  "language_info": {
   "codemirror_mode": {
    "name": "ipython",
    "version": 3
   },
   "file_extension": ".py",
   "mimetype": "text/x-python",
   "name": "python",
   "nbconvert_exporter": "python",
   "pygments_lexer": "ipython3",
   "version": "3.9.1"
  },
  "orig_nbformat": 4
 },
 "nbformat": 4,
 "nbformat_minor": 2
}

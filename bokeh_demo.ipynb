{
 "cells": [
  {
   "cell_type": "code",
   "execution_count": 8,
   "metadata": {},
   "outputs": [],
   "source": [
    "import pandas as pd\n",
    "import os \n",
    "import matplotlib.pyplot as plt \n",
    "import numpy as np\n",
    "import seaborn as sns\n",
    "# For bokeh visualisations\n",
    "from bokeh.plotting import figure\n",
    "from bokeh.models.widgets import Panel, Tabs\n",
    "from bokeh.io import show, output_notebook, reset_output\n",
    "from bokeh.models import ColumnDataSource, HoverTool, Legend\n",
    "from bokeh.layouts import row"
   ]
  },
  {
   "cell_type": "code",
   "execution_count": 2,
   "metadata": {},
   "outputs": [],
   "source": [
    "# load data\n",
    "df_tree = pd.read_csv('data/df_tree.csv')\n",
    "df_income = pd.read_csv('data/df_income.csv')\n",
    "df_education = pd.read_csv('data/df_education.csv')"
   ]
  },
  {
   "cell_type": "code",
   "execution_count": 3,
   "metadata": {},
   "outputs": [],
   "source": [
    "# Get average number of years in education per district\n",
    "grundskole = 10\n",
    "erhvervsfaglig = grundskole + 2\n",
    "gymnasiel = grundskole + 3\n",
    "lang_videregående = gymnasiel + (5+8)/2\n",
    "mellem_videregående = gymnasiel + 3\n",
    "\n",
    "# calculate average number of study year per district\n",
    "df_education['total_study_year'] = (df_education['Erhvervsfaglige og korte videregående uddannelser']*erhvervsfaglig\n",
    "+ df_education['Grundskole og uoplyst mv.']*grundskole\n",
    "+ df_education['Gymnasiale uddannelser og adgangsgivende uddannelsesforløb']*gymnasiel\n",
    "+ df_education['Lange videregående uddannelser og Ph.d og forskeruddannelser']*lang_videregående\n",
    "+ df_education['Mellemlange videregående uddannelser og bacheloruddannelser']*mellem_videregående)\n",
    "df_education['total_educated'] = df_education[['Erhvervsfaglige og korte videregående uddannelser','Grundskole og uoplyst mv.','Gymnasiale uddannelser og adgangsgivende uddannelsesforløb','Lange videregående uddannelser og Ph.d og forskeruddannelser','Mellemlange videregående uddannelser og bacheloruddannelser']].sum(axis=1)\n",
    "df_education['avg_study_year'] = df_education.total_study_year/df_education.total_educated"
   ]
  },
  {
   "cell_type": "code",
   "execution_count": 4,
   "metadata": {},
   "outputs": [
    {
     "data": {
      "text/html": [
       "<div>\n",
       "<style scoped>\n",
       "    .dataframe tbody tr th:only-of-type {\n",
       "        vertical-align: middle;\n",
       "    }\n",
       "\n",
       "    .dataframe tbody tr th {\n",
       "        vertical-align: top;\n",
       "    }\n",
       "\n",
       "    .dataframe thead th {\n",
       "        text-align: right;\n",
       "    }\n",
       "</style>\n",
       "<table border=\"1\" class=\"dataframe\">\n",
       "  <thead>\n",
       "    <tr style=\"text-align: right;\">\n",
       "      <th></th>\n",
       "      <th>year</th>\n",
       "      <th>district</th>\n",
       "      <th>avg_income</th>\n",
       "      <th>avg_study_year</th>\n",
       "    </tr>\n",
       "  </thead>\n",
       "  <tbody>\n",
       "    <tr>\n",
       "      <th>0</th>\n",
       "      <td>2008</td>\n",
       "      <td>Amager Vest</td>\n",
       "      <td>209245.0</td>\n",
       "      <td>13.152245</td>\n",
       "    </tr>\n",
       "    <tr>\n",
       "      <th>1</th>\n",
       "      <td>2008</td>\n",
       "      <td>Amager Øst</td>\n",
       "      <td>202575.0</td>\n",
       "      <td>13.077911</td>\n",
       "    </tr>\n",
       "    <tr>\n",
       "      <th>2</th>\n",
       "      <td>2008</td>\n",
       "      <td>Bispebjerg</td>\n",
       "      <td>190239.0</td>\n",
       "      <td>12.846948</td>\n",
       "    </tr>\n",
       "    <tr>\n",
       "      <th>3</th>\n",
       "      <td>2008</td>\n",
       "      <td>Brønshøj-Husum</td>\n",
       "      <td>203281.0</td>\n",
       "      <td>12.729431</td>\n",
       "    </tr>\n",
       "    <tr>\n",
       "      <th>4</th>\n",
       "      <td>2008</td>\n",
       "      <td>Indre By</td>\n",
       "      <td>258185.0</td>\n",
       "      <td>14.252449</td>\n",
       "    </tr>\n",
       "  </tbody>\n",
       "</table>\n",
       "</div>"
      ],
      "text/plain": [
       "   year        district  avg_income  avg_study_year\n",
       "0  2008     Amager Vest    209245.0       13.152245\n",
       "1  2008      Amager Øst    202575.0       13.077911\n",
       "2  2008      Bispebjerg    190239.0       12.846948\n",
       "3  2008  Brønshøj-Husum    203281.0       12.729431\n",
       "4  2008        Indre By    258185.0       14.252449"
      ]
     },
     "execution_count": 4,
     "metadata": {},
     "output_type": "execute_result"
    }
   ],
   "source": [
    "# Explore demo data \n",
    "df_demo = pd.merge(df_income,df_education)\n",
    "df_demo = df_demo[['year','district','Gennemsnit for alle personer med indkomsten (kr.)','avg_study_year']]\n",
    "df_demo.columns = ['year','district','avg_income','avg_study_year']\n",
    "df_demo.head()"
   ]
  },
  {
   "cell_type": "code",
   "execution_count": 11,
   "metadata": {},
   "outputs": [
    {
     "data": {
      "text/html": [
       "\n",
       "    <div class=\"bk-root\">\n",
       "        <a href=\"https://bokeh.org\" target=\"_blank\" class=\"bk-logo bk-logo-small bk-logo-notebook\"></a>\n",
       "        <span id=\"2309\">Loading BokehJS ...</span>\n",
       "    </div>"
      ]
     },
     "metadata": {},
     "output_type": "display_data"
    },
    {
     "data": {
      "application/javascript": "\n(function(root) {\n  function now() {\n    return new Date();\n  }\n\n  const force = true;\n\n  if (typeof root._bokeh_onload_callbacks === \"undefined\" || force === true) {\n    root._bokeh_onload_callbacks = [];\n    root._bokeh_is_loading = undefined;\n  }\n\n  const JS_MIME_TYPE = 'application/javascript';\n  const HTML_MIME_TYPE = 'text/html';\n  const EXEC_MIME_TYPE = 'application/vnd.bokehjs_exec.v0+json';\n  const CLASS_NAME = 'output_bokeh rendered_html';\n\n  /**\n   * Render data to the DOM node\n   */\n  function render(props, node) {\n    const script = document.createElement(\"script\");\n    node.appendChild(script);\n  }\n\n  /**\n   * Handle when an output is cleared or removed\n   */\n  function handleClearOutput(event, handle) {\n    const cell = handle.cell;\n\n    const id = cell.output_area._bokeh_element_id;\n    const server_id = cell.output_area._bokeh_server_id;\n    // Clean up Bokeh references\n    if (id != null && id in Bokeh.index) {\n      Bokeh.index[id].model.document.clear();\n      delete Bokeh.index[id];\n    }\n\n    if (server_id !== undefined) {\n      // Clean up Bokeh references\n      const cmd_clean = \"from bokeh.io.state import curstate; print(curstate().uuid_to_server['\" + server_id + \"'].get_sessions()[0].document.roots[0]._id)\";\n      cell.notebook.kernel.execute(cmd_clean, {\n        iopub: {\n          output: function(msg) {\n            const id = msg.content.text.trim();\n            if (id in Bokeh.index) {\n              Bokeh.index[id].model.document.clear();\n              delete Bokeh.index[id];\n            }\n          }\n        }\n      });\n      // Destroy server and session\n      const cmd_destroy = \"import bokeh.io.notebook as ion; ion.destroy_server('\" + server_id + \"')\";\n      cell.notebook.kernel.execute(cmd_destroy);\n    }\n  }\n\n  /**\n   * Handle when a new output is added\n   */\n  function handleAddOutput(event, handle) {\n    const output_area = handle.output_area;\n    const output = handle.output;\n\n    // limit handleAddOutput to display_data with EXEC_MIME_TYPE content only\n    if ((output.output_type != \"display_data\") || (!Object.prototype.hasOwnProperty.call(output.data, EXEC_MIME_TYPE))) {\n      return\n    }\n\n    const toinsert = output_area.element.find(\".\" + CLASS_NAME.split(' ')[0]);\n\n    if (output.metadata[EXEC_MIME_TYPE][\"id\"] !== undefined) {\n      toinsert[toinsert.length - 1].firstChild.textContent = output.data[JS_MIME_TYPE];\n      // store reference to embed id on output_area\n      output_area._bokeh_element_id = output.metadata[EXEC_MIME_TYPE][\"id\"];\n    }\n    if (output.metadata[EXEC_MIME_TYPE][\"server_id\"] !== undefined) {\n      const bk_div = document.createElement(\"div\");\n      bk_div.innerHTML = output.data[HTML_MIME_TYPE];\n      const script_attrs = bk_div.children[0].attributes;\n      for (let i = 0; i < script_attrs.length; i++) {\n        toinsert[toinsert.length - 1].firstChild.setAttribute(script_attrs[i].name, script_attrs[i].value);\n        toinsert[toinsert.length - 1].firstChild.textContent = bk_div.children[0].textContent\n      }\n      // store reference to server id on output_area\n      output_area._bokeh_server_id = output.metadata[EXEC_MIME_TYPE][\"server_id\"];\n    }\n  }\n\n  function register_renderer(events, OutputArea) {\n\n    function append_mime(data, metadata, element) {\n      // create a DOM node to render to\n      const toinsert = this.create_output_subarea(\n        metadata,\n        CLASS_NAME,\n        EXEC_MIME_TYPE\n      );\n      this.keyboard_manager.register_events(toinsert);\n      // Render to node\n      const props = {data: data, metadata: metadata[EXEC_MIME_TYPE]};\n      render(props, toinsert[toinsert.length - 1]);\n      element.append(toinsert);\n      return toinsert\n    }\n\n    /* Handle when an output is cleared or removed */\n    events.on('clear_output.CodeCell', handleClearOutput);\n    events.on('delete.Cell', handleClearOutput);\n\n    /* Handle when a new output is added */\n    events.on('output_added.OutputArea', handleAddOutput);\n\n    /**\n     * Register the mime type and append_mime function with output_area\n     */\n    OutputArea.prototype.register_mime_type(EXEC_MIME_TYPE, append_mime, {\n      /* Is output safe? */\n      safe: true,\n      /* Index of renderer in `output_area.display_order` */\n      index: 0\n    });\n  }\n\n  // register the mime type if in Jupyter Notebook environment and previously unregistered\n  if (root.Jupyter !== undefined) {\n    const events = require('base/js/events');\n    const OutputArea = require('notebook/js/outputarea').OutputArea;\n\n    if (OutputArea.prototype.mime_types().indexOf(EXEC_MIME_TYPE) == -1) {\n      register_renderer(events, OutputArea);\n    }\n  }\n\n  \n  if (typeof (root._bokeh_timeout) === \"undefined\" || force === true) {\n    root._bokeh_timeout = Date.now() + 5000;\n    root._bokeh_failed_load = false;\n  }\n\n  const NB_LOAD_WARNING = {'data': {'text/html':\n     \"<div style='background-color: #fdd'>\\n\"+\n     \"<p>\\n\"+\n     \"BokehJS does not appear to have successfully loaded. If loading BokehJS from CDN, this \\n\"+\n     \"may be due to a slow or bad network connection. Possible fixes:\\n\"+\n     \"</p>\\n\"+\n     \"<ul>\\n\"+\n     \"<li>re-rerun `output_notebook()` to attempt to load from CDN again, or</li>\\n\"+\n     \"<li>use INLINE resources instead, as so:</li>\\n\"+\n     \"</ul>\\n\"+\n     \"<code>\\n\"+\n     \"from bokeh.resources import INLINE\\n\"+\n     \"output_notebook(resources=INLINE)\\n\"+\n     \"</code>\\n\"+\n     \"</div>\"}};\n\n  function display_loaded() {\n    const el = document.getElementById(\"2309\");\n    if (el != null) {\n      el.textContent = \"BokehJS is loading...\";\n    }\n    if (root.Bokeh !== undefined) {\n      if (el != null) {\n        el.textContent = \"BokehJS \" + root.Bokeh.version + \" successfully loaded.\";\n      }\n    } else if (Date.now() < root._bokeh_timeout) {\n      setTimeout(display_loaded, 100)\n    }\n  }\n\n\n  function run_callbacks() {\n    try {\n      root._bokeh_onload_callbacks.forEach(function(callback) {\n        if (callback != null)\n          callback();\n      });\n    } finally {\n      delete root._bokeh_onload_callbacks\n    }\n    console.debug(\"Bokeh: all callbacks have finished\");\n  }\n\n  function load_libs(css_urls, js_urls, callback) {\n    if (css_urls == null) css_urls = [];\n    if (js_urls == null) js_urls = [];\n\n    root._bokeh_onload_callbacks.push(callback);\n    if (root._bokeh_is_loading > 0) {\n      console.debug(\"Bokeh: BokehJS is being loaded, scheduling callback at\", now());\n      return null;\n    }\n    if (js_urls == null || js_urls.length === 0) {\n      run_callbacks();\n      return null;\n    }\n    console.debug(\"Bokeh: BokehJS not loaded, scheduling load and callback at\", now());\n    root._bokeh_is_loading = css_urls.length + js_urls.length;\n\n    function on_load() {\n      root._bokeh_is_loading--;\n      if (root._bokeh_is_loading === 0) {\n        console.debug(\"Bokeh: all BokehJS libraries/stylesheets loaded\");\n        run_callbacks()\n      }\n    }\n\n    function on_error(url) {\n      console.error(\"failed to load \" + url);\n    }\n\n    for (let i = 0; i < css_urls.length; i++) {\n      const url = css_urls[i];\n      const element = document.createElement(\"link\");\n      element.onload = on_load;\n      element.onerror = on_error.bind(null, url);\n      element.rel = \"stylesheet\";\n      element.type = \"text/css\";\n      element.href = url;\n      console.debug(\"Bokeh: injecting link tag for BokehJS stylesheet: \", url);\n      document.body.appendChild(element);\n    }\n\n    for (let i = 0; i < js_urls.length; i++) {\n      const url = js_urls[i];\n      const element = document.createElement('script');\n      element.onload = on_load;\n      element.onerror = on_error.bind(null, url);\n      element.async = false;\n      element.src = url;\n      console.debug(\"Bokeh: injecting script tag for BokehJS library: \", url);\n      document.head.appendChild(element);\n    }\n  };\n\n  function inject_raw_css(css) {\n    const element = document.createElement(\"style\");\n    element.appendChild(document.createTextNode(css));\n    document.body.appendChild(element);\n  }\n\n  \n  const js_urls = [\"https://cdn.bokeh.org/bokeh/release/bokeh-2.4.2.min.js\", \"https://cdn.bokeh.org/bokeh/release/bokeh-gl-2.4.2.min.js\", \"https://cdn.bokeh.org/bokeh/release/bokeh-widgets-2.4.2.min.js\", \"https://cdn.bokeh.org/bokeh/release/bokeh-tables-2.4.2.min.js\", \"https://cdn.bokeh.org/bokeh/release/bokeh-mathjax-2.4.2.min.js\"];\n  const css_urls = [];\n  \n\n  const inline_js = [\n    function(Bokeh) {\n      Bokeh.set_log_level(\"info\");\n    },\n    function(Bokeh) {\n    \n    \n    }\n  ];\n\n  function run_inline_js() {\n    \n    if (root.Bokeh !== undefined || force === true) {\n      \n    for (let i = 0; i < inline_js.length; i++) {\n      inline_js[i].call(root, root.Bokeh);\n    }\n    if (force === true) {\n        display_loaded();\n      }} else if (Date.now() < root._bokeh_timeout) {\n      setTimeout(run_inline_js, 100);\n    } else if (!root._bokeh_failed_load) {\n      console.log(\"Bokeh: BokehJS failed to load within specified timeout.\");\n      root._bokeh_failed_load = true;\n    } else if (force !== true) {\n      const cell = $(document.getElementById(\"2309\")).parents('.cell').data().cell;\n      cell.output_area.append_execute_result(NB_LOAD_WARNING)\n    }\n\n  }\n\n  if (root._bokeh_is_loading === 0) {\n    console.debug(\"Bokeh: BokehJS loaded, going straight to plotting\");\n    run_inline_js();\n  } else {\n    load_libs(css_urls, js_urls, function() {\n      console.debug(\"Bokeh: BokehJS plotting callback run at\", now());\n      run_inline_js();\n    });\n  }\n}(window));",
      "application/vnd.bokehjs_load.v0+json": ""
     },
     "metadata": {},
     "output_type": "display_data"
    },
    {
     "data": {
      "text/html": [
       "\n",
       "\n",
       "\n",
       "\n",
       "\n",
       "\n",
       "  <div class=\"bk-root\" id=\"b2b0b6d6-83da-4207-90ac-f04a4cb1796f\" data-root-id=\"2308\"></div>\n"
      ]
     },
     "metadata": {},
     "output_type": "display_data"
    },
    {
     "data": {
      "application/javascript": "(function(root) {\n  function embed_document(root) {\n    \n  const docs_json = {\"eaa2c185-ff82-40aa-b510-ee374b4f4fa0\":{\"defs\":[],\"roots\":{\"references\":[{\"attributes\":{\"tabs\":[{\"id\":\"2306\"},{\"id\":\"2307\"}]},\"id\":\"2308\",\"type\":\"Tabs\"},{\"attributes\":{\"coordinates\":null,\"data_source\":{\"id\":\"2182\"},\"glyph\":{\"id\":\"2183\"},\"group\":null,\"hover_glyph\":null,\"muted\":true,\"muted_glyph\":{\"id\":\"2185\"},\"nonselection_glyph\":{\"id\":\"2184\"},\"view\":{\"id\":\"2187\"}},\"id\":\"2186\",\"type\":\"GlyphRenderer\"},{\"attributes\":{\"data\":{\"x\":[2008,2009,2010,2011,2012,2013,2014,2015,2016,2017,2018,2019,2020],\"y\":{\"__ndarray__\":\"AAAAAEiED0EAAAAA0NwOQQAAAADIuRBBAAAAAIgMEUEAAAAANDQRQQAAAADwqRFBAAAAAKAoEkEAAAAAGG8SQQAAAADIIxNBAAAAABj4E0EAAAAAeD0UQQAAAABgoRRBAAAAAPR4FUE=\",\"dtype\":\"float64\",\"order\":\"little\",\"shape\":[13]}},\"selected\":{\"id\":\"2333\"},\"selection_policy\":{\"id\":\"2332\"}},\"id\":\"2212\",\"type\":\"ColumnDataSource\"},{\"attributes\":{},\"id\":\"2154\",\"type\":\"ResetTool\"},{\"attributes\":{\"line_alpha\":0.1,\"line_color\":\"blue\",\"line_width\":2.0,\"x\":{\"field\":\"x\"},\"y\":{\"field\":\"y\"}},\"id\":\"2184\",\"type\":\"Line\"},{\"attributes\":{},\"id\":\"2153\",\"type\":\"SaveTool\"},{\"attributes\":{\"source\":{\"id\":\"2170\"}},\"id\":\"2175\",\"type\":\"CDSView\"},{\"attributes\":{\"bottom_units\":\"screen\",\"coordinates\":null,\"fill_alpha\":0.5,\"fill_color\":\"lightgrey\",\"group\":null,\"left_units\":\"screen\",\"level\":\"overlay\",\"line_alpha\":1.0,\"line_color\":\"black\",\"line_dash\":[4,4],\"line_width\":2,\"right_units\":\"screen\",\"syncable\":false,\"top_units\":\"screen\"},\"id\":\"2156\",\"type\":\"BoxAnnotation\"},{\"attributes\":{\"overlay\":{\"id\":\"2156\"}},\"id\":\"2152\",\"type\":\"BoxZoomTool\"},{\"attributes\":{\"tools\":[{\"id\":\"2150\"},{\"id\":\"2151\"},{\"id\":\"2152\"},{\"id\":\"2153\"},{\"id\":\"2154\"},{\"id\":\"2155\"}]},\"id\":\"2157\",\"type\":\"Toolbar\"},{\"attributes\":{\"line_alpha\":0.2,\"line_width\":2.0,\"x\":{\"field\":\"x\"},\"y\":{\"field\":\"y\"}},\"id\":\"2215\",\"type\":\"Line\"},{\"attributes\":{},\"id\":\"2345\",\"type\":\"UnionRenderers\"},{\"attributes\":{\"source\":{\"id\":\"2212\"}},\"id\":\"2217\",\"type\":\"CDSView\"},{\"attributes\":{\"coordinates\":null,\"data_source\":{\"id\":\"2212\"},\"glyph\":{\"id\":\"2213\"},\"group\":null,\"hover_glyph\":null,\"muted\":true,\"muted_glyph\":{\"id\":\"2215\"},\"nonselection_glyph\":{\"id\":\"2214\"},\"view\":{\"id\":\"2217\"}},\"id\":\"2216\",\"type\":\"GlyphRenderer\"},{\"attributes\":{},\"id\":\"2155\",\"type\":\"HelpTool\"},{\"attributes\":{},\"id\":\"2346\",\"type\":\"Selection\"},{\"attributes\":{\"line_alpha\":0.1,\"line_width\":2.0,\"x\":{\"field\":\"x\"},\"y\":{\"field\":\"y\"}},\"id\":\"2214\",\"type\":\"Line\"},{\"attributes\":{},\"id\":\"2319\",\"type\":\"BasicTickFormatter\"},{\"attributes\":{},\"id\":\"2355\",\"type\":\"UnionRenderers\"},{\"attributes\":{\"line_width\":2.0,\"x\":{\"field\":\"x\"},\"y\":{\"field\":\"y\"}},\"id\":\"2219\",\"type\":\"Line\"},{\"attributes\":{\"data\":{\"x\":[2008,2009,2010,2011,2012,2013,2014,2015,2016,2017,2018,2019,2020],\"y\":{\"__ndarray__\":\"vEMo80CBLEDfShe5zZksQDwRSXnRtyxAzzmO7NbjLECSZtF+3hUtQAF2wEi/Sy1ACxYsWLCgLUAJ8GFMsectQNHZ4yn9PS5AmfovNVBgLkDQ9tyYG28uQCmxVVx6fC5A2QtJD5iPLkA=\",\"dtype\":\"float64\",\"order\":\"little\",\"shape\":[13]}},\"selected\":{\"id\":\"2354\"},\"selection_policy\":{\"id\":\"2353\"}},\"id\":\"2218\",\"type\":\"ColumnDataSource\"},{\"attributes\":{},\"id\":\"2320\",\"type\":\"AllLabels\"},{\"attributes\":{},\"id\":\"2356\",\"type\":\"Selection\"},{\"attributes\":{\"line_alpha\":0.2,\"line_width\":2.0,\"x\":{\"field\":\"x\"},\"y\":{\"field\":\"y\"}},\"id\":\"2221\",\"type\":\"Line\"},{\"attributes\":{\"line_color\":\"green\",\"line_width\":2.0,\"x\":{\"field\":\"x\"},\"y\":{\"field\":\"y\"}},\"id\":\"2189\",\"type\":\"Line\"},{\"attributes\":{\"source\":{\"id\":\"2218\"}},\"id\":\"2223\",\"type\":\"CDSView\"},{\"attributes\":{\"data\":{\"x\":[2008,2009,2010,2011,2012,2013,2014,2015,2016,2017,2018,2019,2020],\"y\":{\"__ndarray__\":\"AAAAAOiKCUEAAAAAQAkKQQAAAAAIowtBAAAAAMgtDEEAAAAAeNwMQQAAAAAYYw1BAAAAAJjaDUEAAAAAoJ8OQQAAAACoqA9BAAAAADwxEEEAAAAAlGMQQQAAAACMjxBBAAAAANxKEUE=\",\"dtype\":\"float64\",\"order\":\"little\",\"shape\":[13]}},\"selected\":{\"id\":\"2325\"},\"selection_policy\":{\"id\":\"2324\"}},\"id\":\"2164\",\"type\":\"ColumnDataSource\"},{\"attributes\":{\"data\":{\"x\":[2008,2009,2010,2011,2012,2013,2014,2015,2016,2017,2018,2019,2020],\"y\":{\"__ndarray__\":\"vEhydm7vKkByvRw+zSErQDTwqDXpVitAyjCJG7uYK0DFu5Qm/+ArQI76Jf2ZLCxAaMiBwECDLEDTdn/oqNgsQMeIDa7uQS1ANNfczKRrLUCb+T6SA5AtQKOWdL/Uqy1AmlGVs2TELUA=\",\"dtype\":\"float64\",\"order\":\"little\",\"shape\":[13]}},\"selected\":{\"id\":\"2356\"},\"selection_policy\":{\"id\":\"2355\"}},\"id\":\"2230\",\"type\":\"ColumnDataSource\"},{\"attributes\":{\"coordinates\":null,\"data_source\":{\"id\":\"2218\"},\"glyph\":{\"id\":\"2219\"},\"group\":null,\"hover_glyph\":null,\"muted\":true,\"muted_glyph\":{\"id\":\"2221\"},\"nonselection_glyph\":{\"id\":\"2220\"},\"view\":{\"id\":\"2223\"}},\"id\":\"2222\",\"type\":\"GlyphRenderer\"},{\"attributes\":{\"source\":{\"id\":\"2176\"}},\"id\":\"2181\",\"type\":\"CDSView\"},{\"attributes\":{},\"id\":\"2322\",\"type\":\"BasicTickFormatter\"},{\"attributes\":{\"line_alpha\":0.1,\"line_width\":2.0,\"x\":{\"field\":\"x\"},\"y\":{\"field\":\"y\"}},\"id\":\"2220\",\"type\":\"Line\"},{\"attributes\":{\"line_color\":\"darkblue\",\"line_width\":2.0,\"x\":{\"field\":\"x\"},\"y\":{\"field\":\"y\"}},\"id\":\"2225\",\"type\":\"Line\"},{\"attributes\":{\"line_alpha\":0.2,\"line_color\":\"blue\",\"line_width\":2.0,\"x\":{\"field\":\"x\"},\"y\":{\"field\":\"y\"}},\"id\":\"2185\",\"type\":\"Line\"},{\"attributes\":{},\"id\":\"2323\",\"type\":\"AllLabels\"},{\"attributes\":{\"data\":{\"x\":[2008,2009,2010,2011,2012,2013,2014,2015,2016,2017,2018,2019,2020],\"y\":{\"__ndarray__\":\"AAAAAKCVBkEAAAAAMOwGQQAAAACAfQdBAAAAAGi7B0EAAAAAWD4IQQAAAABwYQhBAAAAAKDHCEEAAAAAwIcJQQAAAADAVgpBAAAAAAAeC0EAAAAA0HsLQQAAAADIXAxBAAAAABDFDUE=\",\"dtype\":\"float64\",\"order\":\"little\",\"shape\":[13]}},\"selected\":{\"id\":\"2335\"},\"selection_policy\":{\"id\":\"2334\"}},\"id\":\"2224\",\"type\":\"ColumnDataSource\"},{\"attributes\":{},\"id\":\"2313\",\"type\":\"BasicTickFormatter\"},{\"attributes\":{},\"id\":\"2347\",\"type\":\"UnionRenderers\"},{\"attributes\":{\"line_alpha\":0.1,\"line_color\":\"blue\",\"line_width\":2.0,\"x\":{\"field\":\"x\"},\"y\":{\"field\":\"y\"}},\"id\":\"2178\",\"type\":\"Line\"},{\"attributes\":{\"line_alpha\":0.2,\"line_color\":\"darkblue\",\"line_width\":2.0,\"x\":{\"field\":\"x\"},\"y\":{\"field\":\"y\"}},\"id\":\"2227\",\"type\":\"Line\"},{\"attributes\":{\"line_alpha\":0.1,\"line_color\":\"green\",\"line_width\":2.0,\"x\":{\"field\":\"x\"},\"y\":{\"field\":\"y\"}},\"id\":\"2190\",\"type\":\"Line\"},{\"attributes\":{},\"id\":\"2314\",\"type\":\"AllLabels\"},{\"attributes\":{},\"id\":\"2348\",\"type\":\"Selection\"},{\"attributes\":{\"coordinates\":null,\"data_source\":{\"id\":\"2224\"},\"glyph\":{\"id\":\"2225\"},\"group\":null,\"hover_glyph\":null,\"muted\":true,\"muted_glyph\":{\"id\":\"2227\"},\"nonselection_glyph\":{\"id\":\"2226\"},\"view\":{\"id\":\"2229\"}},\"id\":\"2228\",\"type\":\"GlyphRenderer\"},{\"attributes\":{\"source\":{\"id\":\"2224\"}},\"id\":\"2229\",\"type\":\"CDSView\"},{\"attributes\":{},\"id\":\"2357\",\"type\":\"UnionRenderers\"},{\"attributes\":{\"line_alpha\":0.1,\"line_color\":\"darkblue\",\"line_width\":2.0,\"x\":{\"field\":\"x\"},\"y\":{\"field\":\"y\"}},\"id\":\"2226\",\"type\":\"Line\"},{\"attributes\":{\"data\":{\"x\":[2008,2009,2010,2011,2012,2013,2014,2015,2016,2017,2018,2019,2020],\"y\":{\"__ndarray__\":\"AAAAAGBHCUEAAAAAqJ8JQQAAAABY9ApBAAAAAMBbC0EAAAAAqNMLQQAAAAAYAgxBAAAAABBVDEEAAAAAgDQNQQAAAAAwsA1BAAAAAGhEDkEAAAAAsLwOQQAAAAA4bg9BAAAAAER5EEE=\",\"dtype\":\"float64\",\"order\":\"little\",\"shape\":[13]}},\"selected\":{\"id\":\"2337\"},\"selection_policy\":{\"id\":\"2336\"}},\"id\":\"2236\",\"type\":\"ColumnDataSource\"},{\"attributes\":{},\"id\":\"2122\",\"type\":\"HelpTool\"},{\"attributes\":{},\"id\":\"2316\",\"type\":\"BasicTickFormatter\"},{\"attributes\":{},\"id\":\"2358\",\"type\":\"Selection\"},{\"attributes\":{\"line_color\":\"darkblue\",\"line_width\":2.0,\"x\":{\"field\":\"x\"},\"y\":{\"field\":\"y\"}},\"id\":\"2231\",\"type\":\"Line\"},{\"attributes\":{},\"id\":\"2324\",\"type\":\"UnionRenderers\"},{\"attributes\":{\"coordinates\":null,\"data_source\":{\"id\":\"2176\"},\"glyph\":{\"id\":\"2177\"},\"group\":null,\"hover_glyph\":null,\"muted\":true,\"muted_glyph\":{\"id\":\"2179\"},\"nonselection_glyph\":{\"id\":\"2178\"},\"view\":{\"id\":\"2181\"}},\"id\":\"2180\",\"type\":\"GlyphRenderer\"},{\"attributes\":{},\"id\":\"2317\",\"type\":\"AllLabels\"},{\"attributes\":{\"line_alpha\":0.2,\"line_color\":\"darkblue\",\"line_width\":2.0,\"x\":{\"field\":\"x\"},\"y\":{\"field\":\"y\"}},\"id\":\"2233\",\"type\":\"Line\"},{\"attributes\":{},\"id\":\"2325\",\"type\":\"Selection\"},{\"attributes\":{},\"id\":\"2121\",\"type\":\"ResetTool\"},{\"attributes\":{\"data\":{\"x\":[2008,2009,2010,2011,2012,2013,2014,2015,2016,2017,2018,2019,2020],\"y\":{\"__ndarray__\":\"aMyu5OMnKkDSVAap/E4qQH0vmr2gdypA0JNSJ+6iKkBoiUWLtscqQGoURGJA+SpAZa/RqB9DK0CZEqLJwY8rQNwSZbgc6StAOY7jOI4jLEDWi/KTrGMsQD2Bed2HkSxAnwC8qkDALEA=\",\"dtype\":\"float64\",\"order\":\"little\",\"shape\":[13]}},\"selected\":{\"id\":\"2348\"},\"selection_policy\":{\"id\":\"2347\"}},\"id\":\"2182\",\"type\":\"ColumnDataSource\"},{\"attributes\":{\"coordinates\":null,\"data_source\":{\"id\":\"2230\"},\"glyph\":{\"id\":\"2231\"},\"group\":null,\"hover_glyph\":null,\"muted\":true,\"muted_glyph\":{\"id\":\"2233\"},\"nonselection_glyph\":{\"id\":\"2232\"},\"view\":{\"id\":\"2235\"}},\"id\":\"2234\",\"type\":\"GlyphRenderer\"},{\"attributes\":{\"source\":{\"id\":\"2230\"}},\"id\":\"2235\",\"type\":\"CDSView\"},{\"attributes\":{\"source\":{\"id\":\"2182\"}},\"id\":\"2187\",\"type\":\"CDSView\"},{\"attributes\":{\"line_alpha\":0.1,\"line_color\":\"darkblue\",\"line_width\":2.0,\"x\":{\"field\":\"x\"},\"y\":{\"field\":\"y\"}},\"id\":\"2232\",\"type\":\"Line\"},{\"attributes\":{\"data\":{\"x\":[2008,2009,2010,2011,2012,2013,2014,2015,2016,2017,2018,2019,2020],\"y\":{\"__ndarray__\":\"U6W1iAb4KUCskEDZxhoqQBLiAdwSRipA0kAAzARuKkDrizlbpo8qQNWUsfr8wSpA/a9WLZf8KkChv8bej0UrQOMlqP9KnCtAEW1ihCLZK0AZTR9jMBUsQAIFgEiNSyxAZ4NVKdhqLEA=\",\"dtype\":\"float64\",\"order\":\"little\",\"shape\":[13]}},\"selected\":{\"id\":\"2358\"},\"selection_policy\":{\"id\":\"2357\"}},\"id\":\"2242\",\"type\":\"ColumnDataSource\"},{\"attributes\":{},\"id\":\"2349\",\"type\":\"UnionRenderers\"},{\"attributes\":{\"line_alpha\":0.2,\"line_color\":\"green\",\"line_width\":2.0,\"x\":{\"field\":\"x\"},\"y\":{\"field\":\"y\"}},\"id\":\"2191\",\"type\":\"Line\"},{\"attributes\":{\"line_color\":\"magenta\",\"line_width\":2.0,\"x\":{\"field\":\"x\"},\"y\":{\"field\":\"y\"}},\"id\":\"2237\",\"type\":\"Line\"},{\"attributes\":{},\"id\":\"2350\",\"type\":\"Selection\"},{\"attributes\":{\"line_alpha\":0.2,\"line_color\":\"red\",\"line_width\":2.0,\"x\":{\"field\":\"x\"},\"y\":{\"field\":\"y\"}},\"id\":\"2167\",\"type\":\"Line\"},{\"attributes\":{\"line_alpha\":0.2,\"line_color\":\"magenta\",\"line_width\":2.0,\"x\":{\"field\":\"x\"},\"y\":{\"field\":\"y\"}},\"id\":\"2239\",\"type\":\"Line\"},{\"attributes\":{},\"id\":\"2120\",\"type\":\"SaveTool\"},{\"attributes\":{\"line_alpha\":0.2,\"line_color\":\"red\",\"line_width\":2.0,\"x\":{\"field\":\"x\"},\"y\":{\"field\":\"y\"}},\"id\":\"2173\",\"type\":\"Line\"},{\"attributes\":{\"line_alpha\":0.1,\"line_color\":\"green\",\"line_width\":2.0,\"x\":{\"field\":\"x\"},\"y\":{\"field\":\"y\"}},\"id\":\"2196\",\"type\":\"Line\"},{\"attributes\":{\"bottom_units\":\"screen\",\"coordinates\":null,\"fill_alpha\":0.5,\"fill_color\":\"lightgrey\",\"group\":null,\"left_units\":\"screen\",\"level\":\"overlay\",\"line_alpha\":1.0,\"line_color\":\"black\",\"line_dash\":[4,4],\"line_width\":2,\"right_units\":\"screen\",\"syncable\":false,\"top_units\":\"screen\"},\"id\":\"2123\",\"type\":\"BoxAnnotation\"},{\"attributes\":{},\"id\":\"2118\",\"type\":\"WheelZoomTool\"},{\"attributes\":{\"source\":{\"id\":\"2194\"}},\"id\":\"2199\",\"type\":\"CDSView\"},{\"attributes\":{},\"id\":\"2326\",\"type\":\"UnionRenderers\"},{\"attributes\":{\"coordinates\":null,\"data_source\":{\"id\":\"2236\"},\"glyph\":{\"id\":\"2237\"},\"group\":null,\"hover_glyph\":null,\"muted\":true,\"muted_glyph\":{\"id\":\"2239\"},\"nonselection_glyph\":{\"id\":\"2238\"},\"view\":{\"id\":\"2241\"}},\"id\":\"2240\",\"type\":\"GlyphRenderer\"},{\"attributes\":{\"data\":{\"x\":[2008,2009,2010,2011,2012,2013,2014,2015,2016,2017,2018,2019,2020],\"y\":{\"__ndarray__\":\"0SYIOqOxKUC4P40QxNcpQJx9fG4/8ylA0f773mMUKkD35y7Ip00qQIXEIWKVkypA9gxLsaveKkC8UneCXi8rQJ1EE/J4jCtAd1ThQY/AK0Atcq190v8rQH2jD/44LyxAXbbvAwxTLEA=\",\"dtype\":\"float64\",\"order\":\"little\",\"shape\":[13]}},\"selected\":{\"id\":\"2350\"},\"selection_policy\":{\"id\":\"2349\"}},\"id\":\"2194\",\"type\":\"ColumnDataSource\"},{\"attributes\":{},\"id\":\"2359\",\"type\":\"UnionRenderers\"},{\"attributes\":{\"source\":{\"id\":\"2236\"}},\"id\":\"2241\",\"type\":\"CDSView\"},{\"attributes\":{\"line_alpha\":0.1,\"line_color\":\"magenta\",\"line_width\":2.0,\"x\":{\"field\":\"x\"},\"y\":{\"field\":\"y\"}},\"id\":\"2238\",\"type\":\"Line\"},{\"attributes\":{\"data\":{\"x\":[2008,2009,2010,2011,2012,2013,2014,2015,2016,2017,2018,2019,2020],\"y\":{\"__ndarray__\":\"669cG/NNKkAVhZpE44QqQATCPGeHtipAL15C6f/3KkBOCIIoxC8rQNyNkBEScitA//ELMje8K0Bg8wUUsg0sQPrzk0DZZyxAJi/fYwSZLEAyymYWqbQsQDikgVlAyixA4tala2fnLEA=\",\"dtype\":\"float64\",\"order\":\"little\",\"shape\":[13]}},\"selected\":{\"id\":\"2346\"},\"selection_policy\":{\"id\":\"2345\"}},\"id\":\"2170\",\"type\":\"ColumnDataSource\"},{\"attributes\":{},\"id\":\"2327\",\"type\":\"Selection\"},{\"attributes\":{\"data\":{\"x\":[2008,2009,2010,2011,2012,2013,2014,2015,2016,2017,2018,2019,2020],\"y\":{\"__ndarray__\":\"AAAAAMgnC0EAAAAAMGgLQQAAAAAQxgxBAAAAADDwDEEAAAAA2I4NQQAAAAAA2A1BAAAAAPA4DkEAAAAAIMMOQQAAAACglw9BAAAAAIwsEEEAAAAAuFQQQQAAAADUvRBBAAAAAKh5EUE=\",\"dtype\":\"float64\",\"order\":\"little\",\"shape\":[13]}},\"selected\":{\"id\":\"2339\"},\"selection_policy\":{\"id\":\"2338\"}},\"id\":\"2248\",\"type\":\"ColumnDataSource\"},{\"attributes\":{},\"id\":\"2360\",\"type\":\"Selection\"},{\"attributes\":{\"coordinates\":null,\"data_source\":{\"id\":\"2188\"},\"glyph\":{\"id\":\"2189\"},\"group\":null,\"hover_glyph\":null,\"muted\":true,\"muted_glyph\":{\"id\":\"2191\"},\"nonselection_glyph\":{\"id\":\"2190\"},\"view\":{\"id\":\"2193\"}},\"id\":\"2192\",\"type\":\"GlyphRenderer\"},{\"attributes\":{\"line_color\":\"magenta\",\"line_width\":2.0,\"x\":{\"field\":\"x\"},\"y\":{\"field\":\"y\"}},\"id\":\"2243\",\"type\":\"Line\"},{\"attributes\":{\"line_alpha\":0.1,\"line_color\":\"cyan\",\"line_width\":2.0,\"x\":{\"field\":\"x\"},\"y\":{\"field\":\"y\"}},\"id\":\"2208\",\"type\":\"Line\"},{\"attributes\":{\"line_alpha\":0.2,\"line_color\":\"magenta\",\"line_width\":2.0,\"x\":{\"field\":\"x\"},\"y\":{\"field\":\"y\"}},\"id\":\"2245\",\"type\":\"Line\"},{\"attributes\":{\"line_color\":\"cyan\",\"line_width\":2.0,\"x\":{\"field\":\"x\"},\"y\":{\"field\":\"y\"}},\"id\":\"2201\",\"type\":\"Line\"},{\"attributes\":{},\"id\":\"2117\",\"type\":\"PanTool\"},{\"attributes\":{\"line_color\":\"blue\",\"line_width\":2.0,\"x\":{\"field\":\"x\"},\"y\":{\"field\":\"y\"}},\"id\":\"2183\",\"type\":\"Line\"},{\"attributes\":{\"tools\":[{\"id\":\"2117\"},{\"id\":\"2118\"},{\"id\":\"2119\"},{\"id\":\"2120\"},{\"id\":\"2121\"},{\"id\":\"2122\"}]},\"id\":\"2124\",\"type\":\"Toolbar\"},{\"attributes\":{\"coordinates\":null,\"data_source\":{\"id\":\"2242\"},\"glyph\":{\"id\":\"2243\"},\"group\":null,\"hover_glyph\":null,\"muted\":true,\"muted_glyph\":{\"id\":\"2245\"},\"nonselection_glyph\":{\"id\":\"2244\"},\"view\":{\"id\":\"2247\"}},\"id\":\"2246\",\"type\":\"GlyphRenderer\"},{\"attributes\":{\"line_color\":\"green\",\"line_width\":2.0,\"x\":{\"field\":\"x\"},\"y\":{\"field\":\"y\"}},\"id\":\"2195\",\"type\":\"Line\"},{\"attributes\":{\"source\":{\"id\":\"2242\"}},\"id\":\"2247\",\"type\":\"CDSView\"},{\"attributes\":{},\"id\":\"2351\",\"type\":\"UnionRenderers\"},{\"attributes\":{\"line_alpha\":0.2,\"line_color\":\"green\",\"line_width\":2.0,\"x\":{\"field\":\"x\"},\"y\":{\"field\":\"y\"}},\"id\":\"2197\",\"type\":\"Line\"},{\"attributes\":{\"line_alpha\":0.1,\"line_color\":\"magenta\",\"line_width\":2.0,\"x\":{\"field\":\"x\"},\"y\":{\"field\":\"y\"}},\"id\":\"2244\",\"type\":\"Line\"},{\"attributes\":{\"line_alpha\":0.2,\"line_color\":\"blue\",\"line_width\":2.0,\"x\":{\"field\":\"x\"},\"y\":{\"field\":\"y\"}},\"id\":\"2179\",\"type\":\"Line\"},{\"attributes\":{\"data\":{\"x\":[2008,2009,2010,2011,2012,2013,2014,2015,2016,2017,2018,2019,2020],\"y\":{\"__ndarray__\":\"5VEVuA7wKkAS/wVKIwMrQKtUXH8fICtAEbT/4DhIK0CyXafNN2wrQCeOtAzdlitAHOCu1e3PK0BDx9GDNwcsQHeupD6dSSxAvgG04ZZ7LEAtOaE31KQsQLSYjY7pxSxALXJpMgjXLEA=\",\"dtype\":\"float64\",\"order\":\"little\",\"shape\":[13]}},\"selected\":{\"id\":\"2360\"},\"selection_policy\":{\"id\":\"2359\"}},\"id\":\"2254\",\"type\":\"ColumnDataSource\"},{\"attributes\":{},\"id\":\"2352\",\"type\":\"Selection\"},{\"attributes\":{\"line_color\":\"yellow\",\"line_width\":2.0,\"x\":{\"field\":\"x\"},\"y\":{\"field\":\"y\"}},\"id\":\"2249\",\"type\":\"Line\"},{\"attributes\":{\"child\":{\"id\":\"2131\"},\"title\":\"Study year\"},\"id\":\"2307\",\"type\":\"Panel\"},{\"attributes\":{\"line_color\":\"red\",\"line_width\":2.0,\"x\":{\"field\":\"x\"},\"y\":{\"field\":\"y\"}},\"id\":\"2171\",\"type\":\"Line\"},{\"attributes\":{\"source\":{\"id\":\"2188\"}},\"id\":\"2193\",\"type\":\"CDSView\"},{\"attributes\":{\"line_alpha\":0.2,\"line_color\":\"yellow\",\"line_width\":2.0,\"x\":{\"field\":\"x\"},\"y\":{\"field\":\"y\"}},\"id\":\"2251\",\"type\":\"Line\"},{\"attributes\":{},\"id\":\"2328\",\"type\":\"UnionRenderers\"},{\"attributes\":{\"coordinates\":null,\"data_source\":{\"id\":\"2194\"},\"glyph\":{\"id\":\"2195\"},\"group\":null,\"hover_glyph\":null,\"muted\":true,\"muted_glyph\":{\"id\":\"2197\"},\"nonselection_glyph\":{\"id\":\"2196\"},\"view\":{\"id\":\"2199\"}},\"id\":\"2198\",\"type\":\"GlyphRenderer\"},{\"attributes\":{},\"id\":\"2361\",\"type\":\"UnionRenderers\"},{\"attributes\":{\"data\":{\"x\":[2008,2009,2010,2011,2012,2013,2014,2015,2016,2017,2018,2019,2020],\"y\":{\"__ndarray__\":\"AAAAAOiUCEEAAAAAGFUJQQAAAAAYjwpBAAAAACgBC0EAAAAA2LsLQQAAAACQGwxBAAAAAOjIDEEAAAAA0GoNQQAAAACYcg5BAAAAANCbD0EAAAAABCwQQQAAAABQuBBBAAAAAAyxEUE=\",\"dtype\":\"float64\",\"order\":\"little\",\"shape\":[13]}},\"selected\":{\"id\":\"2341\"},\"selection_policy\":{\"id\":\"2340\"}},\"id\":\"2260\",\"type\":\"ColumnDataSource\"},{\"attributes\":{\"line_alpha\":0.1,\"line_color\":\"red\",\"line_width\":2.0,\"x\":{\"field\":\"x\"},\"y\":{\"field\":\"y\"}},\"id\":\"2172\",\"type\":\"Line\"},{\"attributes\":{\"coordinates\":null,\"data_source\":{\"id\":\"2248\"},\"glyph\":{\"id\":\"2249\"},\"group\":null,\"hover_glyph\":null,\"muted\":true,\"muted_glyph\":{\"id\":\"2251\"},\"nonselection_glyph\":{\"id\":\"2250\"},\"view\":{\"id\":\"2253\"}},\"id\":\"2252\",\"type\":\"GlyphRenderer\"},{\"attributes\":{\"overlay\":{\"id\":\"2123\"}},\"id\":\"2119\",\"type\":\"BoxZoomTool\"},{\"attributes\":{},\"id\":\"2329\",\"type\":\"Selection\"},{\"attributes\":{\"coordinates\":null,\"data_source\":{\"id\":\"2164\"},\"glyph\":{\"id\":\"2165\"},\"group\":null,\"hover_glyph\":null,\"muted\":true,\"muted_glyph\":{\"id\":\"2167\"},\"nonselection_glyph\":{\"id\":\"2166\"},\"view\":{\"id\":\"2169\"}},\"id\":\"2168\",\"type\":\"GlyphRenderer\"},{\"attributes\":{\"source\":{\"id\":\"2248\"}},\"id\":\"2253\",\"type\":\"CDSView\"},{\"attributes\":{},\"id\":\"2362\",\"type\":\"Selection\"},{\"attributes\":{\"source\":{\"id\":\"2164\"}},\"id\":\"2169\",\"type\":\"CDSView\"},{\"attributes\":{\"line_alpha\":0.1,\"line_color\":\"yellow\",\"line_width\":2.0,\"x\":{\"field\":\"x\"},\"y\":{\"field\":\"y\"}},\"id\":\"2250\",\"type\":\"Line\"},{\"attributes\":{\"line_alpha\":0.1,\"line_color\":\"red\",\"line_width\":2.0,\"x\":{\"field\":\"x\"},\"y\":{\"field\":\"y\"}},\"id\":\"2166\",\"type\":\"Line\"},{\"attributes\":{\"line_color\":\"yellow\",\"line_width\":2.0,\"x\":{\"field\":\"x\"},\"y\":{\"field\":\"y\"}},\"id\":\"2255\",\"type\":\"Line\"},{\"attributes\":{\"line_alpha\":0.2,\"line_color\":\"yellow\",\"line_width\":2.0,\"x\":{\"field\":\"x\"},\"y\":{\"field\":\"y\"}},\"id\":\"2257\",\"type\":\"Line\"},{\"attributes\":{},\"id\":\"2353\",\"type\":\"UnionRenderers\"},{\"attributes\":{\"coordinates\":null,\"data_source\":{\"id\":\"2254\"},\"glyph\":{\"id\":\"2255\"},\"group\":null,\"hover_glyph\":null,\"muted\":true,\"muted_glyph\":{\"id\":\"2257\"},\"nonselection_glyph\":{\"id\":\"2256\"},\"view\":{\"id\":\"2259\"}},\"id\":\"2258\",\"type\":\"GlyphRenderer\"},{\"attributes\":{\"data\":{\"x\":[2008,2009,2010,2011,2012,2013,2014,2015,2016,2017,2018,2019,2020],\"y\":{\"__ndarray__\":\"AAAAAHi6CEEAAAAAeBcJQQAAAACQSApBAAAAAOCJCkEAAAAAcPkKQQAAAABoOgtBAAAAAKiLC0EAAAAAEEwMQQAAAACIcA1BAAAAAHBrDkEAAAAAgMsOQQAAAABYoA9BAAAAAHyeEEE=\",\"dtype\":\"float64\",\"order\":\"little\",\"shape\":[13]}},\"selected\":{\"id\":\"2327\"},\"selection_policy\":{\"id\":\"2326\"}},\"id\":\"2176\",\"type\":\"ColumnDataSource\"},{\"attributes\":{\"source\":{\"id\":\"2254\"}},\"id\":\"2259\",\"type\":\"CDSView\"},{\"attributes\":{\"data\":{\"x\":[2008,2009,2010,2011,2012,2013,2014,2015,2016,2017,2018,2019,2020],\"y\":{\"__ndarray__\":\"AAAAAPg4B0EAAAAAEH4HQQAAAABgKQhBAAAAACAOCEEAAAAAkGMIQQAAAADQWghBAAAAAOB9CEEAAAAAGNgIQQAAAADgeQlBAAAAAOgNCkEAAAAAwIIKQQAAAAAwSQtBAAAAAGiwDEE=\",\"dtype\":\"float64\",\"order\":\"little\",\"shape\":[13]}},\"selected\":{\"id\":\"2329\"},\"selection_policy\":{\"id\":\"2328\"}},\"id\":\"2188\",\"type\":\"ColumnDataSource\"},{\"attributes\":{\"line_alpha\":0.1,\"line_color\":\"yellow\",\"line_width\":2.0,\"x\":{\"field\":\"x\"},\"y\":{\"field\":\"y\"}},\"id\":\"2256\",\"type\":\"Line\"},{\"attributes\":{},\"id\":\"2354\",\"type\":\"Selection\"},{\"attributes\":{\"line_color\":\"blue\",\"line_width\":2.0,\"x\":{\"field\":\"x\"},\"y\":{\"field\":\"y\"}},\"id\":\"2177\",\"type\":\"Line\"},{\"attributes\":{\"line_color\":\"orange\",\"line_width\":2.0,\"x\":{\"field\":\"x\"},\"y\":{\"field\":\"y\"}},\"id\":\"2261\",\"type\":\"Line\"},{\"attributes\":{\"line_alpha\":0.1,\"line_color\":\"orange\",\"line_width\":2.0,\"x\":{\"field\":\"x\"},\"y\":{\"field\":\"y\"}},\"id\":\"2262\",\"type\":\"Line\"},{\"attributes\":{},\"id\":\"2330\",\"type\":\"UnionRenderers\"},{\"attributes\":{},\"id\":\"2363\",\"type\":\"UnionRenderers\"},{\"attributes\":{\"coordinates\":null,\"data_source\":{\"id\":\"2206\"},\"glyph\":{\"id\":\"2207\"},\"group\":null,\"hover_glyph\":null,\"muted\":true,\"muted_glyph\":{\"id\":\"2209\"},\"nonselection_glyph\":{\"id\":\"2208\"},\"view\":{\"id\":\"2211\"}},\"id\":\"2210\",\"type\":\"GlyphRenderer\"},{\"attributes\":{\"line_alpha\":0.2,\"line_color\":\"orange\",\"line_width\":2.0,\"x\":{\"field\":\"x\"},\"y\":{\"field\":\"y\"}},\"id\":\"2263\",\"type\":\"Line\"},{\"attributes\":{\"coordinates\":null,\"data_source\":{\"id\":\"2260\"},\"glyph\":{\"id\":\"2261\"},\"group\":null,\"hover_glyph\":null,\"muted\":true,\"muted_glyph\":{\"id\":\"2263\"},\"nonselection_glyph\":{\"id\":\"2262\"},\"view\":{\"id\":\"2265\"}},\"id\":\"2264\",\"type\":\"GlyphRenderer\"},{\"attributes\":{\"line_alpha\":0.2,\"line_color\":\"cyan\",\"line_width\":2.0,\"x\":{\"field\":\"x\"},\"y\":{\"field\":\"y\"}},\"id\":\"2209\",\"type\":\"Line\"},{\"attributes\":{},\"id\":\"2331\",\"type\":\"Selection\"},{\"attributes\":{},\"id\":\"2364\",\"type\":\"Selection\"},{\"attributes\":{},\"id\":\"2114\",\"type\":\"BasicTicker\"},{\"attributes\":{\"axis_label\":\"Avg_income\",\"coordinates\":null,\"formatter\":{\"id\":\"2313\"},\"group\":null,\"major_label_policy\":{\"id\":\"2314\"},\"ticker\":{\"id\":\"2114\"}},\"id\":\"2113\",\"type\":\"LinearAxis\"},{\"attributes\":{\"source\":{\"id\":\"2260\"}},\"id\":\"2265\",\"type\":\"CDSView\"},{\"attributes\":{},\"id\":\"2340\",\"type\":\"UnionRenderers\"},{\"attributes\":{},\"id\":\"2105\",\"type\":\"LinearScale\"},{\"attributes\":{\"data\":{\"x\":[2008,2009,2010,2011,2012,2013,2014,2015,2016,2017,2018,2019,2020],\"y\":{\"__ndarray__\":\"5/zkQy/8KkCrOHcgajIrQLB2WXT/aitA6UOasIecK0ACO2jQO9MrQF6bxTNhGCxAnPSuSkxoLEBZ6eakwb8sQKwnwNKcHy1AiKzskklVLUAUpq4lBYQtQOAJ3K+CvC1A7wyhrwDULUA=\",\"dtype\":\"float64\",\"order\":\"little\",\"shape\":[13]}},\"selected\":{\"id\":\"2362\"},\"selection_policy\":{\"id\":\"2361\"}},\"id\":\"2266\",\"type\":\"ColumnDataSource\"},{\"attributes\":{\"axis_label\":\"Year\",\"coordinates\":null,\"formatter\":{\"id\":\"2316\"},\"group\":null,\"major_label_policy\":{\"id\":\"2317\"},\"ticker\":{\"id\":\"2110\"}},\"id\":\"2109\",\"type\":\"LinearAxis\"},{\"attributes\":{\"data\":{\"x\":[2008,2009,2010,2011,2012,2013,2014,2015,2016,2017,2018,2019,2020],\"y\":{\"__ndarray__\":\"AAAAAEBGDEEAAAAA6HsMQQAAAADAOg5BAAAAALimDkEAAAAAEGQPQQAAAACAqw9BAAAAAFQfEEEAAAAA5MoQQQAAAADYMBFBAAAAAKCoEUEAAAAAJAcSQQAAAADYkxJBAAAAAGhWE0E=\",\"dtype\":\"float64\",\"order\":\"little\",\"shape\":[13]}},\"selected\":{\"id\":\"2343\"},\"selection_policy\":{\"id\":\"2342\"}},\"id\":\"2272\",\"type\":\"ColumnDataSource\"},{\"attributes\":{\"label\":{\"value\":\"Valby\"},\"renderers\":[{\"id\":\"2246\"}]},\"id\":\"2302\",\"type\":\"LegendItem\"},{\"attributes\":{\"line_color\":\"orange\",\"line_width\":2.0,\"x\":{\"field\":\"x\"},\"y\":{\"field\":\"y\"}},\"id\":\"2267\",\"type\":\"Line\"},{\"attributes\":{},\"id\":\"2341\",\"type\":\"Selection\"},{\"attributes\":{},\"id\":\"2107\",\"type\":\"LinearScale\"},{\"attributes\":{\"label\":{\"value\":\"Vanl\\u00f8se\"},\"renderers\":[{\"id\":\"2258\"}]},\"id\":\"2303\",\"type\":\"LegendItem\"},{\"attributes\":{\"line_alpha\":0.2,\"line_color\":\"orange\",\"line_width\":2.0,\"x\":{\"field\":\"x\"},\"y\":{\"field\":\"y\"}},\"id\":\"2269\",\"type\":\"Line\"},{\"attributes\":{\"axis\":{\"id\":\"2109\"},\"coordinates\":null,\"group\":null,\"ticker\":null},\"id\":\"2112\",\"type\":\"Grid\"},{\"attributes\":{\"data\":{\"x\":[2008,2009,2010,2011,2012,2013,2014,2015,2016,2017,2018,2019,2020],\"y\":{\"__ndarray__\":\"C7y1ZmARLEAJY1WTnz8sQDuhXKUIZSxAmrt56wCLLEBp/Qgs+bMsQKXrJU2o5ixATzi8BZ8tLUDlgH47aHMtQPwr38zozi1AKJVteT/5LUAmDCiVoRouQAm2fFvaNi5AEOPGqD1ILkA=\",\"dtype\":\"float64\",\"order\":\"little\",\"shape\":[13]}},\"selected\":{\"id\":\"2364\"},\"selection_policy\":{\"id\":\"2363\"}},\"id\":\"2278\",\"type\":\"ColumnDataSource\"},{\"attributes\":{\"label\":{\"value\":\"Vesterbro-Kongens Enghave\"},\"renderers\":[{\"id\":\"2270\"}]},\"id\":\"2304\",\"type\":\"LegendItem\"},{\"attributes\":{\"coordinates\":null,\"data_source\":{\"id\":\"2266\"},\"glyph\":{\"id\":\"2267\"},\"group\":null,\"hover_glyph\":null,\"muted\":true,\"muted_glyph\":{\"id\":\"2269\"},\"nonselection_glyph\":{\"id\":\"2268\"},\"view\":{\"id\":\"2271\"}},\"id\":\"2270\",\"type\":\"GlyphRenderer\"},{\"attributes\":{\"source\":{\"id\":\"2266\"}},\"id\":\"2271\",\"type\":\"CDSView\"},{\"attributes\":{},\"id\":\"2103\",\"type\":\"DataRange1d\"},{\"attributes\":{\"line_alpha\":0.1,\"line_color\":\"orange\",\"line_width\":2.0,\"x\":{\"field\":\"x\"},\"y\":{\"field\":\"y\"}},\"id\":\"2268\",\"type\":\"Line\"},{\"attributes\":{\"label\":{\"value\":\"\\u00d8sterbro\"},\"renderers\":[{\"id\":\"2282\"}]},\"id\":\"2305\",\"type\":\"LegendItem\"},{\"attributes\":{},\"id\":\"2332\",\"type\":\"UnionRenderers\"},{\"attributes\":{\"line_color\":\"grey\",\"line_width\":2.0,\"x\":{\"field\":\"x\"},\"y\":{\"field\":\"y\"}},\"id\":\"2273\",\"type\":\"Line\"},{\"attributes\":{\"coordinates\":null,\"group\":null,\"text\":\"Avg_study_year\",\"text_font_size\":\"20px\"},\"id\":\"2132\",\"type\":\"Title\"},{\"attributes\":{\"axis\":{\"id\":\"2113\"},\"coordinates\":null,\"dimension\":1,\"group\":null,\"ticker\":null},\"id\":\"2116\",\"type\":\"Grid\"},{\"attributes\":{},\"id\":\"2333\",\"type\":\"Selection\"},{\"attributes\":{\"line_alpha\":0.2,\"line_color\":\"grey\",\"line_width\":2.0,\"x\":{\"field\":\"x\"},\"y\":{\"field\":\"y\"}},\"id\":\"2275\",\"type\":\"Line\"},{\"attributes\":{\"axis\":{\"id\":\"2142\"},\"coordinates\":null,\"group\":null,\"ticker\":null},\"id\":\"2145\",\"type\":\"Grid\"},{\"attributes\":{\"label\":{\"value\":\"Amager \\u00d8st\"},\"renderers\":[{\"id\":\"2180\"}]},\"id\":\"2286\",\"type\":\"LegendItem\"},{\"attributes\":{},\"id\":\"2151\",\"type\":\"WheelZoomTool\"},{\"attributes\":{},\"id\":\"2342\",\"type\":\"UnionRenderers\"},{\"attributes\":{\"coordinates\":null,\"data_source\":{\"id\":\"2272\"},\"glyph\":{\"id\":\"2273\"},\"group\":null,\"hover_glyph\":null,\"muted\":true,\"muted_glyph\":{\"id\":\"2275\"},\"nonselection_glyph\":{\"id\":\"2274\"},\"view\":{\"id\":\"2277\"}},\"id\":\"2276\",\"type\":\"GlyphRenderer\"},{\"attributes\":{\"axis\":{\"id\":\"2146\"},\"coordinates\":null,\"dimension\":1,\"group\":null,\"ticker\":null},\"id\":\"2149\",\"type\":\"Grid\"},{\"attributes\":{\"source\":{\"id\":\"2272\"}},\"id\":\"2277\",\"type\":\"CDSView\"},{\"attributes\":{\"line_alpha\":0.1,\"line_color\":\"grey\",\"line_width\":2.0,\"x\":{\"field\":\"x\"},\"y\":{\"field\":\"y\"}},\"id\":\"2274\",\"type\":\"Line\"},{\"attributes\":{},\"id\":\"2343\",\"type\":\"Selection\"},{\"attributes\":{\"data\":{\"x\":[2008,2009,2010,2011,2012,2013,2014,2015,2016,2017,2018,2019,2020],\"y\":{\"__ndarray__\":\"AAAAAIjQCEEAAAAA4CkJQQAAAADQqApBAAAAAKjkCkEAAAAAwEYLQQAAAAAAPwtBAAAAALBmC0EAAAAA8P4LQQAAAACwhgxBAAAAAOgfDUEAAAAASF8NQQAAAAAopA5BAAAAAGiqD0E=\",\"dtype\":\"float64\",\"order\":\"little\",\"shape\":[13]}},\"selected\":{\"id\":\"2331\"},\"selection_policy\":{\"id\":\"2330\"}},\"id\":\"2200\",\"type\":\"ColumnDataSource\"},{\"attributes\":{\"line_color\":\"grey\",\"line_width\":2.0,\"x\":{\"field\":\"x\"},\"y\":{\"field\":\"y\"}},\"id\":\"2279\",\"type\":\"Line\"},{\"attributes\":{\"line_color\":\"red\",\"line_width\":2.0,\"x\":{\"field\":\"x\"},\"y\":{\"field\":\"y\"}},\"id\":\"2165\",\"type\":\"Line\"},{\"attributes\":{\"line_alpha\":0.2,\"line_color\":\"grey\",\"line_width\":2.0,\"x\":{\"field\":\"x\"},\"y\":{\"field\":\"y\"}},\"id\":\"2281\",\"type\":\"Line\"},{\"attributes\":{\"label\":{\"value\":\"Amager Vest\"},\"renderers\":[{\"id\":\"2168\"}]},\"id\":\"2285\",\"type\":\"LegendItem\"},{\"attributes\":{},\"id\":\"2134\",\"type\":\"DataRange1d\"},{\"attributes\":{\"click_policy\":\"mute\",\"coordinates\":null,\"group\":null,\"items\":[{\"id\":\"2296\"},{\"id\":\"2297\"},{\"id\":\"2298\"},{\"id\":\"2299\"},{\"id\":\"2300\"},{\"id\":\"2301\"},{\"id\":\"2302\"},{\"id\":\"2303\"},{\"id\":\"2304\"},{\"id\":\"2305\"}],\"location\":\"top_left\"},\"id\":\"2295\",\"type\":\"Legend\"},{\"attributes\":{\"coordinates\":null,\"data_source\":{\"id\":\"2278\"},\"glyph\":{\"id\":\"2279\"},\"group\":null,\"hover_glyph\":null,\"muted\":true,\"muted_glyph\":{\"id\":\"2281\"},\"nonselection_glyph\":{\"id\":\"2280\"},\"view\":{\"id\":\"2283\"}},\"id\":\"2282\",\"type\":\"GlyphRenderer\"},{\"attributes\":{\"coordinates\":null,\"data_source\":{\"id\":\"2200\"},\"glyph\":{\"id\":\"2201\"},\"group\":null,\"hover_glyph\":null,\"muted\":true,\"muted_glyph\":{\"id\":\"2203\"},\"nonselection_glyph\":{\"id\":\"2202\"},\"view\":{\"id\":\"2205\"}},\"id\":\"2204\",\"type\":\"GlyphRenderer\"},{\"attributes\":{\"source\":{\"id\":\"2278\"}},\"id\":\"2283\",\"type\":\"CDSView\"},{\"attributes\":{},\"id\":\"2334\",\"type\":\"UnionRenderers\"},{\"attributes\":{\"axis_label\":\"Avg_study_year\",\"coordinates\":null,\"formatter\":{\"id\":\"2319\"},\"group\":null,\"major_label_policy\":{\"id\":\"2320\"},\"ticker\":{\"id\":\"2147\"}},\"id\":\"2146\",\"type\":\"LinearAxis\"},{\"attributes\":{\"line_alpha\":0.1,\"line_color\":\"grey\",\"line_width\":2.0,\"x\":{\"field\":\"x\"},\"y\":{\"field\":\"y\"}},\"id\":\"2280\",\"type\":\"Line\"},{\"attributes\":{\"label\":{\"value\":\"Amager \\u00d8st\"},\"renderers\":[{\"id\":\"2186\"}]},\"id\":\"2297\",\"type\":\"LegendItem\"},{\"attributes\":{},\"id\":\"2335\",\"type\":\"Selection\"},{\"attributes\":{\"line_color\":\"cyan\",\"line_width\":2.0,\"x\":{\"field\":\"x\"},\"y\":{\"field\":\"y\"}},\"id\":\"2207\",\"type\":\"Line\"},{\"attributes\":{\"label\":{\"value\":\"Amager Vest\"},\"renderers\":[{\"id\":\"2174\"}]},\"id\":\"2296\",\"type\":\"LegendItem\"},{\"attributes\":{\"source\":{\"id\":\"2206\"}},\"id\":\"2211\",\"type\":\"CDSView\"},{\"attributes\":{\"line_alpha\":0.2,\"line_color\":\"cyan\",\"line_width\":2.0,\"x\":{\"field\":\"x\"},\"y\":{\"field\":\"y\"}},\"id\":\"2203\",\"type\":\"Line\"},{\"attributes\":{\"line_alpha\":0.1,\"line_color\":\"cyan\",\"line_width\":2.0,\"x\":{\"field\":\"x\"},\"y\":{\"field\":\"y\"}},\"id\":\"2202\",\"type\":\"Line\"},{\"attributes\":{},\"id\":\"2138\",\"type\":\"LinearScale\"},{\"attributes\":{\"label\":{\"value\":\"Bispebjerg\"},\"renderers\":[{\"id\":\"2192\"}]},\"id\":\"2287\",\"type\":\"LegendItem\"},{\"attributes\":{\"line_width\":2.0,\"x\":{\"field\":\"x\"},\"y\":{\"field\":\"y\"}},\"id\":\"2213\",\"type\":\"Line\"},{\"attributes\":{\"label\":{\"value\":\"Br\\u00f8nsh\\u00f8j-Husum\"},\"renderers\":[{\"id\":\"2204\"}]},\"id\":\"2288\",\"type\":\"LegendItem\"},{\"attributes\":{\"label\":{\"value\":\"Indre By\"},\"renderers\":[{\"id\":\"2216\"}]},\"id\":\"2289\",\"type\":\"LegendItem\"},{\"attributes\":{\"label\":{\"value\":\"Br\\u00f8nsh\\u00f8j-Husum\"},\"renderers\":[{\"id\":\"2210\"}]},\"id\":\"2299\",\"type\":\"LegendItem\"},{\"attributes\":{\"source\":{\"id\":\"2200\"}},\"id\":\"2205\",\"type\":\"CDSView\"},{\"attributes\":{},\"id\":\"2336\",\"type\":\"UnionRenderers\"},{\"attributes\":{\"label\":{\"value\":\"N\\u00f8rrebro\"},\"renderers\":[{\"id\":\"2228\"}]},\"id\":\"2290\",\"type\":\"LegendItem\"},{\"attributes\":{},\"id\":\"2147\",\"type\":\"BasicTicker\"},{\"attributes\":{},\"id\":\"2337\",\"type\":\"Selection\"},{\"attributes\":{\"label\":{\"value\":\"Valby\"},\"renderers\":[{\"id\":\"2240\"}]},\"id\":\"2291\",\"type\":\"LegendItem\"},{\"attributes\":{\"below\":[{\"id\":\"2142\"}],\"center\":[{\"id\":\"2145\"},{\"id\":\"2149\"}],\"left\":[{\"id\":\"2146\"},{\"id\":\"2295\"}],\"renderers\":[{\"id\":\"2174\"},{\"id\":\"2186\"},{\"id\":\"2198\"},{\"id\":\"2210\"},{\"id\":\"2222\"},{\"id\":\"2234\"},{\"id\":\"2246\"},{\"id\":\"2258\"},{\"id\":\"2270\"},{\"id\":\"2282\"}],\"title\":{\"id\":\"2132\"},\"toolbar\":{\"id\":\"2157\"},\"width\":900,\"x_range\":{\"id\":\"2134\"},\"x_scale\":{\"id\":\"2138\"},\"y_range\":{\"id\":\"2136\"},\"y_scale\":{\"id\":\"2140\"}},\"id\":\"2131\",\"subtype\":\"Figure\",\"type\":\"Plot\"},{\"attributes\":{\"axis_label\":\"Year\",\"coordinates\":null,\"formatter\":{\"id\":\"2322\"},\"group\":null,\"major_label_policy\":{\"id\":\"2323\"},\"ticker\":{\"id\":\"2143\"}},\"id\":\"2142\",\"type\":\"LinearAxis\"},{\"attributes\":{\"click_policy\":\"mute\",\"coordinates\":null,\"group\":null,\"items\":[{\"id\":\"2285\"},{\"id\":\"2286\"},{\"id\":\"2287\"},{\"id\":\"2288\"},{\"id\":\"2289\"},{\"id\":\"2290\"},{\"id\":\"2291\"},{\"id\":\"2292\"},{\"id\":\"2293\"},{\"id\":\"2294\"}],\"location\":\"top_left\"},\"id\":\"2284\",\"type\":\"Legend\"},{\"attributes\":{\"label\":{\"value\":\"Vanl\\u00f8se\"},\"renderers\":[{\"id\":\"2252\"}]},\"id\":\"2292\",\"type\":\"LegendItem\"},{\"attributes\":{},\"id\":\"2101\",\"type\":\"DataRange1d\"},{\"attributes\":{\"label\":{\"value\":\"Vesterbro-Kongens Enghave\"},\"renderers\":[{\"id\":\"2264\"}]},\"id\":\"2293\",\"type\":\"LegendItem\"},{\"attributes\":{},\"id\":\"2110\",\"type\":\"BasicTicker\"},{\"attributes\":{\"data\":{\"x\":[2008,2009,2010,2011,2012,2013,2014,2015,2016,2017,2018,2019,2020],\"y\":{\"__ndarray__\":\"yMHQCnh1KUAFSHTrT4spQD8Y9GcQrClA8iKNlfLOKUBo3S01qvopQEzinNyAMSpAkC39o3dsKkB1sAEwybwqQOElHjLp+ipAzVc5zB0cK0B/zqGPajsrQBp1ZA4+ZitA/a7ubOuEK0A=\",\"dtype\":\"float64\",\"order\":\"little\",\"shape\":[13]}},\"selected\":{\"id\":\"2352\"},\"selection_policy\":{\"id\":\"2351\"}},\"id\":\"2206\",\"type\":\"ColumnDataSource\"},{\"attributes\":{\"coordinates\":null,\"data_source\":{\"id\":\"2170\"},\"glyph\":{\"id\":\"2171\"},\"group\":null,\"hover_glyph\":null,\"muted\":true,\"muted_glyph\":{\"id\":\"2173\"},\"nonselection_glyph\":{\"id\":\"2172\"},\"view\":{\"id\":\"2175\"}},\"id\":\"2174\",\"type\":\"GlyphRenderer\"},{\"attributes\":{\"label\":{\"value\":\"\\u00d8sterbro\"},\"renderers\":[{\"id\":\"2276\"}]},\"id\":\"2294\",\"type\":\"LegendItem\"},{\"attributes\":{},\"id\":\"2136\",\"type\":\"DataRange1d\"},{\"attributes\":{\"child\":{\"id\":\"2098\"},\"title\":\"Income\"},\"id\":\"2306\",\"type\":\"Panel\"},{\"attributes\":{},\"id\":\"2150\",\"type\":\"PanTool\"},{\"attributes\":{},\"id\":\"2140\",\"type\":\"LinearScale\"},{\"attributes\":{},\"id\":\"2338\",\"type\":\"UnionRenderers\"},{\"attributes\":{},\"id\":\"2143\",\"type\":\"BasicTicker\"},{\"attributes\":{},\"id\":\"2339\",\"type\":\"Selection\"},{\"attributes\":{\"below\":[{\"id\":\"2109\"}],\"center\":[{\"id\":\"2112\"},{\"id\":\"2116\"}],\"left\":[{\"id\":\"2113\"},{\"id\":\"2284\"}],\"renderers\":[{\"id\":\"2168\"},{\"id\":\"2180\"},{\"id\":\"2192\"},{\"id\":\"2204\"},{\"id\":\"2216\"},{\"id\":\"2228\"},{\"id\":\"2240\"},{\"id\":\"2252\"},{\"id\":\"2264\"},{\"id\":\"2276\"}],\"title\":{\"id\":\"2099\"},\"toolbar\":{\"id\":\"2124\"},\"width\":900,\"x_range\":{\"id\":\"2101\"},\"x_scale\":{\"id\":\"2105\"},\"y_range\":{\"id\":\"2103\"},\"y_scale\":{\"id\":\"2107\"}},\"id\":\"2098\",\"subtype\":\"Figure\",\"type\":\"Plot\"},{\"attributes\":{\"label\":{\"value\":\"Bispebjerg\"},\"renderers\":[{\"id\":\"2198\"}]},\"id\":\"2298\",\"type\":\"LegendItem\"},{\"attributes\":{\"label\":{\"value\":\"Indre By\"},\"renderers\":[{\"id\":\"2222\"}]},\"id\":\"2300\",\"type\":\"LegendItem\"},{\"attributes\":{\"coordinates\":null,\"group\":null,\"text\":\"Avg_income\",\"text_font_size\":\"20px\"},\"id\":\"2099\",\"type\":\"Title\"},{\"attributes\":{\"label\":{\"value\":\"N\\u00f8rrebro\"},\"renderers\":[{\"id\":\"2234\"}]},\"id\":\"2301\",\"type\":\"LegendItem\"}],\"root_ids\":[\"2308\"]},\"title\":\"Bokeh Application\",\"version\":\"2.4.2\"}};\n  const render_items = [{\"docid\":\"eaa2c185-ff82-40aa-b510-ee374b4f4fa0\",\"root_ids\":[\"2308\"],\"roots\":{\"2308\":\"b2b0b6d6-83da-4207-90ac-f04a4cb1796f\"}}];\n  root.Bokeh.embed.embed_items_notebook(docs_json, render_items);\n\n  }\n  if (root.Bokeh !== undefined) {\n    embed_document(root);\n  } else {\n    let attempts = 0;\n    const timer = setInterval(function(root) {\n      if (root.Bokeh !== undefined) {\n        clearInterval(timer);\n        embed_document(root);\n      } else {\n        attempts++;\n        if (attempts > 100) {\n          clearInterval(timer);\n          console.log(\"Bokeh: ERROR: Unable to run BokehJS code because BokehJS library is missing\");\n        }\n      }\n    }, 10, root)\n  }\n})(window);",
      "application/vnd.bokehjs_exec.v0+json": ""
     },
     "metadata": {
      "application/vnd.bokehjs_exec.v0+json": {
       "id": "2308"
      }
     },
     "output_type": "display_data"
    }
   ],
   "source": [
    "df_districts = df_demo.groupby([\"year\", \"district\"]).size().reset_index()\n",
    "districts = df_districts.district.unique()\n",
    "\n",
    "table_income = pd.pivot_table(df_demo, values='avg_income', index=[\"year\"],columns=['district'])\n",
    "table_study = pd.pivot_table(df_demo, values='avg_study_year', index=[\"year\"],columns=['district'])\n",
    "\n",
    "reset_output() # If you are having issues with visualizing Bokeh plots in the notebook try to uncomment this line\n",
    "# prepare data for bokeh plot\n",
    "#Create empty figures\n",
    "\n",
    "p1 = figure(plot_width = 900, plot_height = 600, title = \"Avg_income\", \n",
    "            x_axis_label = \"Year\", y_axis_label = \"Avg_income\") \n",
    "\n",
    "p2 = figure(plot_width = 900, plot_height = 600, title = \"Avg_study_year\", \n",
    "            x_axis_label = \"Year\", y_axis_label = \"Avg_study_year\") \n",
    "\n",
    "#colors\n",
    "colors = [\"red\", \"blue\", \"green\", \"cyan\", \"black\", \"darkblue\", \"magenta\", \"yellow\", \"orange\", \"grey\"]\n",
    "#Create empty list for custom legend\n",
    "items1 = []\n",
    "items2 = []\n",
    "\n",
    "\n",
    "#Add line by using p.line\n",
    "line ={}\n",
    "line2= {}\n",
    "# Pivot table for number of unique species in each district over the years \n",
    "#df_species_year = pd.pivot_table(df5, values='species', index='year', columns=['district'], aggfunc='nunique', fill_value=0)\n",
    "\n",
    "# Insert fraction values in bars\n",
    "for indx, i in enumerate(districts):\n",
    "    line[indx] = p1.line(x=table_income.index, y = table_income[i], width=2.0, color = colors[indx], muted =True)\n",
    "    line2[indx] = p2.line(x=table_study.index, y = table_study[i], width=2.0, color = colors[indx], muted =True)\n",
    "\n",
    "    #Append items to create the legend\n",
    "    items1.append((districts[indx], [line[indx]]))\n",
    "    items2.append((districts[indx], [line2[indx]]))\n",
    "\n",
    "\n",
    "# plot 1\n",
    "#This is to manage the legend in plot\n",
    "#add the legend outside the plot\n",
    "legend = Legend(items=items1, location=\"top_left\")\n",
    "p1.add_layout(legend, 'left')\n",
    "\n",
    "p1.legend.click_policy = \"mute\" #you can also try \"hide\"\n",
    "p1.title.text_font_size = \"20px\"\n",
    "# plot 2\n",
    "legend = Legend(items=items2, location=\"top_left\")\n",
    "p2.add_layout(legend, 'left')\n",
    "\n",
    "p2.legend.click_policy = \"mute\" #you can also try \"hide\"\n",
    "p2.title.text_font_size = \"20px\"\n",
    "\n",
    "\n",
    "# Visualize all 10 district and the count of their top 10 species\n",
    "tab1 = Panel(child=p1, title=\"Income\")\n",
    "tab2 = Panel(child=p2, title=\"Study year\")\n",
    "tabs = Tabs(tabs=[ tab1, tab2])\n",
    "output_notebook()\n",
    "\n",
    "show(tabs)\n",
    "\n",
    "\n",
    "#show(tabs)"
   ]
  },
  {
   "cell_type": "code",
   "execution_count": null,
   "metadata": {},
   "outputs": [],
   "source": []
  },
  {
   "cell_type": "code",
   "execution_count": null,
   "metadata": {},
   "outputs": [],
   "source": []
  }
 ],
 "metadata": {
  "interpreter": {
   "hash": "fd10ce66b02ffab33161025f9ce872921483e68578b0c421a37b8bec3f5cf27b"
  },
  "kernelspec": {
   "display_name": "Python 3.9.1 ('base')",
   "language": "python",
   "name": "python3"
  },
  "language_info": {
   "codemirror_mode": {
    "name": "ipython",
    "version": 3
   },
   "file_extension": ".py",
   "mimetype": "text/x-python",
   "name": "python",
   "nbconvert_exporter": "python",
   "pygments_lexer": "ipython3",
   "version": "3.9.1"
  },
  "orig_nbformat": 4
 },
 "nbformat": 4,
 "nbformat_minor": 2
}

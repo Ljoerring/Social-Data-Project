{
 "cells": [
  {
   "cell_type": "code",
   "execution_count": 322,
   "metadata": {},
   "outputs": [
    {
     "data": {
      "text/plain": "'/Users/carolinesofieljorring/Desktop/Social-Data-Project'"
     },
     "execution_count": 322,
     "metadata": {},
     "output_type": "execute_result"
    }
   ],
   "source": [
    "import pandas as pd\n",
    "import os \n",
    "import matplotlib.pyplot as plt \n",
    "import re\n",
    "import numpy as np\n",
    "os.getcwd()"
   ]
  },
  {
   "cell_type": "code",
   "execution_count": 323,
   "metadata": {},
   "outputs": [],
   "source": [
    "# load tree data from the municipality of Copenhagen \n",
    "cols = ['id','kategori','ny_dm_element','traeart','slaegtsnavn','planteaar','faeldningsaar','bydelsnavn','byrumstype','vejnavn','fritrumsprofil','stammeomfang','placering','omgivelse','reg_dato','opdateret_dato','wkb_geometry']\n",
    "df = pd.read_csv('raw_data/trae_basis.csv',sep=',',usecols=cols)\n",
    "\n",
    "# prepare tree data for analysis\n",
    "dfnew = df[df[\"planteaar\"] >= 2000] # get data from 2000 and after \n",
    "dfnew = dfnew.dropna(subset=['planteaar']) # remove samples with unknown plant year \n",
    "dfnew.columns = ['category','id','type','tree_species','species','year','cut_year','district','district_type','street','space_profile','trunk_size','street_location','surroundings','register_date','update_date','coordinates']\n",
    "dfnew['year'] = dfnew['year'].apply(int)\n",
    "\n",
    "# get top 10 tree species \n",
    "tree_species = dfnew[\"species\"].value_counts().sort_values(ascending = False)[1:11].index.to_list()\n",
    "dfnew.to_csv('data/df_tree.csv', index=False)"
   ]
  },
  {
   "cell_type": "code",
   "execution_count": 324,
   "metadata": {},
   "outputs": [],
   "source": [
    "# number of trees \n",
    "dfnew1 = dfnew.groupby(['year','district']).size().reset_index()\n",
    "dfnew1.columns = ['year','district','number_of_planted_trees']\n",
    "\n",
    "# types\n",
    "dfnew2 = pd.pivot_table(dfnew, values = \"id\", index = [\"year\", \"district\"], columns = [\"type\"], aggfunc = \"count\")\n",
    "dfnew2.columns = [''.join(col) for col in dfnew2.columns]\n",
    "dfnew2 = dfnew2.reset_index(level=[0,1])\n",
    "\n",
    "# species\n",
    "dfnew3 = pd.pivot_table(dfnew, values = \"id\", index = [\"year\", \"district\"], columns = [\"species\"], aggfunc = \"count\")\n",
    "dfnew3 = dfnew3[tree_species]\n",
    "dfnew3.columns = [''.join(col) for col in dfnew3.columns]\n",
    "dfnew3 = dfnew3.reset_index(level=[0,1])\n",
    "\n",
    "# merge the above 3 tables \n",
    "temp = pd.merge(dfnew2,dfnew3)\n",
    "df_tree = pd.merge(dfnew1,temp)"
   ]
  },
  {
   "cell_type": "code",
   "execution_count": 325,
   "metadata": {},
   "outputs": [],
   "source": [
    "# load income data from the municipality of Copenhagen \n",
    "df1 = pd.read_excel('raw_data/2022419113038370864435KKIND3.xlsx', header=2, usecols = \"C:Y\")\n",
    "df1.rename(columns = {'Unnamed: 2':'income_type', 'Unnamed: 3':'district'}, inplace = True)\n",
    "df1['income_type'] = df1['income_type'].fillna(method='ffill')\n",
    "df1['district'] = df1['district'].str.replace(\"Bydel - \", \"\")\n",
    "df1['district'] = df1['district'].str.replace(\"/\", \"-\")\n",
    "df1 = df1[df1['district']!='København i alt']\n",
    "\n",
    "df_income = df1.melt(id_vars=[\"district\",\"income_type\"],var_name=\"year\", value_name=\"total\")\n",
    "df_income = (pd.pivot_table(df_income, values = \"total\", index = [\"year\", \"district\"], columns = [\"income_type\"], aggfunc = \"sum\")).reset_index()\n",
    "df_income['year'] = df_income['year'].apply(int)"
   ]
  },
  {
   "cell_type": "code",
   "execution_count": 327,
   "metadata": {},
   "outputs": [],
   "source": [
    "# merge tree and income data\n",
    "df_merged = pd.merge(df_tree,df_income,how='outer')\n",
    "df_merged = df_merged[df_merged.year.isin([2021,2022])==False]\n",
    "df_merged = df_merged.drop(columns=['0'])"
   ]
  },
  {
   "cell_type": "code",
   "execution_count": 334,
   "metadata": {},
   "outputs": [
    {
     "data": {
      "text/plain": "Index(['year', 'district', 'number_of_planted_trees', 'Formede træer',\n       'Gade- og allétræer', 'Park- og naturtræer', 'Private træer',\n       'Træer i bevoksninger', 'Eg', 'Lind', 'Kirsebær/Blomme', 'Platan',\n       'Robinie', 'Røn', 'Æble', 'Ask', 'Løn', 'El',\n       'Gennemsnit for alle personer med indkomsten (kr.)',\n       'Indkomstbeløb (1.000 kr.)', 'Personer med indkomsten (antal)',\n       'Dansk oprindelse', 'Ikke-vestlig oprindelse', 'Vestlig oprindelse',\n       'Erhvervsfaglige og korte videregående uddannelser',\n       'Grundskole og uoplyst mv.',\n       'Gymnasiale uddannelser og adgangsgivende uddannelsesforløb',\n       'Lange videregående uddannelser og Ph.d og forskeruddannelser',\n       'Mellemlange videregående uddannelser og bacheloruddannelser'],\n      dtype='object')"
     },
     "execution_count": 334,
     "metadata": {},
     "output_type": "execute_result"
    }
   ],
   "source": [
    "# load education data from the municipality of Copenhagen \n",
    "df2 = pd.read_excel('raw_data/2022419114031370864435KKUDD2.xlsx', header =2, usecols = \"C:R\")\n",
    "df2.rename(columns = {'Unnamed: 2':'race', 'Unnamed: 3':'education', 'Unnamed: 4':'district'}, inplace = True)\n",
    "df2['race'] = df2['race'].fillna(method='ffill')\n",
    "df2['education'] = df2['education'].fillna(method='ffill')\n",
    "df2['district'] = df2['district'].str.replace(\"Bydel - \", \"\")\n",
    "df2['district'] = df2['district'].str.replace(\"/\", \"-\")\n",
    "df2 = df2[df2['district']!='København i alt']\n",
    "\n",
    "df_education = df2.melt(id_vars=[\"district\",\"race\", \"education\"], var_name=\"year\", value_name=\"total_educated\")\n",
    "df_education['year'] = df_education['year'].apply(int)\n",
    "df_race = (pd.pivot_table(df_education, values = \"total_educated\", index = [\"year\", \"district\"], columns = [\"race\"], aggfunc = \"sum\")).reset_index()\n",
    "df_level = (pd.pivot_table(df_education, values = \"total_educated\", index = [\"year\", \"district\"], columns = [\"education\"], aggfunc = \"sum\")).reset_index()\n",
    "\n",
    "temp1 = pd.merge(df_merged,df_race,how='outer')\n",
    "df_all = pd.merge(temp1,df_level,how='outer')\n",
    "df_all.columns"
   ]
  },
  {
   "cell_type": "code",
   "execution_count": 330,
   "metadata": {},
   "outputs": [
    {
     "data": {
      "text/plain": "0      True\n1      True\n2      True\n3      True\n4      True\n       ... \n125    True\n126    True\n127    True\n128    True\n129    True\nLength: 130, dtype: bool"
     },
     "execution_count": 330,
     "metadata": {},
     "output_type": "execute_result"
    }
   ],
   "source": [
    "df_all[['Dansk oprindelse','Ikke-vestlig oprindelse','Vestlig oprindelse']].sum(axis=1) == df_all[['Erhvervsfaglige og korte videregående uddannelser',\n",
    "       'Grundskole og uoplyst mv.',\n",
    "       'Gymnasiale uddannelser og adgangsgivende uddannelsesforløb',\n",
    "       'Lange videregående uddannelser og Ph.d og forskeruddannelser',\n",
    "       'Mellemlange videregående uddannelser og bacheloruddannelser']].sum(axis=1)"
   ]
  },
  {
   "cell_type": "code",
   "execution_count": 46,
   "metadata": {},
   "outputs": [
    {
     "data": {
      "text/plain": [
       "kategori           object\n",
       "id                  int64\n",
       "ny_dm_element      object\n",
       "traeart            object\n",
       "slaegtsnavn        object\n",
       "planteaar         float64\n",
       "faeldningsaar      object\n",
       "bydelsnavn         object\n",
       "byrumstype         object\n",
       "vejnavn            object\n",
       "fritrumsprofil     object\n",
       "stammeomfang       object\n",
       "placering          object\n",
       "omgivelse          object\n",
       "reg_dato           object\n",
       "opdateret_dato     object\n",
       "wkb_geometry       object\n",
       "X                 float64\n",
       "Y                 float64\n",
       "dtype: object"
      ]
     },
     "execution_count": 46,
     "metadata": {},
     "output_type": "execute_result"
    }
   ],
   "source": [
    "df['X'] = df['wkb_geometry'].apply(get_x)\n",
    "df['Y'] = df['wkb_geometry'].apply(get_y)\n",
    "df.dtypes"
   ]
  },
  {
   "cell_type": "code",
   "execution_count": 47,
   "metadata": {},
   "outputs": [],
   "source": [
    "def get_x(row):\n",
    "    x = re.findall(r\"[-+]?\\d*\\.\\d+|\\d+\", row)[0]\n",
    "    return float(x)\n",
    "def get_y(row):\n",
    "    y = re.findall(r\"[-+]?\\d*\\.\\d+|\\d+\", row)[1]\n",
    "    return float(y)"
   ]
  },
  {
   "cell_type": "code",
   "execution_count": 48,
   "metadata": {},
   "outputs": [],
   "source": [
    "df['X'] = df['wkb_geometry'].str.extract(r'(\\d+.\\d+)').astype('float')"
   ]
  },
  {
   "cell_type": "code",
   "execution_count": 48,
   "metadata": {},
   "outputs": [
    {
     "data": {
      "text/plain": [
       "'POINT (12.506472982261277 55.69325544860847)'"
      ]
     },
     "execution_count": 48,
     "metadata": {},
     "output_type": "execute_result"
    }
   ],
   "source": [
    "df['wkb_geometry'][0]"
   ]
  },
  {
   "cell_type": "code",
   "execution_count": 3,
   "metadata": {},
   "outputs": [],
   "source": [
    "# Idéen med datasættet, hvad vil vi undersøge?\n",
    "# hvorfor vigtigt? Vigtigt med træer ift. klimaaflastning (CO2), god stemning i byer, træer/grønne områder skaber ro \n",
    "\n",
    "# Exploratory analysis\n",
    "# Location\n",
    "# Hvor mange træer i Kbh, hvor mange træer i de forskellige bydele\n",
    "# Hvilke slags træer - overordnet, i de forskellige bydele \n",
    "# Geo plot, brug lat,loc\n",
    "\n",
    "# Hvilke træer\n",
    "# Hvornår er træerne plantet - i hvilke år plantes der flest\n",
    "# Hvilke typer træeer er plantet hvornår  \n",
    "# Hvor store er træerne? Forskel på størrelse ift. bydele "
   ]
  },
  {
   "cell_type": "code",
   "execution_count": 4,
   "metadata": {},
   "outputs": [
    {
     "name": "stdout",
     "output_type": "stream",
     "text": [
      "62079 62063\n",
      "False\n",
      "62063 62063\n"
     ]
    }
   ],
   "source": [
    "## Data preprocessing\n",
    "print(df.shape[0],len(df['id'].unique()))\n",
    "df.duplicated(subset='id',keep=False) # rows with same id \n",
    "df = df.drop_duplicates(subset='id',keep='last') # drop duplicated rows\n",
    "print(df.duplicated(subset=['id']).any())\n",
    "print(df.shape[0],len(df['id'].unique()))"
   ]
  },
  {
   "cell_type": "code",
   "execution_count": 5,
   "metadata": {},
   "outputs": [
    {
     "data": {
      "image/png": "[encoded data removed]",
      "text/plain": [
       "<Figure size 432x288 with 1 Axes>"
      ]
     },
     "metadata": {
      "needs_background": "light"
     },
     "output_type": "display_data"
    }
   ],
   "source": [
    "# Exploratory analysis\n",
    "n_trees = df.shape[0] # number of trees in Copenhagen\n",
    "count_bydele = df.groupby(['bydelsnavn']).size().sort_values(ascending=False)\n",
    "plt.figure()\n",
    "plt.bar(count_bydele.index,count_bydele.values)\n",
    "plt.xticks(count_bydele.index,rotation=90)\n",
    "plt.show()"
   ]
  },
  {
   "cell_type": "code",
   "execution_count": 6,
   "metadata": {},
   "outputs": [],
   "source": [
    "# For bokeh visualisations\n",
    "from bokeh.plotting import figure\n",
    "from bokeh.models.widgets import Panel, Tabs\n",
    "from bokeh.io import show, output_notebook, reset_output\n",
    "from bokeh.models import ColumnDataSource, HoverTool, Legend\n",
    "from bokeh.layouts import row"
   ]
  },
  {
   "cell_type": "code",
   "execution_count": 7,
   "metadata": {},
   "outputs": [
    {
     "data": {
      "text/plain": [
       "array([2008., 2005., 2018., 1960., 2012., 2022., 1977., 2009., 2011.,\n",
       "       2003., 2021., 1995., 2010., 1980., 1970., 2016., 2015., 2019.,\n",
       "       2006., 2002., 2001., 1990., 1988., 1998., 1992., 2007., 1947.,\n",
       "       2014., 2000., 1918., 1900., 2013., 1930., 1940., 1982., 2004.,\n",
       "       1985., 1972., 1953., 2017., 1969., 2020., 1944., 1950., 1925.,\n",
       "       1975., 1999., 1951., 1996., 1924., 1920., 1984., 1997., 1989.,\n",
       "       1942., 1850., 1935., 1948.,   nan, 1936., 1991., 1971., 1976.,\n",
       "       1994., 1978., 1906., 1965., 1941., 1974., 1973., 1979., 1952.,\n",
       "          0., 1987., 1961., 1909., 1955., 1905., 1945., 1981., 1986.,\n",
       "       1773., 1993., 1933., 1983., 1912., 1902., 1907., 1908., 1963.,\n",
       "       1967., 1915., 1927., 1968., 1959., 1910., 1962., 1870., 1957.,\n",
       "       1958., 1895., 1966., 1892., 1954., 1932., 1943., 1937., 1931.,\n",
       "       1891., 1890., 1901., 1926., 1928., 1880., 1919., 1964., 1886.,\n",
       "       1899., 1913., 1923., 1934., 1922., 1916., 1860., 1914., 1938.,\n",
       "       1939., 1946.])"
      ]
     },
     "execution_count": 7,
     "metadata": {},
     "output_type": "execute_result"
    }
   ],
   "source": [
    "df['kategori'].unique()\n",
    "df['ny_dm_element'].unique()\n",
    "df['slaegtsnavn'].unique()\n",
    "df['planteaar'].unique()"
   ]
  },
  {
   "cell_type": "code",
   "execution_count": 8,
   "metadata": {},
   "outputs": [],
   "source": [
    "df1 = df.groupby(['bydelsnavn','ny_dm_element']).size().reset_index()\n",
    "df1.columns = ['district','category','count']\n",
    "df1 = df1[df1['category']!='0'] #drop category '0' for Østerbro\n",
    "\n",
    "count_category = df.groupby('ny_dm_element').size()\n",
    "categories = count_category.index[count_category.index != '0'].to_list()\n",
    "count_bydele = df[df['ny_dm_element'].isin(categories)].groupby(['bydelsnavn']).size().sort_values(ascending=False)"
   ]
  },
  {
   "cell_type": "code",
   "execution_count": 11,
   "metadata": {},
   "outputs": [
    {
     "data": {
      "text/html": [
       "<div>\n",
       "<style scoped>\n",
       "    .dataframe tbody tr th:only-of-type {\n",
       "        vertical-align: middle;\n",
       "    }\n",
       "\n",
       "    .dataframe tbody tr th {\n",
       "        vertical-align: top;\n",
       "    }\n",
       "\n",
       "    .dataframe thead th {\n",
       "        text-align: right;\n",
       "    }\n",
       "</style>\n",
       "<table border=\"1\" class=\"dataframe\">\n",
       "  <thead>\n",
       "    <tr style=\"text-align: right;\">\n",
       "      <th>category</th>\n",
       "      <th>district</th>\n",
       "      <th>Formede træer</th>\n",
       "      <th>Gade- og allétræer</th>\n",
       "      <th>Park- og naturtræer</th>\n",
       "      <th>Private træer</th>\n",
       "      <th>Træer i bevoksninger</th>\n",
       "    </tr>\n",
       "  </thead>\n",
       "  <tbody>\n",
       "    <tr>\n",
       "      <th>0</th>\n",
       "      <td>Amager Vest</td>\n",
       "      <td>82</td>\n",
       "      <td>2824</td>\n",
       "      <td>1782</td>\n",
       "      <td>57</td>\n",
       "      <td>490</td>\n",
       "    </tr>\n",
       "    <tr>\n",
       "      <th>1</th>\n",
       "      <td>Amager Øst</td>\n",
       "      <td>114</td>\n",
       "      <td>1695</td>\n",
       "      <td>2013</td>\n",
       "      <td>140</td>\n",
       "      <td>335</td>\n",
       "    </tr>\n",
       "    <tr>\n",
       "      <th>2</th>\n",
       "      <td>Bispebjerg</td>\n",
       "      <td>473</td>\n",
       "      <td>2165</td>\n",
       "      <td>5402</td>\n",
       "      <td>158</td>\n",
       "      <td>462</td>\n",
       "    </tr>\n",
       "    <tr>\n",
       "      <th>3</th>\n",
       "      <td>Brønshøj-Husum</td>\n",
       "      <td>50</td>\n",
       "      <td>1574</td>\n",
       "      <td>2080</td>\n",
       "      <td>68</td>\n",
       "      <td>677</td>\n",
       "    </tr>\n",
       "    <tr>\n",
       "      <th>4</th>\n",
       "      <td>Indre By</td>\n",
       "      <td>454</td>\n",
       "      <td>2870</td>\n",
       "      <td>2193</td>\n",
       "      <td>280</td>\n",
       "      <td>535</td>\n",
       "    </tr>\n",
       "    <tr>\n",
       "      <th>5</th>\n",
       "      <td>Nørrebro</td>\n",
       "      <td>231</td>\n",
       "      <td>2890</td>\n",
       "      <td>3830</td>\n",
       "      <td>104</td>\n",
       "      <td>211</td>\n",
       "    </tr>\n",
       "    <tr>\n",
       "      <th>6</th>\n",
       "      <td>Valby</td>\n",
       "      <td>208</td>\n",
       "      <td>1728</td>\n",
       "      <td>2895</td>\n",
       "      <td>58</td>\n",
       "      <td>463</td>\n",
       "    </tr>\n",
       "    <tr>\n",
       "      <th>7</th>\n",
       "      <td>Vanløse</td>\n",
       "      <td>44</td>\n",
       "      <td>1179</td>\n",
       "      <td>2741</td>\n",
       "      <td>44</td>\n",
       "      <td>208</td>\n",
       "    </tr>\n",
       "    <tr>\n",
       "      <th>8</th>\n",
       "      <td>Vesterbro-Kongens Enghave</td>\n",
       "      <td>132</td>\n",
       "      <td>4252</td>\n",
       "      <td>2622</td>\n",
       "      <td>53</td>\n",
       "      <td>287</td>\n",
       "    </tr>\n",
       "    <tr>\n",
       "      <th>9</th>\n",
       "      <td>Østerbro</td>\n",
       "      <td>414</td>\n",
       "      <td>4178</td>\n",
       "      <td>2552</td>\n",
       "      <td>153</td>\n",
       "      <td>1580</td>\n",
       "    </tr>\n",
       "  </tbody>\n",
       "</table>\n",
       "</div>"
      ],
      "text/plain": [
       "category                   district  Formede træer  Gade- og allétræer  \\\n",
       "0                       Amager Vest             82                2824   \n",
       "1                        Amager Øst            114                1695   \n",
       "2                        Bispebjerg            473                2165   \n",
       "3                    Brønshøj-Husum             50                1574   \n",
       "4                          Indre By            454                2870   \n",
       "5                          Nørrebro            231                2890   \n",
       "6                             Valby            208                1728   \n",
       "7                           Vanløse             44                1179   \n",
       "8         Vesterbro-Kongens Enghave            132                4252   \n",
       "9                          Østerbro            414                4178   \n",
       "\n",
       "category  Park- og naturtræer  Private træer  Træer i bevoksninger  \n",
       "0                        1782             57                   490  \n",
       "1                        2013            140                   335  \n",
       "2                        5402            158                   462  \n",
       "3                        2080             68                   677  \n",
       "4                        2193            280                   535  \n",
       "5                        3830            104                   211  \n",
       "6                        2895             58                   463  \n",
       "7                        2741             44                   208  \n",
       "8                        2622             53                   287  \n",
       "9                        2552            153                  1580  "
      ]
     },
     "execution_count": 11,
     "metadata": {},
     "output_type": "execute_result"
    }
   ],
   "source": [
    "df1['fraction district'] = 0\n",
    "for name in count_bydele.index:\n",
    "    df1.loc[df1['district']==name,'fraction district'] = df1.loc[df1['district']==name,'count']/count_bydele[name] #fraction of category in district\n",
    "df1new = df1.pivot_table('count', ['district'], 'category')\n",
    "df1new = df1new.reset_index()\n",
    "df1new"
   ]
  },
  {
   "cell_type": "code",
   "execution_count": 12,
   "metadata": {},
   "outputs": [
    {
     "data": {
      "text/html": [
       "\n",
       "    <div class=\"bk-root\">\n",
       "        <a href=\"https://bokeh.org\" target=\"_blank\" class=\"bk-logo bk-logo-small bk-logo-notebook\"></a>\n",
       "        <span id=\"1182\">Loading BokehJS ...</span>\n",
       "    </div>"
      ]
     },
     "metadata": {},
     "output_type": "display_data"
    },
    {
     "data": {
      "application/javascript": "\n(function(root) {\n  function now() {\n    return new Date();\n  }\n\n  const force = true;\n\n  if (typeof root._bokeh_onload_callbacks === \"undefined\" || force === true) {\n    root._bokeh_onload_callbacks = [];\n    root._bokeh_is_loading = undefined;\n  }\n\n  const JS_MIME_TYPE = 'application/javascript';\n  const HTML_MIME_TYPE = 'text/html';\n  const EXEC_MIME_TYPE = 'application/vnd.bokehjs_exec.v0+json';\n  const CLASS_NAME = 'output_bokeh rendered_html';\n\n  /**\n   * Render data to the DOM node\n   */\n  function render(props, node) {\n    const script = document.createElement(\"script\");\n    node.appendChild(script);\n  }\n\n  /**\n   * Handle when an output is cleared or removed\n   */\n  function handleClearOutput(event, handle) {\n    const cell = handle.cell;\n\n    const id = cell.output_area._bokeh_element_id;\n    const server_id = cell.output_area._bokeh_server_id;\n    // Clean up Bokeh references\n    if (id != null && id in Bokeh.index) {\n      Bokeh.index[id].model.document.clear();\n      delete Bokeh.index[id];\n    }\n\n    if (server_id !== undefined) {\n      // Clean up Bokeh references\n      const cmd_clean = \"from bokeh.io.state import curstate; print(curstate().uuid_to_server['\" + server_id + \"'].get_sessions()[0].document.roots[0]._id)\";\n      cell.notebook.kernel.execute(cmd_clean, {\n        iopub: {\n          output: function(msg) {\n            const id = msg.content.text.trim();\n            if (id in Bokeh.index) {\n              Bokeh.index[id].model.document.clear();\n              delete Bokeh.index[id];\n            }\n          }\n        }\n      });\n      // Destroy server and session\n      const cmd_destroy = \"import bokeh.io.notebook as ion; ion.destroy_server('\" + server_id + \"')\";\n      cell.notebook.kernel.execute(cmd_destroy);\n    }\n  }\n\n  /**\n   * Handle when a new output is added\n   */\n  function handleAddOutput(event, handle) {\n    const output_area = handle.output_area;\n    const output = handle.output;\n\n    // limit handleAddOutput to display_data with EXEC_MIME_TYPE content only\n    if ((output.output_type != \"display_data\") || (!Object.prototype.hasOwnProperty.call(output.data, EXEC_MIME_TYPE))) {\n      return\n    }\n\n    const toinsert = output_area.element.find(\".\" + CLASS_NAME.split(' ')[0]);\n\n    if (output.metadata[EXEC_MIME_TYPE][\"id\"] !== undefined) {\n      toinsert[toinsert.length - 1].firstChild.textContent = output.data[JS_MIME_TYPE];\n      // store reference to embed id on output_area\n      output_area._bokeh_element_id = output.metadata[EXEC_MIME_TYPE][\"id\"];\n    }\n    if (output.metadata[EXEC_MIME_TYPE][\"server_id\"] !== undefined) {\n      const bk_div = document.createElement(\"div\");\n      bk_div.innerHTML = output.data[HTML_MIME_TYPE];\n      const script_attrs = bk_div.children[0].attributes;\n      for (let i = 0; i < script_attrs.length; i++) {\n        toinsert[toinsert.length - 1].firstChild.setAttribute(script_attrs[i].name, script_attrs[i].value);\n        toinsert[toinsert.length - 1].firstChild.textContent = bk_div.children[0].textContent\n      }\n      // store reference to server id on output_area\n      output_area._bokeh_server_id = output.metadata[EXEC_MIME_TYPE][\"server_id\"];\n    }\n  }\n\n  function register_renderer(events, OutputArea) {\n\n    function append_mime(data, metadata, element) {\n      // create a DOM node to render to\n      const toinsert = this.create_output_subarea(\n        metadata,\n        CLASS_NAME,\n        EXEC_MIME_TYPE\n      );\n      this.keyboard_manager.register_events(toinsert);\n      // Render to node\n      const props = {data: data, metadata: metadata[EXEC_MIME_TYPE]};\n      render(props, toinsert[toinsert.length - 1]);\n      element.append(toinsert);\n      return toinsert\n    }\n\n    /* Handle when an output is cleared or removed */\n    events.on('clear_output.CodeCell', handleClearOutput);\n    events.on('delete.Cell', handleClearOutput);\n\n    /* Handle when a new output is added */\n    events.on('output_added.OutputArea', handleAddOutput);\n\n    /**\n     * Register the mime type and append_mime function with output_area\n     */\n    OutputArea.prototype.register_mime_type(EXEC_MIME_TYPE, append_mime, {\n      /* Is output safe? */\n      safe: true,\n      /* Index of renderer in `output_area.display_order` */\n      index: 0\n    });\n  }\n\n  // register the mime type if in Jupyter Notebook environment and previously unregistered\n  if (root.Jupyter !== undefined) {\n    const events = require('base/js/events');\n    const OutputArea = require('notebook/js/outputarea').OutputArea;\n\n    if (OutputArea.prototype.mime_types().indexOf(EXEC_MIME_TYPE) == -1) {\n      register_renderer(events, OutputArea);\n    }\n  }\n\n  \n  if (typeof (root._bokeh_timeout) === \"undefined\" || force === true) {\n    root._bokeh_timeout = Date.now() + 5000;\n    root._bokeh_failed_load = false;\n  }\n\n  const NB_LOAD_WARNING = {'data': {'text/html':\n     \"<div style='background-color: #fdd'>\\n\"+\n     \"<p>\\n\"+\n     \"BokehJS does not appear to have successfully loaded. If loading BokehJS from CDN, this \\n\"+\n     \"may be due to a slow or bad network connection. Possible fixes:\\n\"+\n     \"</p>\\n\"+\n     \"<ul>\\n\"+\n     \"<li>re-rerun `output_notebook()` to attempt to load from CDN again, or</li>\\n\"+\n     \"<li>use INLINE resources instead, as so:</li>\\n\"+\n     \"</ul>\\n\"+\n     \"<code>\\n\"+\n     \"from bokeh.resources import INLINE\\n\"+\n     \"output_notebook(resources=INLINE)\\n\"+\n     \"</code>\\n\"+\n     \"</div>\"}};\n\n  function display_loaded() {\n    const el = document.getElementById(\"1182\");\n    if (el != null) {\n      el.textContent = \"BokehJS is loading...\";\n    }\n    if (root.Bokeh !== undefined) {\n      if (el != null) {\n        el.textContent = \"BokehJS \" + root.Bokeh.version + \" successfully loaded.\";\n      }\n    } else if (Date.now() < root._bokeh_timeout) {\n      setTimeout(display_loaded, 100)\n    }\n  }\n\n\n  function run_callbacks() {\n    try {\n      root._bokeh_onload_callbacks.forEach(function(callback) {\n        if (callback != null)\n          callback();\n      });\n    } finally {\n      delete root._bokeh_onload_callbacks\n    }\n    console.debug(\"Bokeh: all callbacks have finished\");\n  }\n\n  function load_libs(css_urls, js_urls, callback) {\n    if (css_urls == null) css_urls = [];\n    if (js_urls == null) js_urls = [];\n\n    root._bokeh_onload_callbacks.push(callback);\n    if (root._bokeh_is_loading > 0) {\n      console.debug(\"Bokeh: BokehJS is being loaded, scheduling callback at\", now());\n      return null;\n    }\n    if (js_urls == null || js_urls.length === 0) {\n      run_callbacks();\n      return null;\n    }\n    console.debug(\"Bokeh: BokehJS not loaded, scheduling load and callback at\", now());\n    root._bokeh_is_loading = css_urls.length + js_urls.length;\n\n    function on_load() {\n      root._bokeh_is_loading--;\n      if (root._bokeh_is_loading === 0) {\n        console.debug(\"Bokeh: all BokehJS libraries/stylesheets loaded\");\n        run_callbacks()\n      }\n    }\n\n    function on_error(url) {\n      console.error(\"failed to load \" + url);\n    }\n\n    for (let i = 0; i < css_urls.length; i++) {\n      const url = css_urls[i];\n      const element = document.createElement(\"link\");\n      element.onload = on_load;\n      element.onerror = on_error.bind(null, url);\n      element.rel = \"stylesheet\";\n      element.type = \"text/css\";\n      element.href = url;\n      console.debug(\"Bokeh: injecting link tag for BokehJS stylesheet: \", url);\n      document.body.appendChild(element);\n    }\n\n    for (let i = 0; i < js_urls.length; i++) {\n      const url = js_urls[i];\n      const element = document.createElement('script');\n      element.onload = on_load;\n      element.onerror = on_error.bind(null, url);\n      element.async = false;\n      element.src = url;\n      console.debug(\"Bokeh: injecting script tag for BokehJS library: \", url);\n      document.head.appendChild(element);\n    }\n  };\n\n  function inject_raw_css(css) {\n    const element = document.createElement(\"style\");\n    element.appendChild(document.createTextNode(css));\n    document.body.appendChild(element);\n  }\n\n  \n  const js_urls = [\"https://cdn.bokeh.org/bokeh/release/bokeh-2.4.2.min.js\", \"https://cdn.bokeh.org/bokeh/release/bokeh-gl-2.4.2.min.js\", \"https://cdn.bokeh.org/bokeh/release/bokeh-widgets-2.4.2.min.js\", \"https://cdn.bokeh.org/bokeh/release/bokeh-tables-2.4.2.min.js\", \"https://cdn.bokeh.org/bokeh/release/bokeh-mathjax-2.4.2.min.js\"];\n  const css_urls = [];\n  \n\n  const inline_js = [\n    function(Bokeh) {\n      Bokeh.set_log_level(\"info\");\n    },\n    function(Bokeh) {\n    \n    \n    }\n  ];\n\n  function run_inline_js() {\n    \n    if (root.Bokeh !== undefined || force === true) {\n      \n    for (let i = 0; i < inline_js.length; i++) {\n      inline_js[i].call(root, root.Bokeh);\n    }\n    if (force === true) {\n        display_loaded();\n      }} else if (Date.now() < root._bokeh_timeout) {\n      setTimeout(run_inline_js, 100);\n    } else if (!root._bokeh_failed_load) {\n      console.log(\"Bokeh: BokehJS failed to load within specified timeout.\");\n      root._bokeh_failed_load = true;\n    } else if (force !== true) {\n      const cell = $(document.getElementById(\"1182\")).parents('.cell').data().cell;\n      cell.output_area.append_execute_result(NB_LOAD_WARNING)\n    }\n\n  }\n\n  if (root._bokeh_is_loading === 0) {\n    console.debug(\"Bokeh: BokehJS loaded, going straight to plotting\");\n    run_inline_js();\n  } else {\n    load_libs(css_urls, js_urls, function() {\n      console.debug(\"Bokeh: BokehJS plotting callback run at\", now());\n      run_inline_js();\n    });\n  }\n}(window));",
      "application/vnd.bokehjs_load.v0+json": ""
     },
     "metadata": {},
     "output_type": "display_data"
    },
    {
     "name": "stdout",
     "output_type": "stream",
     "text": [
      "0 Formede træer\n",
      "1 Gade- og allétræer\n",
      "2 Park- og naturtræer\n",
      "3 Private træer\n",
      "4 Træer i bevoksninger\n"
     ]
    },
    {
     "data": {
      "text/html": [
       "\n",
       "\n",
       "\n",
       "\n",
       "\n",
       "\n",
       "  <div class=\"bk-root\" id=\"06d5c67f-b1e8-484e-aa58-3b8d2988bf62\" data-root-id=\"1184\"></div>\n"
      ]
     },
     "metadata": {},
     "output_type": "display_data"
    },
    {
     "data": {
      "application/javascript": "(function(root) {\n  function embed_document(root) {\n    \n  const docs_json = {\"a541d7f6-8bee-4712-936d-8a08ffb49ffb\":{\"defs\":[],\"roots\":{\"references\":[{\"attributes\":{\"below\":[{\"id\":\"1195\"}],\"center\":[{\"id\":\"1197\"},{\"id\":\"1201\"},{\"id\":\"1232\"}],\"left\":[{\"id\":\"1198\"}],\"renderers\":[{\"id\":\"1220\"},{\"id\":\"1238\"},{\"id\":\"1255\"},{\"id\":\"1272\"},{\"id\":\"1289\"}],\"title\":{\"id\":\"1185\"},\"toolbar\":{\"id\":\"1209\"},\"width\":900,\"x_range\":{\"id\":\"1187\"},\"x_scale\":{\"id\":\"1191\"},\"y_range\":{\"id\":\"1189\"},\"y_scale\":{\"id\":\"1193\"}},\"id\":\"1184\",\"subtype\":\"Figure\",\"type\":\"Plot\"},{\"attributes\":{},\"id\":\"1230\",\"type\":\"Selection\"},{\"attributes\":{\"source\":{\"id\":\"1183\"}},\"id\":\"1256\",\"type\":\"CDSView\"},{\"attributes\":{\"fill_alpha\":{\"value\":0.2},\"fill_color\":{\"value\":\"green\"},\"hatch_alpha\":{\"value\":0.2},\"hatch_color\":{\"value\":\"green\"},\"line_alpha\":{\"value\":0.2},\"line_color\":{\"value\":\"green\"},\"top\":{\"field\":\"Park- og naturtr\\u00e6er\"},\"width\":{\"value\":0.5},\"x\":{\"field\":\"district\"}},\"id\":\"1254\",\"type\":\"VBar\"},{\"attributes\":{\"source\":{\"id\":\"1183\"}},\"id\":\"1273\",\"type\":\"CDSView\"},{\"attributes\":{\"fill_alpha\":{\"value\":0.1},\"fill_color\":{\"value\":\"red\"},\"hatch_alpha\":{\"value\":0.1},\"hatch_color\":{\"value\":\"red\"},\"line_alpha\":{\"value\":0.1},\"line_color\":{\"value\":\"red\"},\"top\":{\"field\":\"Formede tr\\u00e6er\"},\"width\":{\"value\":0.5},\"x\":{\"field\":\"district\"}},\"id\":\"1218\",\"type\":\"VBar\"},{\"attributes\":{\"source\":{\"id\":\"1183\"}},\"id\":\"1221\",\"type\":\"CDSView\"},{\"attributes\":{\"fill_alpha\":{\"value\":0.2},\"fill_color\":{\"value\":\"red\"},\"hatch_alpha\":{\"value\":0.2},\"hatch_color\":{\"value\":\"red\"},\"line_alpha\":{\"value\":0.2},\"line_color\":{\"value\":\"red\"},\"top\":{\"field\":\"Formede tr\\u00e6er\"},\"width\":{\"value\":0.5},\"x\":{\"field\":\"district\"}},\"id\":\"1219\",\"type\":\"VBar\"},{\"attributes\":{\"coordinates\":null,\"data_source\":{\"id\":\"1183\"},\"glyph\":{\"id\":\"1252\"},\"group\":null,\"hover_glyph\":null,\"muted\":true,\"muted_glyph\":{\"id\":\"1254\"},\"nonselection_glyph\":{\"id\":\"1253\"},\"view\":{\"id\":\"1256\"}},\"id\":\"1255\",\"type\":\"GlyphRenderer\"},{\"attributes\":{\"axis\":{\"id\":\"1198\"},\"coordinates\":null,\"dimension\":1,\"group\":null,\"ticker\":null},\"id\":\"1201\",\"type\":\"Grid\"},{\"attributes\":{\"coordinates\":null,\"data_source\":{\"id\":\"1183\"},\"glyph\":{\"id\":\"1217\"},\"group\":null,\"hover_glyph\":null,\"muted\":true,\"muted_glyph\":{\"id\":\"1219\"},\"nonselection_glyph\":{\"id\":\"1218\"},\"view\":{\"id\":\"1221\"}},\"id\":\"1220\",\"type\":\"GlyphRenderer\"},{\"attributes\":{\"fill_alpha\":{\"value\":0.2},\"fill_color\":{\"value\":\"purple\"},\"hatch_alpha\":{\"value\":0.2},\"hatch_color\":{\"value\":\"purple\"},\"line_alpha\":{\"value\":0.2},\"line_color\":{\"value\":\"purple\"},\"top\":{\"field\":\"Private tr\\u00e6er\"},\"width\":{\"value\":0.5},\"x\":{\"field\":\"district\"}},\"id\":\"1271\",\"type\":\"VBar\"},{\"attributes\":{\"data\":{\"Formede tr\\u00e6er\":[82,114,473,50,454,231,208,44,132,414],\"Gade- og all\\u00e9tr\\u00e6er\":[2824,1695,2165,1574,2870,2890,1728,1179,4252,4178],\"Park- og naturtr\\u00e6er\":[1782,2013,5402,2080,2193,3830,2895,2741,2622,2552],\"Private tr\\u00e6er\":[57,140,158,68,280,104,58,44,53,153],\"Tr\\u00e6er i bevoksninger\":[490,335,462,677,535,211,463,208,287,1580],\"district\":[\"Amager Vest\",\"Amager \\u00d8st\",\"Bispebjerg\",\"Br\\u00f8nsh\\u00f8j-Husum\",\"Indre By\",\"N\\u00f8rrebro\",\"Valby\",\"Vanl\\u00f8se\",\"Vesterbro-Kongens Enghave\",\"\\u00d8sterbro\"],\"index\":[0,1,2,3,4,5,6,7,8,9]},\"selected\":{\"id\":\"1230\"},\"selection_policy\":{\"id\":\"1229\"}},\"id\":\"1183\",\"type\":\"ColumnDataSource\"},{\"attributes\":{\"coordinates\":null,\"data_source\":{\"id\":\"1183\"},\"glyph\":{\"id\":\"1235\"},\"group\":null,\"hover_glyph\":null,\"muted\":true,\"muted_glyph\":{\"id\":\"1237\"},\"nonselection_glyph\":{\"id\":\"1236\"},\"view\":{\"id\":\"1239\"}},\"id\":\"1238\",\"type\":\"GlyphRenderer\"},{\"attributes\":{\"axis_label\":\"district\",\"coordinates\":null,\"formatter\":{\"id\":\"1227\"},\"group\":null,\"major_label_policy\":{\"id\":\"1228\"},\"ticker\":{\"id\":\"1196\"}},\"id\":\"1195\",\"type\":\"CategoricalAxis\"},{\"attributes\":{\"label\":{\"value\":\"Formede tr\\u00e6er\"},\"renderers\":[{\"id\":\"1220\"}]},\"id\":\"1233\",\"type\":\"LegendItem\"},{\"attributes\":{\"fill_color\":{\"value\":\"blue\"},\"hatch_color\":{\"value\":\"blue\"},\"line_color\":{\"value\":\"blue\"},\"top\":{\"field\":\"Gade- og all\\u00e9tr\\u00e6er\"},\"width\":{\"value\":0.5},\"x\":{\"field\":\"district\"}},\"id\":\"1235\",\"type\":\"VBar\"},{\"attributes\":{\"label\":{\"value\":\"Tr\\u00e6er i bevoksninger\"},\"renderers\":[{\"id\":\"1289\"}]},\"id\":\"1301\",\"type\":\"LegendItem\"},{\"attributes\":{\"fill_color\":{\"value\":\"green\"},\"hatch_color\":{\"value\":\"green\"},\"line_color\":{\"value\":\"green\"},\"top\":{\"field\":\"Park- og naturtr\\u00e6er\"},\"width\":{\"value\":0.5},\"x\":{\"field\":\"district\"}},\"id\":\"1252\",\"type\":\"VBar\"},{\"attributes\":{\"fill_alpha\":{\"value\":0.2},\"fill_color\":{\"value\":\"yellow\"},\"hatch_alpha\":{\"value\":0.2},\"hatch_color\":{\"value\":\"yellow\"},\"line_alpha\":{\"value\":0.2},\"line_color\":{\"value\":\"yellow\"},\"top\":{\"field\":\"Tr\\u00e6er i bevoksninger\"},\"width\":{\"value\":0.5},\"x\":{\"field\":\"district\"}},\"id\":\"1288\",\"type\":\"VBar\"},{\"attributes\":{\"coordinates\":null,\"data_source\":{\"id\":\"1183\"},\"glyph\":{\"id\":\"1269\"},\"group\":null,\"hover_glyph\":null,\"muted\":true,\"muted_glyph\":{\"id\":\"1271\"},\"nonselection_glyph\":{\"id\":\"1270\"},\"view\":{\"id\":\"1273\"}},\"id\":\"1272\",\"type\":\"GlyphRenderer\"},{\"attributes\":{\"source\":{\"id\":\"1183\"}},\"id\":\"1239\",\"type\":\"CDSView\"},{\"attributes\":{},\"id\":\"1206\",\"type\":\"ResetTool\"},{\"attributes\":{\"tools\":[{\"id\":\"1202\"},{\"id\":\"1203\"},{\"id\":\"1204\"},{\"id\":\"1205\"},{\"id\":\"1206\"},{\"id\":\"1207\"}]},\"id\":\"1209\",\"type\":\"Toolbar\"},{\"attributes\":{\"fill_alpha\":{\"value\":0.1},\"fill_color\":{\"value\":\"yellow\"},\"hatch_alpha\":{\"value\":0.1},\"hatch_color\":{\"value\":\"yellow\"},\"line_alpha\":{\"value\":0.1},\"line_color\":{\"value\":\"yellow\"},\"top\":{\"field\":\"Tr\\u00e6er i bevoksninger\"},\"width\":{\"value\":0.5},\"x\":{\"field\":\"district\"}},\"id\":\"1287\",\"type\":\"VBar\"},{\"attributes\":{\"fill_alpha\":{\"value\":0.2},\"fill_color\":{\"value\":\"blue\"},\"hatch_alpha\":{\"value\":0.2},\"hatch_color\":{\"value\":\"blue\"},\"line_alpha\":{\"value\":0.2},\"line_color\":{\"value\":\"blue\"},\"top\":{\"field\":\"Gade- og all\\u00e9tr\\u00e6er\"},\"width\":{\"value\":0.5},\"x\":{\"field\":\"district\"}},\"id\":\"1237\",\"type\":\"VBar\"},{\"attributes\":{\"label\":{\"value\":\"Gade- og all\\u00e9tr\\u00e6er\"},\"renderers\":[{\"id\":\"1238\"}]},\"id\":\"1250\",\"type\":\"LegendItem\"},{\"attributes\":{\"fill_alpha\":{\"value\":0.1},\"fill_color\":{\"value\":\"purple\"},\"hatch_alpha\":{\"value\":0.1},\"hatch_color\":{\"value\":\"purple\"},\"line_alpha\":{\"value\":0.1},\"line_color\":{\"value\":\"purple\"},\"top\":{\"field\":\"Private tr\\u00e6er\"},\"width\":{\"value\":0.5},\"x\":{\"field\":\"district\"}},\"id\":\"1270\",\"type\":\"VBar\"},{\"attributes\":{\"fill_color\":{\"value\":\"yellow\"},\"hatch_color\":{\"value\":\"yellow\"},\"line_color\":{\"value\":\"yellow\"},\"top\":{\"field\":\"Tr\\u00e6er i bevoksninger\"},\"width\":{\"value\":0.5},\"x\":{\"field\":\"district\"}},\"id\":\"1286\",\"type\":\"VBar\"},{\"attributes\":{},\"id\":\"1191\",\"type\":\"CategoricalScale\"},{\"attributes\":{\"source\":{\"id\":\"1183\"}},\"id\":\"1290\",\"type\":\"CDSView\"},{\"attributes\":{\"coordinates\":null,\"data_source\":{\"id\":\"1183\"},\"glyph\":{\"id\":\"1286\"},\"group\":null,\"hover_glyph\":null,\"muted\":true,\"muted_glyph\":{\"id\":\"1288\"},\"nonselection_glyph\":{\"id\":\"1287\"},\"view\":{\"id\":\"1290\"}},\"id\":\"1289\",\"type\":\"GlyphRenderer\"},{\"attributes\":{},\"id\":\"1224\",\"type\":\"BasicTickFormatter\"},{\"attributes\":{},\"id\":\"1225\",\"type\":\"AllLabels\"},{\"attributes\":{\"axis\":{\"id\":\"1195\"},\"coordinates\":null,\"group\":null,\"ticker\":null},\"id\":\"1197\",\"type\":\"Grid\"},{\"attributes\":{},\"id\":\"1203\",\"type\":\"WheelZoomTool\"},{\"attributes\":{},\"id\":\"1229\",\"type\":\"UnionRenderers\"},{\"attributes\":{\"factors\":[\"Amager Vest\",\"Amager \\u00d8st\",\"Bispebjerg\",\"Br\\u00f8nsh\\u00f8j-Husum\",\"Indre By\",\"N\\u00f8rrebro\",\"Valby\",\"Vanl\\u00f8se\",\"Vesterbro-Kongens Enghave\",\"\\u00d8sterbro\"]},\"id\":\"1187\",\"type\":\"FactorRange\"},{\"attributes\":{},\"id\":\"1205\",\"type\":\"SaveTool\"},{\"attributes\":{},\"id\":\"1227\",\"type\":\"CategoricalTickFormatter\"},{\"attributes\":{\"overlay\":{\"id\":\"1208\"}},\"id\":\"1204\",\"type\":\"BoxZoomTool\"},{\"attributes\":{\"fill_alpha\":{\"value\":0.1},\"fill_color\":{\"value\":\"blue\"},\"hatch_alpha\":{\"value\":0.1},\"hatch_color\":{\"value\":\"blue\"},\"line_alpha\":{\"value\":0.1},\"line_color\":{\"value\":\"blue\"},\"top\":{\"field\":\"Gade- og all\\u00e9tr\\u00e6er\"},\"width\":{\"value\":0.5},\"x\":{\"field\":\"district\"}},\"id\":\"1236\",\"type\":\"VBar\"},{\"attributes\":{\"start\":0},\"id\":\"1189\",\"type\":\"DataRange1d\"},{\"attributes\":{},\"id\":\"1199\",\"type\":\"BasicTicker\"},{\"attributes\":{},\"id\":\"1228\",\"type\":\"AllLabels\"},{\"attributes\":{\"label\":{\"value\":\"Private tr\\u00e6er\"},\"renderers\":[{\"id\":\"1272\"}]},\"id\":\"1284\",\"type\":\"LegendItem\"},{\"attributes\":{\"coordinates\":null,\"group\":null,\"text\":\"n_categories_by_district\"},\"id\":\"1185\",\"type\":\"Title\"},{\"attributes\":{},\"id\":\"1202\",\"type\":\"PanTool\"},{\"attributes\":{\"fill_color\":{\"value\":\"purple\"},\"hatch_color\":{\"value\":\"purple\"},\"line_color\":{\"value\":\"purple\"},\"top\":{\"field\":\"Private tr\\u00e6er\"},\"width\":{\"value\":0.5},\"x\":{\"field\":\"district\"}},\"id\":\"1269\",\"type\":\"VBar\"},{\"attributes\":{\"label\":{\"value\":\"Park- og naturtr\\u00e6er\"},\"renderers\":[{\"id\":\"1255\"}]},\"id\":\"1267\",\"type\":\"LegendItem\"},{\"attributes\":{\"fill_alpha\":{\"value\":0.1},\"fill_color\":{\"value\":\"green\"},\"hatch_alpha\":{\"value\":0.1},\"hatch_color\":{\"value\":\"green\"},\"line_alpha\":{\"value\":0.1},\"line_color\":{\"value\":\"green\"},\"top\":{\"field\":\"Park- og naturtr\\u00e6er\"},\"width\":{\"value\":0.5},\"x\":{\"field\":\"district\"}},\"id\":\"1253\",\"type\":\"VBar\"},{\"attributes\":{\"fill_color\":{\"value\":\"red\"},\"hatch_color\":{\"value\":\"red\"},\"line_color\":{\"value\":\"red\"},\"top\":{\"field\":\"Formede tr\\u00e6er\"},\"width\":{\"value\":0.5},\"x\":{\"field\":\"district\"}},\"id\":\"1217\",\"type\":\"VBar\"},{\"attributes\":{},\"id\":\"1196\",\"type\":\"CategoricalTicker\"},{\"attributes\":{\"bottom_units\":\"screen\",\"coordinates\":null,\"fill_alpha\":0.5,\"fill_color\":\"lightgrey\",\"group\":null,\"left_units\":\"screen\",\"level\":\"overlay\",\"line_alpha\":1.0,\"line_color\":\"black\",\"line_dash\":[4,4],\"line_width\":2,\"right_units\":\"screen\",\"syncable\":false,\"top_units\":\"screen\"},\"id\":\"1208\",\"type\":\"BoxAnnotation\"},{\"attributes\":{\"axis_label\":\"count\",\"coordinates\":null,\"formatter\":{\"id\":\"1224\"},\"group\":null,\"major_label_policy\":{\"id\":\"1225\"},\"ticker\":{\"id\":\"1199\"}},\"id\":\"1198\",\"type\":\"LinearAxis\"},{\"attributes\":{\"coordinates\":null,\"group\":null,\"items\":[{\"id\":\"1233\"},{\"id\":\"1250\"},{\"id\":\"1267\"},{\"id\":\"1284\"},{\"id\":\"1301\"}]},\"id\":\"1232\",\"type\":\"Legend\"},{\"attributes\":{},\"id\":\"1193\",\"type\":\"LinearScale\"},{\"attributes\":{},\"id\":\"1207\",\"type\":\"HelpTool\"}],\"root_ids\":[\"1184\"]},\"title\":\"Bokeh Application\",\"version\":\"2.4.2\"}};\n  const render_items = [{\"docid\":\"a541d7f6-8bee-4712-936d-8a08ffb49ffb\",\"root_ids\":[\"1184\"],\"roots\":{\"1184\":\"06d5c67f-b1e8-484e-aa58-3b8d2988bf62\"}}];\n  root.Bokeh.embed.embed_items_notebook(docs_json, render_items);\n\n  }\n  if (root.Bokeh !== undefined) {\n    embed_document(root);\n  } else {\n    let attempts = 0;\n    const timer = setInterval(function(root) {\n      if (root.Bokeh !== undefined) {\n        clearInterval(timer);\n        embed_document(root);\n      } else {\n        attempts++;\n        if (attempts > 100) {\n          clearInterval(timer);\n          console.log(\"Bokeh: ERROR: Unable to run BokehJS code because BokehJS library is missing\");\n        }\n      }\n    }, 10, root)\n  }\n})(window);",
      "application/vnd.bokehjs_exec.v0+json": ""
     },
     "metadata": {
      "application/vnd.bokehjs_exec.v0+json": {
       "id": "1184"
      }
     },
     "output_type": "display_data"
    }
   ],
   "source": [
    "output_notebook()\n",
    "src1 = ColumnDataSource(df1new)\n",
    "p1 = figure(plot_width = 900, plot_height = 600,title = \"n_categories_by_district\", x_axis_label = \"district\", y_axis_label = \"count\", x_range=df1new[\"district\"])\n",
    "bar_cols = df1new.columns[1:]\n",
    "colors = ['red', 'blue','green','purple','yellow']\n",
    "items1 = []\n",
    "bar1 ={}\n",
    "for indx, i in enumerate(bar_cols):\n",
    "    print(indx,i)\n",
    "    bar1[i] = p1.vbar(x=\"district\", top=i, source= src1, width=0.5, legend_label=i, color=colors[indx], muted =True)\n",
    "    items1.append((bar_cols[indx], [bar1[i]]))\n",
    "p1.y_range.start = 0\n",
    "show(p1)"
   ]
  },
  {
   "cell_type": "code",
   "execution_count": 38,
   "metadata": {},
   "outputs": [
    {
     "data": {
      "text/plain": [
       "<matplotlib.legend.Legend at 0x7ff2f09598b0>"
      ]
     },
     "execution_count": 38,
     "metadata": {},
     "output_type": "execute_result"
    },
    {
     "data": {
      "image/png": "[encoded data removed]",
      "text/plain": [
       "<Figure size 720x576 with 1 Axes>"
      ]
     },
     "metadata": {
      "needs_background": "light"
     },
     "output_type": "display_data"
    }
   ],
   "source": [
    "df1new.plot(x='district',kind='bar',stacked=True,figsize=(10,8)).legend(loc='upper center')"
   ]
  },
  {
   "cell_type": "code",
   "execution_count": 27,
   "metadata": {},
   "outputs": [],
   "source": [
    "import folium\n",
    "from folium.plugins import HeatMap"
   ]
  },
  {
   "cell_type": "code",
   "execution_count": 52,
   "metadata": {},
   "outputs": [
    {
     "data": {
      "text/html": [
       "<div style=\"width:100%;\"><div style=\"position:relative;width:100%;height:0;padding-bottom:60%;\"><span style=\"color:#565656\">Make this Notebook Trusted to load map: File -> Trust Notebook</span><iframe src=\"about:blank\" style=\"position:absolute;width:100%;height:100%;left:0;top:0;border:none !important;\" data-html=%3C%21DOCTYPE%20html%3E%0A%3Chead%3E%20%20%20%20%0A%20%20%20%20%3Cmeta%20http-equiv%3D%22content-type%22%20content%3D%22text/html%3B%20charset%3DUTF-8%22%20/%3E%0A%20%20%20%20%0A%20%20%20%20%20%20%20%20%3Cscript%3E%0A%20%20%20%20%20%20%20%20%20%20%20%20L_NO_TOUCH%20%3D%20false%3B%0A%20%20%20%20%20%20%20%20%20%20%20%20L_DISABLE_3D%20%3D%20false%3B%0A%20%20%20%20%20%20%20%20%3C/script%3E%0A%20%20%20%20%0A%20%20%20%20%3Cstyle%3Ehtml%2C%20body%20%7Bwidth%3A%20100%25%3Bheight%3A%20100%25%3Bmargin%3A%200%3Bpadding%3A%200%3B%7D%3C/style%3E%0A%20%20%20%20%3Cstyle%3E%23map%20%7Bposition%3Aabsolute%3Btop%3A0%3Bbottom%3A0%3Bright%3A0%3Bleft%3A0%3B%7D%3C/style%3E%0A%20%20%20%20%3Cscript%20src%3D%22https%3A//cdn.jsdelivr.net/npm/leaflet%401.6.0/dist/leaflet.js%22%3E%3C/script%3E%0A%20%20%20%20%3Cscript%20src%3D%22https%3A//code.jquery.com/jquery-1.12.4.min.js%22%3E%3C/script%3E%0A%20%20%20%20%3Cscript%20src%3D%22https%3A//maxcdn.bootstrapcdn.com/bootstrap/3.2.0/js/bootstrap.min.js%22%3E%3C/script%3E%0A%20%20%20%20%3Cscript%20src%3D%22https%3A//cdnjs.cloudflare.com/ajax/libs/Leaflet.awesome-markers/2.0.2/leaflet.awesome-markers.js%22%3E%3C/script%3E%0A%20%20%20%20%3Clink%20rel%3D%22stylesheet%22%20href%3D%22https%3A//cdn.jsdelivr.net/npm/leaflet%401.6.0/dist/leaflet.css%22/%3E%0A%20%20%20%20%3Clink%20rel%3D%22stylesheet%22%20href%3D%22https%3A//maxcdn.bootstrapcdn.com/bootstrap/3.2.0/css/bootstrap.min.css%22/%3E%0A%20%20%20%20%3Clink%20rel%3D%22stylesheet%22%20href%3D%22https%3A//maxcdn.bootstrapcdn.com/bootstrap/3.2.0/css/bootstrap-theme.min.css%22/%3E%0A%20%20%20%20%3Clink%20rel%3D%22stylesheet%22%20href%3D%22https%3A//maxcdn.bootstrapcdn.com/font-awesome/4.6.3/css/font-awesome.min.css%22/%3E%0A%20%20%20%20%3Clink%20rel%3D%22stylesheet%22%20href%3D%22https%3A//cdnjs.cloudflare.com/ajax/libs/Leaflet.awesome-markers/2.0.2/leaflet.awesome-markers.css%22/%3E%0A%20%20%20%20%3Clink%20rel%3D%22stylesheet%22%20href%3D%22https%3A//cdn.jsdelivr.net/gh/python-visualization/folium/folium/templates/leaflet.awesome.rotate.min.css%22/%3E%0A%20%20%20%20%0A%20%20%20%20%20%20%20%20%20%20%20%20%3Cmeta%20name%3D%22viewport%22%20content%3D%22width%3Ddevice-width%2C%0A%20%20%20%20%20%20%20%20%20%20%20%20%20%20%20%20initial-scale%3D1.0%2C%20maximum-scale%3D1.0%2C%20user-scalable%3Dno%22%20/%3E%0A%20%20%20%20%20%20%20%20%20%20%20%20%3Cstyle%3E%0A%20%20%20%20%20%20%20%20%20%20%20%20%20%20%20%20%23map_1c0af9a5177a4797893825db1f4cfa5a%20%7B%0A%20%20%20%20%20%20%20%20%20%20%20%20%20%20%20%20%20%20%20%20position%3A%20relative%3B%0A%20%20%20%20%20%20%20%20%20%20%20%20%20%20%20%20%20%20%20%20width%3A%20100.0%25%3B%0A%20%20%20%20%20%20%20%20%20%20%20%20%20%20%20%20%20%20%20%20height%3A%20100.0%25%3B%0A%20%20%20%20%20%20%20%20%20%20%20%20%20%20%20%20%20%20%20%20left%3A%200.0%25%3B%0A%20%20%20%20%20%20%20%20%20%20%20%20%20%20%20%20%20%20%20%20top%3A%200.0%25%3B%0A%20%20%20%20%20%20%20%20%20%20%20%20%20%20%20%20%7D%0A%20%20%20%20%20%20%20%20%20%20%20%20%3C/style%3E%0A%20%20%20%20%20%20%20%20%0A%20%20%20%20%3Cscript%20src%3D%22https%3A//cdn.jsdelivr.net/gh/python-visualization/folium%40master/folium/templates/leaflet_heat.min.js%22%3E%3C/script%3E%0A%3C/head%3E%0A%3Cbody%3E%20%20%20%20%0A%20%20%20%20%0A%20%20%20%20%20%20%20%20%20%20%20%20%3Cdiv%20class%3D%22folium-map%22%20id%3D%22map_1c0af9a5177a4797893825db1f4cfa5a%22%20%3E%3C/div%3E%0A%20%20%20%20%20%20%20%20%0A%3C/body%3E%0A%3Cscript%3E%20%20%20%20%0A%20%20%20%20%0A%20%20%20%20%20%20%20%20%20%20%20%20var%20map_1c0af9a5177a4797893825db1f4cfa5a%20%3D%20L.map%28%0A%20%20%20%20%20%20%20%20%20%20%20%20%20%20%20%20%22map_1c0af9a5177a4797893825db1f4cfa5a%22%2C%0A%20%20%20%20%20%20%20%20%20%20%20%20%20%20%20%20%7B%0A%20%20%20%20%20%20%20%20%20%20%20%20%20%20%20%20%20%20%20%20center%3A%20%5B55.6761%2C%2012.5683%5D%2C%0A%20%20%20%20%20%20%20%20%20%20%20%20%20%20%20%20%20%20%20%20crs%3A%20L.CRS.EPSG3857%2C%0A%20%20%20%20%20%20%20%20%20%20%20%20%20%20%20%20%20%20%20%20zoom%3A%2012%2C%0A%20%20%20%20%20%20%20%20%20%20%20%20%20%20%20%20%20%20%20%20zoomControl%3A%20true%2C%0A%20%20%20%20%20%20%20%20%20%20%20%20%20%20%20%20%20%20%20%20preferCanvas%3A%20false%2C%0A%20%20%20%20%20%20%20%20%20%20%20%20%20%20%20%20%7D%0A%20%20%20%20%20%20%20%20%20%20%20%20%29%3B%0A%0A%20%20%20%20%20%20%20%20%20%20%20%20%0A%0A%20%20%20%20%20%20%20%20%0A%20%20%20%20%0A%20%20%20%20%20%20%20%20%20%20%20%20var%20tile_layer_2b5053f0af0e45a29934419ee533e891%20%3D%20L.tileLayer%28%0A%20%20%20%20%20%20%20%20%20%20%20%20%20%20%20%20%22https%3A//%7Bs%7D.tile.openstreetmap.org/%7Bz%7D/%7Bx%7D/%7By%7D.png%22%2C%0A%20%20%20%20%20%20%20%20%20%20%20%20%20%20%20%20%7B%22attribution%22%3A%20%22Data%20by%20%5Cu0026copy%3B%20%5Cu003ca%20href%3D%5C%22http%3A//openstreetmap.org%5C%22%5Cu003eOpenStreetMap%5Cu003c/a%5Cu003e%2C%20under%20%5Cu003ca%20href%3D%5C%22http%3A//www.openstreetmap.org/copyright%5C%22%5Cu003eODbL%5Cu003c/a%5Cu003e.%22%2C%20%22detectRetina%22%3A%20false%2C%20%22maxNativeZoom%22%3A%2018%2C%20%22maxZoom%22%3A%2018%2C%20%22minZoom%22%3A%200%2C%20%22noWrap%22%3A%20false%2C%20%22opacity%22%3A%201%2C%20%22subdomains%22%3A%20%22abc%22%2C%20%22tms%22%3A%20false%7D%0A%20%20%20%20%20%20%20%20%20%20%20%20%29.addTo%28map_1c0af9a5177a4797893825db1f4cfa5a%29%3B%0A%20%20%20%20%20%20%20%20%0A%20%20%20%20%0A%20%20%20%20%20%20%20%20%20%20%20%20var%20heat_map_9db94997447746a897fd346e78e9dca8%20%3D%20L.heatLayer%28%0A%20%20%20%20%20%20%20%20%20%20%20%20%20%20%20%20%5B%5B55.667727974749596%2C%2012.626832782722747%5D%2C%20%5B55.6551524598277%2C%2012.50110119914901%5D%2C%20%5B55.65541860993594%2C%2012.50097105668788%5D%2C%20%5B55.65568069102896%2C%2012.500840549004028%5D%2C%20%5B55.65595355386767%2C%2012.500713407964163%5D%2C%20%5B55.70121386391271%2C%2012.553338003172083%5D%2C%20%5B55.70123368754371%2C%2012.553367817665452%5D%2C%20%5B55.7012558140571%2C%2012.553402151191479%5D%2C%20%5B55.70127781603219%2C%2012.553440783248274%5D%2C%20%5B55.701302120881365%2C%2012.553483934361019%5D%2C%20%5B55.70127769236057%2C%2012.553361040633709%5D%2C%20%5B55.70130084579354%2C%2012.553401932193935%5D%2C%20%5B55.701328604988426%2C%2012.553451861829572%5D%2C%20%5B55.701328854902236%2C%2012.55335922361857%5D%2C%20%5B55.70135673864143%2C%2012.55340485476062%5D%2C%20%5B55.70138340865438%2C%2012.553450375709298%5D%2C%20%5B55.70140758986444%2C%2012.55341378406901%5D%2C%20%5B55.701379830655334%2C%2012.553363854356556%5D%2C%20%5B55.701440142496416%2C%2012.553382262689038%5D%2C%20%5B55.701472912622066%2C%2012.553385239622003%5D%2C%20%5B55.701505745010735%2C%2012.553386067302583%5D%2C%20%5B55.67014077483848%2C%2012.544638426641109%5D%2C%20%5B55.66626105382153%2C%2012.524906584417614%5D%2C%20%5B55.700542805921785%2C%2012.575568269982345%5D%2C%20%5B55.66472980923087%2C%2012.581488134089346%5D%2C%20%5B55.67559729093837%2C%2012.564423812387489%5D%2C%20%5B55.6752128725632%2C%2012.564839631486384%5D%2C%20%5B55.66724954802308%2C%2012.582253040413224%5D%2C%20%5B55.66761349420579%2C%2012.626932745757761%5D%2C%20%5B55.667571012006015%2C%2012.626971336362185%5D%2C%20%5B55.667324441272214%2C%2012.627181536273934%5D%2C%20%5B55.667209165774985%2C%2012.627284823378574%5D%2C%20%5B55.66709708520734%2C%2012.627382173453475%5D%2C%20%5B55.66698640503221%2C%2012.62748321403131%5D%2C%20%5B55.66685987838945%2C%2012.627592579928384%5D%2C%20%5B55.666446319733375%2C%2012.627945325025888%5D%2C%20%5B55.66632999235989%2C%2012.628049766661336%5D%2C%20%5B55.66621766911039%2C%2012.628150279484844%5D%2C%20%5B55.66562548025205%2C%2012.62866657403599%5D%2C%20%5B55.665738777482936%2C%2012.628571351245046%5D%2C%20%5B55.66535002417377%2C%2012.628911496592394%5D%2C%20%5B55.66523526825034%2C%2012.62900904092193%5D%2C%20%5B55.692853402397986%2C%2012.587051733400532%5D%2C%20%5B55.693054234795525%2C%2012.587410582071993%5D%2C%20%5B55.692994771147134%2C%2012.587295583694317%5D%2C%20%5B55.692930757112386%2C%2012.587173427192068%5D%2C%20%5B55.63044887953408%2C%2012.580279142341311%5D%2C%20%5B55.630420095301034%2C%2012.580269508818514%5D%2C%20%5B55.63017462198956%2C%2012.580170036245686%5D%2C%20%5B55.630144452042316%2C%2012.58016261165614%5D%2C%20%5B55.62988725582032%2C%2012.580057399944103%5D%2C%20%5B55.62954435884484%2C%2012.58162820357892%5D%2C%20%5B55.629555492958836%2C%2012.581535993900616%5D%2C%20%5B55.629568555845374%2C%2012.581438769034895%5D%2C%20%5B55.62957937121045%2C%2012.58134612853817%5D%2C%20%5B55.62963028042355%2C%2012.58095429037326%5D%2C%20%5B55.629638744205124%2C%2012.58086812264504%5D%2C%20%5B55.62954691414115%2C%2012.580829166120063%5D%2C%20%5B55.62953445409193%2C%2012.580922611889317%5D%2C%20%5B55.629521993972226%2C%2012.581016057596335%5D%2C%20%5B55.62950826070054%2C%2012.581116074709369%5D%2C%20%5B55.62949620027181%2C%2012.581214333728695%5D%2C%20%5B55.629486435311755%2C%2012.581308025361597%5D%2C%20%5B55.6294704619528%2C%2012.581410703901112%5D%2C%20%5B55.62945775081391%2C%2012.581512724869922%5D%2C%20%5B55.62965369465443%2C%2012.580763439297922%5D%2C%20%5B55.629664853684474%2C%2012.580677517548606%5D%2C%20%5B55.62967858660548%2C%2012.580577499869783%5D%2C%20%5B55.62969112992416%2C%2012.580481195089957%5D%2C%20%5B55.62964359759792%2C%2012.580461569588058%5D%2C%20%5B55.629629464909804%2C%2012.58055677376979%5D%2C%20%5B55.6295980545219%2C%2012.580447858067524%5D%2C%20%5B55.62958723983198%2C%2012.580540498884794%5D%2C%20%5B55.62944777480719%2C%2012.581594837285751%5D%2C%20%5B55.68880342113337%2C%2012.584750672142645%5D%2C%20%5B55.721758524540775%2C%2012.481533118713376%5D%2C%20%5B55.72249909482871%2C%2012.48231620308605%5D%2C%20%5B55.72238731642312%2C%2012.482163740206573%5D%2C%20%5B55.72238481873239%2C%2012.482206039150578%5D%2C%20%5B55.72175686923153%2C%2012.481568596780198%5D%2C%20%5B55.72161872203545%2C%2012.481431028596232%5D%2C%20%5B55.720842782845814%2C%2012.480715885217267%5D%2C%20%5B55.71991945954773%2C%2012.480062239088012%5D%2C%20%5B55.719956316352295%2C%2012.480051443067486%5D%2C%20%5B55.71990971757485%2C%2012.480013509310686%5D%2C%20%5B55.71205384089669%2C%2012.595909006993482%5D%2C%20%5B55.71256195172843%2C%2012.596231702770547%5D%2C%20%5B55.667724688883105%2C%2012.578031913056208%5D%2C%20%5B55.707429024013514%2C%2012.593071079510864%5D%2C%20%5B55.707592582873595%2C%2012.593889888346837%5D%2C%20%5B55.7076747712405%2C%2012.59474940072823%5D%2C%20%5B55.70769951307154%2C%2012.594979878627976%5D%2C%20%5B55.70772290078032%2C%2012.59520769675178%5D%2C%20%5B55.70767117245223%2C%2012.595507212223458%5D%2C%20%5B55.70772119103265%2C%2012.595998645749255%5D%2C%20%5B55.70782670278973%2C%2012.596208661036844%5D%2C%20%5B55.708102778556515%2C%2012.59733958141638%5D%2C%20%5B55.708143610152284%2C%2012.59710555226941%5D%2C%20%5B55.70836720006992%2C%2012.595713724374635%5D%2C%20%5B55.70845895464247%2C%2012.59523226265598%5D%2C%20%5B55.708526805076154%2C%2012.59484887314476%5D%2C%20%5B55.70861210348106%2C%2012.594366814171487%5D%2C%20%5B55.7086745256376%2C%2012.59400297732656%5D%2C%20%5B55.70872815014065%2C%2012.593718548705617%5D%2C%20%5B55.65894981634176%2C%2012.489506927671876%5D%2C%20%5B55.71221579079828%2C%2012.595916986793451%5D%2C%20%5B55.70784393328674%2C%2012.593226026217124%5D%2C%20%5B55.70794863208014%2C%2012.59324920564489%5D%2C%20%5B55.70799163143375%2C%2012.593257144690531%5D%2C%20%5B55.7077924937847%2C%2012.593214121367618%5D%2C%20%5B55.70817507303574%2C%2012.593297928604427%5D%2C%20%5B55.70838711870538%2C%2012.593346126985132%5D%2C%20%5B55.707417752176276%2C%2012.592152055073127%5D%2C%20%5B55.70732364374624%2C%2012.592045860555348%5D%2C%20%5B55.70734635273494%2C%2012.592244809556918%5D%2C%20%5B55.707360438486205%2C%2012.592398305139971%5D%2C%20%5B55.68531076926134%2C%2012.565451806937402%5D%2C%20%5B55.6851876242977%2C%2012.565689637517837%5D%2C%20%5B55.68510380770679%2C%2012.565837205548597%5D%2C%20%5B55.68496856431511%2C%2012.566070322030608%5D%2C%20%5B55.684792062315005%2C%2012.566389911719396%5D%2C%20%5B55.68460903951652%2C%2012.566723341774646%5D%2C%20%5B55.68454008608573%2C%2012.566850603949872%5D%2C%20%5B55.68441532363851%2C%2012.567073840934217%5D%2C%20%5B55.68446941292526%2C%2012.566966880953743%5D%2C%20%5B55.68436817317021%2C%2012.56715255839601%5D%2C%20%5B55.68320553141984%2C%2012.570107222771352%5D%2C%20%5B55.68314835773601%2C%2012.570249986018496%5D%2C%20%5B55.68309738986907%2C%2012.570389705713941%5D%2C%20%5B55.68305560485182%2C%2012.570494170596682%5D%2C%20%5B55.66956216519754%2C%2012.541871439030775%5D%2C%20%5B55.6645687836286%2C%2012.573853132279794%5D%2C%20%5B55.693624650420816%2C%2012.542591204703587%5D%2C%20%5B55.692928042488305%2C%2012.543580140949752%5D%2C%20%5B55.69261187299066%2C%2012.544018306277401%5D%2C%20%5B55.69200491142574%2C%2012.544867870458821%5D%2C%20%5B55.720798031618926%2C%2012.480686664621873%5D%2C%20%5B55.72081258919185%2C%2012.480725814474622%5D%2C%20%5B55.655287616585824%2C%2012.501171374624459%5D%2C%20%5B55.65529531359075%2C%2012.501163444998646%5D%2C%20%5B55.65529683194017%2C%2012.501178517402138%5D%2C%20%5B55.655187847123685%2C%2012.50121876016306%5D%2C%20%5B55.65518029741394%2C%2012.501221532523491%5D%2C%20%5B55.65322921342533%2C%2012.50212322083536%5D%2C%20%5B55.65323817661253%2C%2012.502125619220266%5D%2C%20%5B55.653229681853965%2C%2012.502138437727552%5D%2C%20%5B55.65319857428538%2C%2012.502152430117972%5D%2C%20%5B55.653192564073024%2C%2012.502141510094248%5D%2C%20%5B55.65318765003559%2C%2012.502155447269073%5D%2C%20%5B55.66919262135959%2C%2012.572618572558433%5D%2C%20%5B55.669107253460645%2C%2012.57276107461822%5D%2C%20%5B55.66898241531687%2C%2012.572954026537467%5D%2C%20%5B55.6689246409134%2C%2012.573037604093848%5D%2C%20%5B55.669005141341%2C%2012.573189964633462%5D%2C%20%5B55.66909791468783%2C%2012.573330262328339%5D%2C%20%5B55.669170983546515%2C%2012.573481946067973%5D%2C%20%5B55.66926181040235%2C%2012.573637887505138%5D%2C%20%5B55.66934997118979%2C%2012.573783039672302%5D%2C%20%5B55.6694439234278%2C%2012.573933994408307%5D%2C%20%5B55.6695244993436%2C%2012.574083729113125%5D%2C%20%5B55.715045881805224%2C%2012.536200559709625%5D%2C%20%5B55.6696065613032%2C%2012.574233600079054%5D%2C%20%5B55.66969144220815%2C%2012.574389002387775%5D%2C%20%5B55.66977921870657%2C%2012.574547306397513%5D%2C%20%5B55.66986432921395%2C%2012.574694820920861%5D%2C%20%5B55.669955077766325%2C%2012.57485339765647%5D%2C%20%5B55.71497845198498%2C%2012.536140959164493%5D%2C%20%5B55.71511512311212%2C%2012.53628003550944%5D%2C%20%5B55.71490504453044%2C%2012.53606814677157%5D%2C%20%5B55.71483907868526%2C%2012.536012902886547%5D%2C%20%5B55.71954112483221%2C%2012.583264729259309%5D%2C%20%5B55.65518589990003%2C%2012.50123007594553%5D%2C%20%5B55.66551848504378%2C%2012.57670880038937%5D%2C%20%5B55.65187805207418%2C%2012.489052799526744%5D%2C%20%5B55.651639769805016%2C%2012.489361364638627%5D%2C%20%5B55.66393318089473%2C%2012.57321089443607%5D%2C%20%5B55.64968183787413%2C%2012.491060881188464%5D%2C%20%5B55.64786493333592%2C%2012.493259889899113%5D%2C%20%5B55.646712525920854%2C%2012.49495144058296%5D%2C%20%5B55.64657563842275%2C%2012.495243689118265%5D%2C%20%5B55.64632410602727%2C%2012.495692145761033%5D%2C%20%5B55.69260106732424%2C%2012.564109195386493%5D%2C%20%5B55.664774118217245%2C%2012.629403429182101%5D%2C%20%5B55.63997084734821%2C%2012.58318690237048%5D%2C%20%5B55.639646729361%2C%2012.583111122904523%5D%2C%20%5B55.63958848232862%2C%2012.583094260378244%5D%2C%20%5B55.6394746066435%2C%2012.58304538921926%5D%2C%20%5B55.63986497778719%2C%2012.583161840700525%5D%2C%20%5B55.63975271109966%2C%2012.5831323481058%5D%2C%20%5B55.639412356548185%2C%2012.583016621884967%5D%2C%20%5B55.63953034745113%2C%2012.583073561759605%5D%2C%20%5B55.63934565476892%2C%2012.582991294193786%5D%2C%20%5B55.63930704770891%2C%2012.582972380471595%5D%2C%20%5B55.6392746134625%2C%2012.582965570016341%5D%2C%20%5B55.63924446112977%2C%2012.582955121742764%5D%2C%20%5B55.6561059755903%2C%2012.500702688802381%5D%2C%20%5B55.656005066851655%2C%2012.500756199283996%5D%2C%20%5B55.65597465848827%2C%2012.500769998765165%5D%2C%20%5B55.6566345569067%2C%2012.500430535481525%5D%2C%20%5B55.65672780823797%2C%2012.500391067986612%5D%2C%20%5B55.653973960051964%2C%2012.50186581314924%5D%2C%20%5B55.653694418199436%2C%2012.502005020098007%5D%2C%20%5B55.65384323223984%2C%2012.501926719369509%5D%2C%20%5B55.65405657479091%2C%2012.50167616917856%5D%2C%20%5B55.65401792159355%2C%2012.5016951831307%5D%2C%20%5B55.653629292347496%2C%2012.50189031812218%5D%2C%20%5B55.65358761654754%2C%2012.501912518133935%5D%2C%20%5B55.653021720088454%2C%2012.502155752939096%5D%2C%20%5B55.656796003804736%2C%2012.500342300006658%5D%2C%20%5B55.71172530522319%2C%2012.595512959427483%5D%2C%20%5B55.71194313040221%2C%2012.595747287529807%5D%2C%20%5B55.71248999025397%2C%2012.596090963426077%5D%2C%20%5B55.663976907696515%2C%2012.58036124556454%5D%2C%20%5B55.665474526403614%2C%2012.584403176894932%5D%2C%20%5B55.665565920677636%2C%2012.584124567754237%5D%2C%20%5B55.666720111216556%2C%2012.580663421007777%5D%2C%20%5B55.7034782898618%2C%2012.512611746032995%5D%2C%20%5B55.705834034414224%2C%2012.513790530262392%5D%2C%20%5B55.70355281766429%2C%2012.512652564318087%5D%2C%20%5B55.705882113246325%2C%2012.513796707678313%5D%2C%20%5B55.70519994899306%2C%2012.513477182145156%5D%2C%20%5B55.70445334072363%2C%2012.513101113284458%5D%2C%20%5B55.70440104332651%2C%2012.513062382079863%5D%2C%20%5B55.70434246317711%2C%2012.513061698856571%5D%2C%20%5B55.704075244168266%2C%2012.512913014396304%5D%2C%20%5B55.70386177955394%2C%2012.512803940863819%5D%2C%20%5B55.703767807122674%2C%2012.51275836027582%5D%2C%20%5B55.659383653902935%2C%2012.592736777075281%5D%2C%20%5B55.65944623867959%2C%2012.592760957035559%5D%2C%20%5B55.65928549974345%2C%2012.592706700939386%5D%2C%20%5B55.645282727574845%2C%2012.519000279965269%5D%2C%20%5B55.64530054408706%2C%2012.51920039733676%5D%2C%20%5B55.64527203836568%2C%2012.520048278820974%5D%2C%20%5B55.70319823883397%2C%2012.56441653715327%5D%2C%20%5B55.703137123695754%2C%2012.564451085597144%5D%2C%20%5B55.70318076956061%2C%2012.56448644624961%5D%2C%20%5B55.703136032364355%2C%2012.564370911736752%5D%2C%20%5B55.70318050958222%2C%2012.564345159830818%5D%2C%20%5B55.70195948783554%2C%2012.565118088047413%5D%2C%20%5B55.702258285822644%2C%2012.564456415282992%5D%2C%20%5B55.70222789363831%2C%2012.564457780265185%5D%2C%20%5B55.70208809826166%2C%2012.56457577551071%5D%2C%20%5B55.70160078469211%2C%2012.564633351600994%5D%2C%20%5B55.701892356596645%2C%2012.56475590139625%5D%2C%20%5B55.70224101478868%2C%2012.564407982541281%5D%2C%20%5B55.702299682964316%2C%2012.564665540093275%5D%2C%20%5B55.70234242016932%2C%2012.564614306753382%5D%2C%20%5B55.70231802695102%2C%2012.56473060926217%5D%2C%20%5B55.70227692202351%2C%2012.564779234803183%5D%2C%20%5B55.701570763974665%2C%2012.564641146050777%5D%2C%20%5B55.70160887519889%2C%2012.564575021157925%5D%2C%20%5B55.70330665905825%2C%2012.565793749694318%5D%2C%20%5B55.70334824883737%2C%2012.565862318659041%5D%2C%20%5B55.70337507358825%2C%2012.565903355030471%5D%2C%20%5B55.70380014942502%2C%2012.565496932868133%5D%2C%20%5B55.70332016833409%2C%2012.565837706742066%5D%2C%20%5B55.70377422062429%2C%2012.565451843230745%5D%2C%20%5B55.70279007955398%2C%2012.56519812325787%5D%2C%20%5B55.702812195950735%2C%2012.565160170742258%5D%2C%20%5B55.70285274740217%2C%2012.565077038924041%5D%2C%20%5B55.702766770057906%2C%2012.564848687119385%5D%2C%20%5B55.702597127591126%2C%2012.564928322547804%5D%2C%20%5B55.70257238581561%2C%2012.564949497142134%5D%2C%20%5B55.702542866903464%2C%2012.56497437094166%5D%2C%20%5B55.70526725979191%2C%2012.563191077724444%5D%2C%20%5B55.705309672082436%2C%2012.563204589961652%5D%2C%20%5B55.705213389128126%2C%2012.563330891796573%5D%2C%20%5B55.70533392452205%2C%2012.563307416160582%5D%2C%20%5B55.705339867196734%2C%2012.563397547750629%5D%2C%20%5B55.70471574491735%2C%2012.562967167294618%5D%2C%20%5B55.70431764486422%2C%2012.563382974773216%5D%2C%20%5B55.70410851600609%2C%2012.563241255660538%5D%2C%20%5B55.703790802995854%2C%2012.562791943002464%5D%2C%20%5B55.703722061552696%2C%2012.562747090145791%5D%2C%20%5B55.70221211235565%2C%2012.563094797335285%5D%2C%20%5B55.70217491676802%2C%2012.56315551732327%5D%2C%20%5B55.70211500496148%2C%2012.563043667296466%5D%2C%20%5B55.70196511597421%2C%2012.563324637333908%5D%2C%20%5B55.7019141664334%2C%2012.563434571638112%5D%2C%20%5B55.70187781044248%2C%2012.563360331743043%5D%2C%20%5B55.70182159434304%2C%2012.563333386558494%5D%2C%20%5B55.70182735940343%2C%2012.563187964373633%5D%2C%20%5B55.701848626032536%2C%2012.56282707905558%5D%2C%20%5B55.70182574204203%2C%2012.562766342903151%5D%2C%20%5B55.701830290620684%2C%2012.562556702139636%5D%2C%20%5B55.701566727522504%2C%2012.563675034633832%5D%2C%20%5B55.701497399894194%2C%2012.563569147663845%5D%2C%20%5B55.70143829364316%2C%2012.563694705008714%5D%2C%20%5B55.701431095671964%2C%2012.563571290973346%5D%2C%20%5B55.701382245652624%2C%2012.563555928721366%5D%2C%20%5B55.701458944311085%2C%2012.563620203466845%5D%2C%20%5B55.70339760292134%2C%2012.562694684727647%5D%2C%20%5B55.70329318164064%2C%2012.562709726024483%5D%2C%20%5B55.70119892478415%2C%2012.562786997009987%5D%2C%20%5B55.70004892642874%2C%2012.562548590177322%5D%2C%20%5B55.7011713431801%2C%2012.562834951724382%5D%2C%20%5B55.701152519915034%2C%2012.562740487239488%5D%2C%20%5B55.700369134027646%2C%2012.56284781344071%5D%2C%20%5B55.700326476757695%2C%2012.562857908548443%5D%2C%20%5B55.70034670212355%2C%2012.562798032326493%5D%2C%20%5B55.70002187294425%2C%2012.562525326394043%5D%2C%20%5B55.70113609919472%2C%2012.56253678310437%5D%2C%20%5B55.699576535307514%2C%2012.565233741599174%5D%2C%20%5B55.69952124883335%2C%2012.565267574359215%5D%2C%20%5B55.6993300674357%2C%2012.565551232754473%5D%2C%20%5B55.69925240334705%2C%2012.565679180537321%5D%2C%20%5B55.69936511424677%2C%2012.565696955729585%5D%2C%20%5B55.69904241197176%2C%2012.566026928507371%5D%2C%20%5B55.69913577888592%2C%2012.566047714852479%5D%2C%20%5B55.70477449641368%2C%2012.565652466005295%5D%2C%20%5B55.70480918922356%2C%2012.565637021958977%5D%2C%20%5B55.70152298548283%2C%2012.563720854550299%5D%2C%20%5B55.6863460546496%2C%2012.561637713540524%5D%2C%20%5B55.68397131448261%2C%2012.559348677538098%5D%2C%20%5B55.68281033766822%2C%2012.558233999883564%5D%2C%20%5B55.68558358870298%2C%2012.564518774586942%5D%2C%20%5B55.69325774433606%2C%2012.512351173038361%5D%2C%20%5B55.687112522938484%2C%2012.566205553758692%5D%2C%20%5B55.68549036673924%2C%2012.56443576348172%5D%2C%20%5B55.68476483395986%2C%2012.563754672583872%5D%2C%20%5B55.68469297018934%2C%2012.563687869697265%5D%2C%20%5B55.68461892031053%2C%2012.563615808067599%5D%2C%20%5B55.68422674558299%2C%2012.563249828189159%5D%2C%20%5B55.684050049731816%2C%2012.563079186076383%5D%2C%20%5B55.68262440880444%2C%2012.56174474578015%5D%2C%20%5B55.68753870515564%2C%2012.566778024856038%5D%2C%20%5B55.68771491951282%2C%2012.567008525215323%5D%2C%20%5B55.688357436194615%2C%2012.567867865717231%5D%2C%20%5B55.68873063775219%2C%2012.568367456378727%5D%2C%20%5B55.689855080010084%2C%2012.570037843361405%5D%2C%20%5B55.69078845957188%2C%2012.567381010445661%5D%2C%20%5B55.689337713335725%2C%2012.56532942204694%5D%2C%20%5B55.68824742864362%2C%2012.563888587559328%5D%2C%20%5B55.694106836852185%2C%2012.575851880448301%5D%2C%20%5B55.69484546882513%2C%2012.577133181442754%5D%2C%20%5B55.69732876981306%2C%2012.577659602463735%5D%2C%20%5B55.69675679646524%2C%2012.576431833530357%5D%2C%20%5B55.69318714568645%2C%2012.467472731168666%5D%2C%20%5B55.69324143504242%2C%2012.467433900926123%5D%2C%20%5B55.69334030721287%2C%2012.46737834903854%5D%2C%20%5B55.69321982760618%2C%2012.467280391188213%5D%2C%20%5B55.69329152205308%2C%2012.467268368766835%5D%2C%20%5B55.695033643443175%2C%2012.464705393241777%5D%2C%20%5B55.695076220203596%2C%2012.46466781734395%5D%2C%20%5B55.70209419968369%2C%2012.509425765487551%5D%2C%20%5B55.69428935404991%2C%2012.467170734570221%5D%2C%20%5B55.6942884460345%2C%2012.467248750659316%5D%2C%20%5B55.694206723787524%2C%2012.467202460955804%5D%2C%20%5B55.694183361127784%2C%2012.467340504812698%5D%2C%20%5B55.69415858122099%2C%2012.467253321840284%5D%2C%20%5B55.69408093179459%2C%2012.467338319057367%5D%2C%20%5B55.69406559410629%2C%2012.467421946878838%5D%2C%20%5B55.69402159422709%2C%2012.467418047827014%5D%2C%20%5B55.695831988399675%2C%2012.46390780433627%5D%2C%20%5B55.69579174125757%2C%2012.463954776159834%5D%2C%20%5B55.69575447059328%2C%2012.463988229162698%5D%2C%20%5B55.6956154819496%2C%2012.464132122366875%5D%2C%20%5B55.69557277591625%2C%2012.464174281949266%5D%2C%20%5B55.69554055224189%2C%2012.464212775472419%5D%2C%20%5B55.69536196321579%2C%2012.464380725091925%5D%2C%20%5B55.69532689237553%2C%2012.464428154215867%5D%2C%20%5B55.665214772121146%2C%2012.574475086895502%5D%2C%20%5B55.66530426336156%2C%2012.574599900882044%5D%2C%20%5B55.665514797024805%2C%2012.57474609273454%5D%2C%20%5B55.70184719085273%2C%2012.56515264383429%5D%2C%20%5B55.66873239247506%2C%2012.578490770545786%5D%2C%20%5B55.66874455363561%2C%2012.578461846669104%5D%2C%20%5B55.668224235190785%2C%2012.577730166888546%5D%2C%20%5B55.70203554501451%2C%2012.564857650626903%5D%2C%20%5B55.70211825622163%2C%2012.564528908774312%5D%2C%20%5B55.66527224516777%2C%2012.585325466314682%5D%2C%20%5B55.66524934163051%2C%2012.585286929054732%5D%2C%20%5B55.68796333246891%2C%2012.59513732904867%5D%2C%20%5B55.67033363457013%2C%2012.4800238240212%5D%2C%20%5B55.66761315665987%2C%2012.478663249307925%5D%2C%20%5B55.687887128766214%2C%2012.54470577103924%5D%2C%20%5B55.6878525613863%2C%2012.54467115908997%5D%2C%20%5B55.66559989241968%2C%2012.574852265447488%5D%2C%20%5B55.66556101494809%2C%2012.574800599863126%5D%2C%20%5B55.64469184370794%2C%2012.513019000313834%5D%2C%20%5B55.640888431456595%2C%2012.552688175033863%5D%2C%20%5B55.64085407193553%2C%2012.552808752967456%5D%2C%20%5B55.64092592177848%2C%2012.552566061598576%5D%2C%20%5B55.64093773229674%2C%2012.552407060085573%5D%2C%20%5B55.64096433022584%2C%2012.55230578727606%5D%2C%20%5B55.64099534801464%2C%2012.552194000805525%5D%2C%20%5B55.64102841792309%2C%2012.552082400093127%5D%2C%20%5B55.640951961472965%2C%2012.552164603755374%5D%2C%20%5B55.64082227801699%2C%2012.552201966553259%5D%2C%20%5B55.64056225713326%2C%2012.552476719944034%5D%2C%20%5B55.64063390199447%2C%2012.552560518614936%5D%2C%20%5B55.64069936006965%2C%2012.552431845117566%5D%2C%20%5B55.640881505956635%2C%2012.55235921897609%5D%2C%20%5B55.640743065811215%2C%2012.552663178850304%5D%2C%20%5B55.64076768600199%2C%2012.552310707008425%5D%2C%20%5B55.64078818649799%2C%2012.55256176615114%5D%2C%20%5B55.64070076040962%2C%2012.552773941373388%5D%2C%20%5B55.640715890177134%2C%2012.55285534785683%5D%2C%20%5B55.64060969732068%2C%2012.552614713759208%5D%2C%20%5B55.64058399076447%2C%2012.55254326308188%5D%2C%20%5B55.640537895357646%2C%2012.552571827819618%5D%2C%20%5B55.64061621957585%2C%2012.55246069130534%5D%2C%20%5B55.640684677680554%2C%2012.55237048821853%5D%2C%20%5B55.640725984988286%2C%2012.552365136131847%5D%2C%20%5B55.6408011781167%2C%2012.552255533986807%5D%2C%20%5B55.64076557978994%2C%2012.552241394594052%5D%2C%20%5B55.68613340429986%2C%2012.475427472202234%5D%2C%20%5B55.671228984573844%2C%2012.553663449125539%5D%2C%20%5B55.71060455900096%2C%2012.460333668088786%5D%2C%20%5B55.71468274632437%2C%2012.466578454577624%5D%2C%20%5B55.714684936011764%2C%2012.46633789266402%5D%2C%20%5B55.7146837453888%2C%2012.466461565638845%5D%2C%20%5B55.71283513806752%2C%2012.463671563110276%5D%2C%20%5B55.66994148023542%2C%2012.592529726352058%5D%2C%20%5B55.70859662545046%2C%2012.457696454913524%5D%2C%20%5B55.7020162611663%2C%2012.509227044396637%5D%2C%20%5B55.708419913010886%2C%2012.457542702132672%5D%2C%20%5B55.70845714628902%2C%2012.457605192103362%5D%2C%20%5B55.70852987004534%2C%2012.45759435556742%5D%2C%20%5B55.715825452660546%2C%2012.468763829062382%5D%2C%20%5B55.702153912302876%2C%2012.510030347463085%5D%2C%20%5B55.70206128581834%2C%2012.51002354373172%5D%2C%20%5B55.70222240591399%2C%2012.510285314578736%5D%2C%20%5B55.70236496477441%2C%2012.509767288185337%5D%2C%20%5B55.702404684626686%2C%2012.509629099033338%5D%2C%20%5B55.70241825448346%2C%2012.509571504092639%5D%2C%20%5B55.7024370927919%2C%2012.509508349755352%5D%2C%20%5B55.7024013436519%2C%2012.509477998071752%5D%2C%20%5B55.7023679570201%2C%2012.509603183504568%5D%2C%20%5B55.70235349472317%2C%2012.509662206297259%5D%2C%20%5B55.70233439811336%2C%2012.509734385310907%5D%2C%20%5B55.7022715026938%2C%2012.509984135703776%5D%2C%20%5B55.671208123245535%2C%2012.553751873514019%5D%2C%20%5B55.6711824842843%2C%2012.55362855553263%5D%2C%20%5B55.67116223050514%2C%2012.553718171036016%5D%2C%20%5B55.671137839396735%2C%2012.553596102527443%5D%2C%20%5B55.67111829169049%2C%2012.553683509886415%5D%2C%20%5B55.70732452603155%2C%2012.510076574234645%5D%2C%20%5B55.707362914486296%2C%2012.510048784196584%5D%2C%20%5B55.7073697629292%2C%2012.510117623804135%5D%2C%20%5B55.717371693931575%2C%2012.477659229271488%5D%2C%20%5B55.71748187968252%2C%2012.47750267457637%5D%2C%20%5B55.71751125595453%2C%2012.477421360064813%5D%2C%20%5B55.717529214592155%2C%2012.475150978073662%5D%2C%20%5B55.71741116461005%2C%2012.47507753899303%5D%2C%20%5B55.71735193675753%2C%2012.474958373131338%5D%2C%20%5B55.71731393816164%2C%2012.474776650554464%5D%2C%20%5B55.71716792454381%2C%2012.474137219510775%5D%2C%20%5B55.71720630230913%2C%2012.474335460058093%5D%2C%20%5B55.71690166306912%2C%2012.472822350618047%5D%2C%20%5B55.71682510321762%2C%2012.472702673411124%5D%2C%20%5B55.715734447732835%2C%2012.468231538975854%5D%2C%20%5B55.71571602584563%2C%2012.468096578282463%5D%2C%20%5B55.712931608601345%2C%2012.46374557745137%5D%2C%20%5B55.71301377910618%2C%2012.46377071161258%5D%2C%20%5B55.71307840903926%2C%2012.46386174500561%5D%2C%20%5B55.7129952876033%2C%2012.464028965292695%5D%2C%20%5B55.71039784563616%2C%2012.46004283837998%5D%2C%20%5B55.710462162128565%2C%2012.460134438016544%5D%2C%20%5B55.71053135853473%2C%2012.46023091333493%5D%2C%20%5B55.70903000141967%2C%2012.458996452187806%5D%2C%20%5B55.70897561204258%2C%2012.458925042633043%5D%2C%20%5B55.709030415938706%2C%2012.458932356513923%5D%2C%20%5B55.70897307470052%2C%2012.45886685253243%5D%2C%20%5B55.7090811588819%2C%2012.459009610236414%5D%2C%20%5B55.70834114933175%2C%2012.457619602509684%5D%2C%20%5B55.66754836655475%2C%2012.542694587910146%5D%2C%20%5B55.68788622991938%2C%2012.54463078640289%5D%2C%20%5B55.695281598011384%2C%2012.464470084001258%5D%2C%20%5B55.69511374992453%2C%2012.46462520045875%5D%2C%20%5B55.701898064232765%2C%2012.565142809750531%5D%2C%20%5B55.703226589253575%2C%2012.565790584673756%5D%2C%20%5B55.66526243707545%2C%2012.574536302149525%5D%2C%20%5B55.66539283145224%2C%2012.574717464237754%5D%2C%20%5B55.66543409008426%2C%2012.574772263017552%5D%2C%20%5B55.66547850938034%2C%2012.574831724671922%5D%2C%20%5B55.66547037768683%2C%2012.574686631118675%5D%2C%20%5B55.665433216964004%2C%2012.574631818690913%5D%2C%20%5B55.665385648280974%2C%2012.574574619006762%5D%2C%20%5B55.66534771680541%2C%2012.574660100796745%5D%2C%20%5B55.6655251251899%2C%2012.574900849135236%5D%2C%20%5B55.66556092707291%2C%2012.574945331244423%5D%2C%20%5B55.66474885141483%2C%2012.584994091357872%5D%2C%20%5B55.67206622460559%2C%2012.480819123044814%5D%2C%20%5B55.671614929164946%2C%2012.480626099017169%5D%2C%20%5B55.67062737457419%2C%2012.480188826873677%5D%2C%20%5B55.670446017452626%2C%2012.479906388048427%5D%2C%20%5B55.66930531829787%2C%2012.4785241245115%5D%2C%20%5B55.66774666924866%2C%2012.479940140134959%5D%2C%20%5B55.66553768321212%2C%2012.479041335801185%5D%2C%20%5B55.665960488418236%2C%2012.478933280201458%5D%2C%20%5B55.667285281480765%2C%2012.478452866399824%5D%2C%20%5B55.66744760615072%2C%2012.479947086330636%5D%2C%20%5B55.667543350514606%2C%2012.47994467187465%5D%2C%20%5B55.66793068590173%2C%2012.47996270422898%5D%2C%20%5B55.668479080689394%2C%2012.479996867670808%5D%2C%20%5B55.66818158502121%2C%2012.478498950185735%5D%2C%20%5B55.66836045851091%2C%2012.47843110639767%5D%2C%20%5B55.668477775959516%2C%2012.478683615442906%5D%2C%20%5B55.6685895990272%2C%2012.478513344642712%5D%2C%20%5B55.69343723694344%2C%2012.51939503136614%5D%2C%20%5B55.69334003676484%2C%2012.519317406908435%5D%2C%20%5B55.693221496518554%2C%2012.519230210009688%5D%2C%20%5B55.69255658845527%2C%2012.51874947351014%5D%2C%20%5B55.691749288444996%2C%2012.517506822485167%5D%2C%20%5B55.68999161994048%2C%2012.5125993892012%5D%2C%20%5B55.68923843682727%2C%2012.50917649264308%5D%2C%20%5B55.689088038239305%2C%2012.506565634337168%5D%2C%20%5B55.689073576005946%2C%2012.506461416005093%5D%2C%20%5B55.688952059113%2C%2012.506522573831937%5D%2C%20%5B55.68887420615436%2C%2012.504364529909415%5D%2C%20%5B55.688835777963135%2C%2012.504122310361849%5D%2C%20%5B55.688817604261295%2C%2012.504717629220124%5D%2C%20%5B55.69760721313362%2C%2012.55418734300838%5D%2C%20%5B55.697421792711594%2C%2012.553732687268077%5D%2C%20%5B55.697295848028546%2C%2012.553582259801628%5D%2C%20%5B55.697135454604584%2C%2012.553537113735871%5D%2C%20%5B55.69687020925837%2C%2012.553832687643565%5D%2C%20%5B55.696867337731454%2C%2012.553904699221343%5D%2C%20%5B55.696957664566%2C%2012.554417422922215%5D%2C%20%5B55.692726224714534%2C%2012.542101969355718%5D%2C%20%5B55.64478495206323%2C%2012.512992599701134%5D%2C%20%5B55.64480221283038%2C%2012.513213038411655%5D%2C%20%5B55.644905521245754%2C%2012.514433841869069%5D%2C%20%5B55.64474092049673%2C%2012.513637134934486%5D%2C%20%5B55.645009896057694%2C%2012.515680491402467%5D%2C%20%5B55.644990137965664%2C%2012.516718108868798%5D%2C%20%5B55.64514870938021%2C%2012.51734374304467%5D%2C%20%5B55.64508963927503%2C%2012.517759984507805%5D%2C%20%5B55.64030196204987%2C%2012.519667570205334%5D%2C%20%5B55.64186545523869%2C%2012.521323380821693%5D%5D%2C%0A%20%20%20%20%20%20%20%20%20%20%20%20%20%20%20%20%7B%22blur%22%3A%2010%2C%20%22maxZoom%22%3A%2018%2C%20%22minOpacity%22%3A%200.5%2C%20%22radius%22%3A%2011%7D%0A%20%20%20%20%20%20%20%20%20%20%20%20%29.addTo%28map_1c0af9a5177a4797893825db1f4cfa5a%29%3B%0A%20%20%20%20%20%20%20%20%0A%3C/script%3E onload=\"this.contentDocument.open();this.contentDocument.write(    decodeURIComponent(this.getAttribute('data-html')));this.contentDocument.close();\" allowfullscreen webkitallowfullscreen mozallowfullscreen></iframe></div></div>"
      ],
      "text/plain": [
       "<folium.folium.Map at 0x7ff32240b5e0>"
      ]
     },
     "execution_count": 52,
     "metadata": {},
     "output_type": "execute_result"
    }
   ],
   "source": [
    "## Heatmap \n",
    "# 4.2: Heat map \n",
    "data = df[df['planteaar'] == 2022.0]\n",
    "\n",
    "# List comprehension \n",
    "heat_data = [[row['Y'],row['X']] for index, row in data.iterrows()]\n",
    "\n",
    "# Plot it on the map\n",
    "lat = 55.6761\n",
    "lon = 12.5683\n",
    "map = folium.Map(location=[lat, lon],zoom_start = 12)\n",
    "HeatMap(heat_data,radius=11,blur=10).add_to(map)\n",
    "\n",
    "# Show map \n",
    "map"
   ]
  }
 ],
 "metadata": {
  "interpreter": {
   "hash": "fd10ce66b02ffab33161025f9ce872921483e68578b0c421a37b8bec3f5cf27b"
  },
  "kernelspec": {
   "display_name": "Python 3.9.1 64-bit ('SocialData': conda)",
   "name": "python391jvsc74a57bd035102f34d3bdac640e2569cd15da5c68d187c34a3d5c738579b8b36af75149df"
  },
  "language_info": {
   "codemirror_mode": {
    "name": "ipython",
    "version": 3
   },
   "file_extension": ".py",
   "mimetype": "text/x-python",
   "name": "python",
   "nbconvert_exporter": "python",
   "pygments_lexer": "ipython3",
   "version": "3.9.1"
  },
  "metadata": {
   "interpreter": {
    "hash": "35102f34d3bdac640e2569cd15da5c68d187c34a3d5c738579b8b36af75149df"
   }
  },
  "orig_nbformat": 2
 },
 "nbformat": 4,
 "nbformat_minor": 2
}
{
 "cells": [
  {
   "cell_type": "code",
   "execution_count": 3,
   "metadata": {},
   "outputs": [
    {
     "data": {
      "text/plain": "'/Users/carolinesofieljorring/Desktop/Social data analysis and visualization/socialdata2022-main/project'"
     },
     "execution_count": 3,
     "metadata": {},
     "output_type": "execute_result"
    }
   ],
   "source": [
    "import pandas as pd\n",
    "import os \n",
    "os.getcwd()"
   ]
  },
  {
   "cell_type": "code",
   "execution_count": 28,
   "metadata": {},
   "outputs": [
    {
     "data": {
      "text/html": "<div>\n<style scoped>\n    .dataframe tbody tr th:only-of-type {\n        vertical-align: middle;\n    }\n\n    .dataframe tbody tr th {\n        vertical-align: top;\n    }\n\n    .dataframe thead th {\n        text-align: right;\n    }\n</style>\n<table border=\"1\" class=\"dataframe\">\n  <thead>\n    <tr style=\"text-align: right;\">\n      <th></th>\n      <th>kategori</th>\n      <th>id</th>\n      <th>ny_dm_element</th>\n      <th>traeart</th>\n      <th>slaegtsnavn</th>\n      <th>planteaar</th>\n      <th>faeldningsaar</th>\n      <th>bydelsnavn</th>\n      <th>byrumstype</th>\n      <th>vejnavn</th>\n      <th>fritrumsprofil</th>\n      <th>stammeomfang</th>\n      <th>placering</th>\n      <th>omgivelse</th>\n      <th>reg_dato</th>\n      <th>opdateret_dato</th>\n      <th>wkb_geometry</th>\n    </tr>\n  </thead>\n  <tbody>\n    <tr>\n      <th>0</th>\n      <td>gadetræ</td>\n      <td>2755</td>\n      <td>Gade- og allétræer</td>\n      <td>Platanus hybr. acerifolia</td>\n      <td>Platan</td>\n      <td>2008.0</td>\n      <td>Ikke registreret</td>\n      <td>Vanløse</td>\n      <td>Gader og pladser</td>\n      <td>Sallingvej</td>\n      <td>4,5 m</td>\n      <td>40 - 60</td>\n      <td>Siderabat</td>\n      <td>Fast belægning</td>\n      <td>2011-07-01T00:00:00</td>\n      <td>2022-03-21T10:32:29.888</td>\n      <td>POINT (12.506472982261277 55.69325544860847)</td>\n    </tr>\n    <tr>\n      <th>1</th>\n      <td>gadetræ</td>\n      <td>79754</td>\n      <td>Gade- og allétræer</td>\n      <td>Tilia hybr. europaea 'Pallida'</td>\n      <td>Lind</td>\n      <td>2005.0</td>\n      <td>Ikke registreret</td>\n      <td>Valby</td>\n      <td>Gader og pladser</td>\n      <td>Mølle Allé</td>\n      <td>4,5 m</td>\n      <td>18 - 20</td>\n      <td>Fortov</td>\n      <td>Fast belægning</td>\n      <td>2016-04-07T09:47:27.171</td>\n      <td>2022-03-21T10:32:29.888</td>\n      <td>POINT (12.517024058234247 55.665248690540835)</td>\n    </tr>\n    <tr>\n      <th>2</th>\n      <td>gadetræ</td>\n      <td>84790</td>\n      <td>Gade- og allétræer</td>\n      <td>Tilia hybr. europaea 'Pallida'</td>\n      <td>Lind</td>\n      <td>2018.0</td>\n      <td>Ikke registreret</td>\n      <td>Valby</td>\n      <td>Gader og pladser</td>\n      <td>Mølle Allé</td>\n      <td>4,5 m</td>\n      <td>18 - 20</td>\n      <td>Fortov</td>\n      <td>Fast belægning</td>\n      <td>2018-01-08T00:00:00</td>\n      <td>2022-03-21T10:32:29.888</td>\n      <td>POINT (12.517473257630915 55.6651562247192)</td>\n    </tr>\n    <tr>\n      <th>3</th>\n      <td>gadetræ</td>\n      <td>79761</td>\n      <td>Formede træer</td>\n      <td>Tilia hybr. europaea 'Pallida'</td>\n      <td>Lind</td>\n      <td>1960.0</td>\n      <td>Ikke registreret</td>\n      <td>Valby</td>\n      <td>Gader og pladser</td>\n      <td>Mølle Allé</td>\n      <td>4,5 m</td>\n      <td>18 - 20</td>\n      <td>Fortov</td>\n      <td>Fast belægning</td>\n      <td>2016-04-07T09:47:27.171</td>\n      <td>2022-03-21T10:32:29.888</td>\n      <td>POINT (12.515573415316043 55.665570503006286)</td>\n    </tr>\n    <tr>\n      <th>4</th>\n      <td>gadetræ</td>\n      <td>6881</td>\n      <td>Gade- og allétræer</td>\n      <td>Robinia pseudoacacia 'Nyirsegi'</td>\n      <td>Robinie</td>\n      <td>2008.0</td>\n      <td>Ikke registreret</td>\n      <td>Vesterbro-Kongens Enghave</td>\n      <td>Gader og pladser</td>\n      <td>Dannebrogsgade</td>\n      <td>4,5 m</td>\n      <td>18 - 20</td>\n      <td>Fortov</td>\n      <td>Fast belægning</td>\n      <td>2011-07-01T00:00:00</td>\n      <td>2022-03-09T17:16:03.502</td>\n      <td>POINT (12.552988210062669 55.669186278185045)</td>\n    </tr>\n  </tbody>\n</table>\n</div>",
      "text/plain": "  kategori     id       ny_dm_element                          traeart  \\\n0  gadetræ   2755  Gade- og allétræer       Platanus hybr. acerifolia    \n1  gadetræ  79754  Gade- og allétræer  Tilia hybr. europaea 'Pallida'    \n2  gadetræ  84790  Gade- og allétræer  Tilia hybr. europaea 'Pallida'    \n3  gadetræ  79761       Formede træer  Tilia hybr. europaea 'Pallida'    \n4  gadetræ   6881  Gade- og allétræer  Robinia pseudoacacia 'Nyirsegi'   \n\n  slaegtsnavn  planteaar     faeldningsaar                 bydelsnavn  \\\n0      Platan     2008.0  Ikke registreret                    Vanløse   \n1        Lind     2005.0  Ikke registreret                      Valby   \n2        Lind     2018.0  Ikke registreret                      Valby   \n3        Lind     1960.0  Ikke registreret                      Valby   \n4     Robinie     2008.0  Ikke registreret  Vesterbro-Kongens Enghave   \n\n         byrumstype         vejnavn fritrumsprofil stammeomfang  placering  \\\n0  Gader og pladser      Sallingvej          4,5 m      40 - 60  Siderabat   \n1  Gader og pladser      Mølle Allé          4,5 m      18 - 20     Fortov   \n2  Gader og pladser      Mølle Allé          4,5 m      18 - 20     Fortov   \n3  Gader og pladser      Mølle Allé          4,5 m      18 - 20     Fortov   \n4  Gader og pladser  Dannebrogsgade          4,5 m      18 - 20     Fortov   \n\n        omgivelse                 reg_dato           opdateret_dato  \\\n0  Fast belægning      2011-07-01T00:00:00  2022-03-21T10:32:29.888   \n1  Fast belægning  2016-04-07T09:47:27.171  2022-03-21T10:32:29.888   \n2  Fast belægning      2018-01-08T00:00:00  2022-03-21T10:32:29.888   \n3  Fast belægning  2016-04-07T09:47:27.171  2022-03-21T10:32:29.888   \n4  Fast belægning      2011-07-01T00:00:00  2022-03-09T17:16:03.502   \n\n                                    wkb_geometry  \n0   POINT (12.506472982261277 55.69325544860847)  \n1  POINT (12.517024058234247 55.665248690540835)  \n2    POINT (12.517473257630915 55.6651562247192)  \n3  POINT (12.515573415316043 55.665570503006286)  \n4  POINT (12.552988210062669 55.669186278185045)  "
     },
     "execution_count": 28,
     "metadata": {},
     "output_type": "execute_result"
    }
   ],
   "source": [
    "# enhedsomraade \n",
    "cols = ['kategori','id','ny_dm_element','traeart','slaegtsnavn','planteaar','faeldningsaar','bydelsnavn','byrumstype','vejnavn','fritrumsprofil','stammeomfang','placering','omgivelse','reg_dato','opdateret_dato','wkb_geometry']\n",
    "df = pd.read_csv('trae_basis.csv',sep=',',usecols=cols)\n",
    "#drop_columns = ['FID','under_element','arbsted_tekst_id','plantet_halvaar','vaekstsaeson','underordnet_stednavn','omraade','kronediameter','vaekstmedie','beskyttelse','sundhed','skudtilsvaekst','andre_vaekstforhold','bevaringsvaerdi','driftstatus_gadetrae','garantiperioden_udloeber','vanding_i_aar','ejer','driftsorganisation','driftsorganisation_vanding','driftsaftale_edoc_nr','']\n",
    "df.head()"
   ]
  },
  {
   "cell_type": "code",
   "execution_count": null,
   "metadata": {},
   "outputs": [],
   "source": [
    "# Idéen med datasættet, hvad vil vi undersøge?\n",
    "# hvorfor vigtigt? Vigtigt med træer ift. klimaaflastning (CO2), god stemning i byer, træer/grønne områder skaber ro \n",
    "\n",
    "# Exploratory analysis\n",
    "# Hvor mange træer i Kbh, hvor mange træer i de forskellige bydele\n",
    "# Hvilke slags træer - overordnet, i de forskellige bydele \n",
    "# Hvornår er træerne plantet - i hvilke år plantes der flest \n",
    "# Hvor store er træerne? Forskel på størrelse ift. bydele \n",
    "# Geo plot, brug lat,loc"
   ]
  }
 ],
 "metadata": {
  "kernelspec": {
   "display_name": "Python 3.9.1 64-bit ('SocialData': conda)",
   "name": "python391jvsc74a57bd035102f34d3bdac640e2569cd15da5c68d187c34a3d5c738579b8b36af75149df"
  },
  "language_info": {
   "codemirror_mode": {
    "name": "ipython",
    "version": 3
   },
   "file_extension": ".py",
   "mimetype": "text/x-python",
   "name": "python",
   "nbconvert_exporter": "python",
   "pygments_lexer": "ipython3",
   "version": "3.9.1"
  },
  "metadata": {
   "interpreter": {
    "hash": "35102f34d3bdac640e2569cd15da5c68d187c34a3d5c738579b8b36af75149df"
   }
  },
  "orig_nbformat": 2
 },
 "nbformat": 4,
 "nbformat_minor": 2
}
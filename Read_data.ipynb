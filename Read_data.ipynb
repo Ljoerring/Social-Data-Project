{
 "cells": [
  {
   "cell_type": "code",
   "execution_count": 57,
   "metadata": {},
   "outputs": [
    {
     "data": {
      "text/plain": "'/Users/carolinesofieljorring/Desktop/Social-Data-Project'"
     },
     "execution_count": 57,
     "metadata": {},
     "output_type": "execute_result"
    }
   ],
   "source": [
    "import pandas as pd\n",
    "import os \n",
    "import matplotlib.pyplot as plt \n",
    "os.getcwd()"
   ]
  },
  {
   "cell_type": "code",
   "execution_count": 50,
   "metadata": {},
   "outputs": [
    {
     "data": {
      "text/html": "<div>\n<style scoped>\n    .dataframe tbody tr th:only-of-type {\n        vertical-align: middle;\n    }\n\n    .dataframe tbody tr th {\n        vertical-align: top;\n    }\n\n    .dataframe thead th {\n        text-align: right;\n    }\n</style>\n<table border=\"1\" class=\"dataframe\">\n  <thead>\n    <tr style=\"text-align: right;\">\n      <th></th>\n      <th>kategori</th>\n      <th>id</th>\n      <th>ny_dm_element</th>\n      <th>traeart</th>\n      <th>slaegtsnavn</th>\n      <th>planteaar</th>\n      <th>faeldningsaar</th>\n      <th>bydelsnavn</th>\n      <th>byrumstype</th>\n      <th>vejnavn</th>\n      <th>fritrumsprofil</th>\n      <th>stammeomfang</th>\n      <th>placering</th>\n      <th>omgivelse</th>\n      <th>reg_dato</th>\n      <th>opdateret_dato</th>\n      <th>wkb_geometry</th>\n    </tr>\n  </thead>\n  <tbody>\n    <tr>\n      <th>0</th>\n      <td>gadetræ</td>\n      <td>2755</td>\n      <td>Gade- og allétræer</td>\n      <td>Platanus hybr. acerifolia</td>\n      <td>Platan</td>\n      <td>2008.0</td>\n      <td>Ikke registreret</td>\n      <td>Vanløse</td>\n      <td>Gader og pladser</td>\n      <td>Sallingvej</td>\n      <td>4,5 m</td>\n      <td>40 - 60</td>\n      <td>Siderabat</td>\n      <td>Fast belægning</td>\n      <td>2011-07-01T00:00:00</td>\n      <td>2022-03-21T10:32:29.888</td>\n      <td>POINT (12.506472982261277 55.69325544860847)</td>\n    </tr>\n    <tr>\n      <th>1</th>\n      <td>gadetræ</td>\n      <td>79754</td>\n      <td>Gade- og allétræer</td>\n      <td>Tilia hybr. europaea 'Pallida'</td>\n      <td>Lind</td>\n      <td>2005.0</td>\n      <td>Ikke registreret</td>\n      <td>Valby</td>\n      <td>Gader og pladser</td>\n      <td>Mølle Allé</td>\n      <td>4,5 m</td>\n      <td>18 - 20</td>\n      <td>Fortov</td>\n      <td>Fast belægning</td>\n      <td>2016-04-07T09:47:27.171</td>\n      <td>2022-03-21T10:32:29.888</td>\n      <td>POINT (12.517024058234247 55.665248690540835)</td>\n    </tr>\n    <tr>\n      <th>2</th>\n      <td>gadetræ</td>\n      <td>84790</td>\n      <td>Gade- og allétræer</td>\n      <td>Tilia hybr. europaea 'Pallida'</td>\n      <td>Lind</td>\n      <td>2018.0</td>\n      <td>Ikke registreret</td>\n      <td>Valby</td>\n      <td>Gader og pladser</td>\n      <td>Mølle Allé</td>\n      <td>4,5 m</td>\n      <td>18 - 20</td>\n      <td>Fortov</td>\n      <td>Fast belægning</td>\n      <td>2018-01-08T00:00:00</td>\n      <td>2022-03-21T10:32:29.888</td>\n      <td>POINT (12.517473257630915 55.6651562247192)</td>\n    </tr>\n    <tr>\n      <th>3</th>\n      <td>gadetræ</td>\n      <td>79761</td>\n      <td>Formede træer</td>\n      <td>Tilia hybr. europaea 'Pallida'</td>\n      <td>Lind</td>\n      <td>1960.0</td>\n      <td>Ikke registreret</td>\n      <td>Valby</td>\n      <td>Gader og pladser</td>\n      <td>Mølle Allé</td>\n      <td>4,5 m</td>\n      <td>18 - 20</td>\n      <td>Fortov</td>\n      <td>Fast belægning</td>\n      <td>2016-04-07T09:47:27.171</td>\n      <td>2022-03-21T10:32:29.888</td>\n      <td>POINT (12.515573415316043 55.665570503006286)</td>\n    </tr>\n    <tr>\n      <th>4</th>\n      <td>gadetræ</td>\n      <td>6881</td>\n      <td>Gade- og allétræer</td>\n      <td>Robinia pseudoacacia 'Nyirsegi'</td>\n      <td>Robinie</td>\n      <td>2008.0</td>\n      <td>Ikke registreret</td>\n      <td>Vesterbro-Kongens Enghave</td>\n      <td>Gader og pladser</td>\n      <td>Dannebrogsgade</td>\n      <td>4,5 m</td>\n      <td>18 - 20</td>\n      <td>Fortov</td>\n      <td>Fast belægning</td>\n      <td>2011-07-01T00:00:00</td>\n      <td>2022-03-09T17:16:03.502</td>\n      <td>POINT (12.552988210062669 55.669186278185045)</td>\n    </tr>\n  </tbody>\n</table>\n</div>",
      "text/plain": "  kategori     id       ny_dm_element                          traeart  \\\n0  gadetræ   2755  Gade- og allétræer       Platanus hybr. acerifolia    \n1  gadetræ  79754  Gade- og allétræer  Tilia hybr. europaea 'Pallida'    \n2  gadetræ  84790  Gade- og allétræer  Tilia hybr. europaea 'Pallida'    \n3  gadetræ  79761       Formede træer  Tilia hybr. europaea 'Pallida'    \n4  gadetræ   6881  Gade- og allétræer  Robinia pseudoacacia 'Nyirsegi'   \n\n  slaegtsnavn  planteaar     faeldningsaar                 bydelsnavn  \\\n0      Platan     2008.0  Ikke registreret                    Vanløse   \n1        Lind     2005.0  Ikke registreret                      Valby   \n2        Lind     2018.0  Ikke registreret                      Valby   \n3        Lind     1960.0  Ikke registreret                      Valby   \n4     Robinie     2008.0  Ikke registreret  Vesterbro-Kongens Enghave   \n\n         byrumstype         vejnavn fritrumsprofil stammeomfang  placering  \\\n0  Gader og pladser      Sallingvej          4,5 m      40 - 60  Siderabat   \n1  Gader og pladser      Mølle Allé          4,5 m      18 - 20     Fortov   \n2  Gader og pladser      Mølle Allé          4,5 m      18 - 20     Fortov   \n3  Gader og pladser      Mølle Allé          4,5 m      18 - 20     Fortov   \n4  Gader og pladser  Dannebrogsgade          4,5 m      18 - 20     Fortov   \n\n        omgivelse                 reg_dato           opdateret_dato  \\\n0  Fast belægning      2011-07-01T00:00:00  2022-03-21T10:32:29.888   \n1  Fast belægning  2016-04-07T09:47:27.171  2022-03-21T10:32:29.888   \n2  Fast belægning      2018-01-08T00:00:00  2022-03-21T10:32:29.888   \n3  Fast belægning  2016-04-07T09:47:27.171  2022-03-21T10:32:29.888   \n4  Fast belægning      2011-07-01T00:00:00  2022-03-09T17:16:03.502   \n\n                                    wkb_geometry  \n0   POINT (12.506472982261277 55.69325544860847)  \n1  POINT (12.517024058234247 55.665248690540835)  \n2    POINT (12.517473257630915 55.6651562247192)  \n3  POINT (12.515573415316043 55.665570503006286)  \n4  POINT (12.552988210062669 55.669186278185045)  "
     },
     "execution_count": 50,
     "metadata": {},
     "output_type": "execute_result"
    }
   ],
   "source": [
    "# enhedsomraade \n",
    "cols = ['kategori','id','ny_dm_element','traeart','slaegtsnavn','planteaar','faeldningsaar','bydelsnavn','byrumstype','vejnavn','fritrumsprofil','stammeomfang','placering','omgivelse','reg_dato','opdateret_dato','wkb_geometry']\n",
    "df = pd.read_csv('data/trae_basis.csv',sep=',',usecols=cols)\n",
    "#drop_columns = ['FID','under_element','arbsted_tekst_id','plantet_halvaar','vaekstsaeson','underordnet_stednavn','omraade','kronediameter','vaekstmedie','beskyttelse','sundhed','skudtilsvaekst','andre_vaekstforhold','bevaringsvaerdi','driftstatus_gadetrae','garantiperioden_udloeber','vanding_i_aar','ejer','driftsorganisation','driftsorganisation_vanding','driftsaftale_edoc_nr','']\n",
    "df.head()"
   ]
  },
  {
   "cell_type": "code",
   "execution_count": null,
   "metadata": {},
   "outputs": [],
   "source": [
    "# Idéen med datasættet, hvad vil vi undersøge?\n",
    "# hvorfor vigtigt? Vigtigt med træer ift. klimaaflastning (CO2), god stemning i byer, træer/grønne områder skaber ro \n",
    "\n",
    "# Exploratory analysis\n",
    "# Location\n",
    "# Hvor mange træer i Kbh, hvor mange træer i de forskellige bydele\n",
    "# Hvilke slags træer - overordnet, i de forskellige bydele \n",
    "# Geo plot, brug lat,loc\n",
    "\n",
    "# Hvilke træer\n",
    "# Hvornår er træerne plantet - i hvilke år plantes der flest\n",
    "# Hvilke typer træeer er plantet hvornår  \n",
    "# Hvor store er træerne? Forskel på størrelse ift. bydele "
   ]
  },
  {
   "cell_type": "code",
   "execution_count": 51,
   "metadata": {},
   "outputs": [
    {
     "name": "stdout",
     "output_type": "stream",
     "text": [
      "62079 62063\n",
      "False\n",
      "62063 62063\n"
     ]
    }
   ],
   "source": [
    "## Data preprocessing\n",
    "print(df.shape[0],len(df['id'].unique()))\n",
    "df.duplicated(subset='id',keep=False) # rows with same id \n",
    "df = df.drop_duplicates(subset='id',keep='last') # drop duplicated rows\n",
    "print(df.duplicated(subset=['id']).any())\n",
    "print(df.shape[0],len(df['id'].unique()))"
   ]
  },
  {
   "cell_type": "code",
   "execution_count": 64,
   "metadata": {},
   "outputs": [
    {
     "data": {
      "image/png": "[encoded data removed]",
      "text/plain": "<Figure size 432x288 with 1 Axes>"
     },
     "metadata": {
      "needs_background": "light"
     },
     "output_type": "display_data"
    }
   ],
   "source": [
    "# Exploratory analysis\n",
    "n_trees = df.shape[0] # number of trees in Copenhagen\n",
    "count_bydele = df.groupby(['bydelsnavn']).size().sort_values(ascending=False)\n",
    "plt.figure()\n",
    "plt.bar(count_bydele.index,count_bydele.values)\n",
    "plt.xticks(count_bydele.index,rotation=90)\n",
    "plt.show()"
   ]
  },
  {
   "cell_type": "code",
   "execution_count": 65,
   "metadata": {},
   "outputs": [],
   "source": [
    "# For bokeh visualisations\n",
    "from bokeh.plotting import figure\n",
    "from bokeh.models.widgets import Panel, Tabs\n",
    "from bokeh.io import show, output_notebook, reset_output\n",
    "from bokeh.models import ColumnDataSource, HoverTool, Legend\n",
    "from bokeh.layouts import row"
   ]
  },
  {
   "cell_type": "code",
   "execution_count": 66,
   "metadata": {},
   "outputs": [
    {
     "data": {
      "text/plain": "array(['gadetræ', 'parktræ', 'privat træ', 'Ikke defineret'], dtype=object)"
     },
     "execution_count": 66,
     "metadata": {},
     "output_type": "execute_result"
    }
   ],
   "source": [
    "df['kategori'].unique()"
   ]
  },
  {
   "cell_type": "code",
   "execution_count": 67,
   "metadata": {},
   "outputs": [
    {
     "data": {
      "text/plain": "array(['Gade- og allétræer', 'Formede træer', 'Park- og naturtræer',\n       'Private træer', '0', 'Træer i bevoksninger'], dtype=object)"
     },
     "execution_count": 67,
     "metadata": {},
     "output_type": "execute_result"
    }
   ],
   "source": [
    "df['ny_dm_element'].unique()"
   ]
  },
  {
   "cell_type": "code",
   "execution_count": 68,
   "metadata": {},
   "outputs": [
    {
     "data": {
      "text/plain": "array(['Platan', 'Lind', 'Robinie', 'Løn', 'Elm', 'Æble', 'Røn', 'Ask',\n       'Pære', 'Pil', 'Tretorn', 'El', 'Eg', 'Kirsebær/Blomme',\n       'Hestekastanie', 'Tjørn', 'Birk', 'Bærmispel', 'Kornel', 'Avnbøg',\n       'Guldregn', 'Gingko', 'Vandgran', 'Snebolle', 'Lærk', 'Skyrækker',\n       'Hassel', 'Ambratræ', 'Poppel', 'Taks', 'Thuja', 'Fyr',\n       'Hibiscus-slægten', 'Paulównia', 'Kristtorn', 'Tulipantræ',\n       'Valnød', 'Sophora', 'Sølvblad ', 'Ene', 'Kinesertræ', 'Ceder',\n       'Ikke registreret', 'Trompetkrone', 'Kastanie', 'Tusindtop',\n       'Taxodium, ikke navngivet på dansk', 'Gran', 'Bøg', 'Vingevalnød',\n       'Parrotia, ikke navngivet på dansk', 'Nyssa', 'Kvæde', 'Magnolia',\n       'Zelkova, ikke navngivet på dansk', 'Hjertetræ', 'Humlebøg',\n       'Syren-slægten', 'Hyld', 'Hemlock', 'Sydbøg', 'Storaks', 'Mispel',\n       'Morbær', 'Bjergthe', 'Osagetorn', 'Albizia (Ærteblomst-fam,)',\n       'Dværgcypres', 'Sequoiadendron, ikke navngivet på dansk', nan,\n       'Duetræ', 'Havtorn', 'Ædelgran', 'Nøddetaks', 'Blærespirea',\n       'Araucarie', 'Korktræ', 'Kladrastis', 'Tetradium', 'Slåen',\n       'Douglasgran', 'Hønsebenstræ', 'Flodceder', 'Blommetaks', 'Buxbom',\n       'Adams Guldregn', 'Blærenød', 'Sumak', 'Vrietorn', 'Benved',\n       'Surbær', 'Dværgmispel', 'Troldnød', 'Stor troldel',\n       'Judastræs slægten', 'Dronningebusk', 'Ranunkelbusk', 'Hjultræ',\n       'Kortlæbe', 'Diervilla', 'Stennød', 'Ribs', 'Ægte kastanie',\n       'Aralie', 'Pistacie', 'Rødtræ', 'Rhododendron'], dtype=object)"
     },
     "execution_count": 68,
     "metadata": {},
     "output_type": "execute_result"
    }
   ],
   "source": [
    "df['slaegtsnavn'].unique()"
   ]
  },
  {
   "cell_type": "code",
   "execution_count": 69,
   "metadata": {},
   "outputs": [
    {
     "data": {
      "text/plain": "array([2008., 2005., 2018., 1960., 2012., 2022., 1977., 2009., 2011.,\n       2003., 2021., 1995., 2010., 1980., 1970., 2016., 2015., 2019.,\n       2006., 2002., 2001., 1990., 1988., 1998., 1992., 2007., 1947.,\n       2014., 2000., 1918., 1900., 2013., 1930., 1940., 1982., 2004.,\n       1985., 1972., 1953., 2017., 1969., 2020., 1944., 1950., 1925.,\n       1975., 1999., 1951., 1996., 1924., 1920., 1984., 1997., 1989.,\n       1942., 1850., 1935., 1948.,   nan, 1936., 1991., 1971., 1976.,\n       1994., 1978., 1906., 1965., 1941., 1974., 1973., 1979., 1952.,\n          0., 1987., 1961., 1909., 1955., 1905., 1945., 1981., 1986.,\n       1773., 1993., 1933., 1983., 1912., 1902., 1907., 1908., 1963.,\n       1967., 1915., 1927., 1968., 1959., 1910., 1962., 1870., 1957.,\n       1958., 1895., 1966., 1892., 1954., 1932., 1943., 1937., 1931.,\n       1891., 1890., 1901., 1926., 1928., 1880., 1919., 1964., 1886.,\n       1899., 1913., 1923., 1934., 1922., 1916., 1860., 1914., 1938.,\n       1939., 1946.])"
     },
     "execution_count": 69,
     "metadata": {},
     "output_type": "execute_result"
    }
   ],
   "source": [
    "df['planteaar'].unique()"
   ]
  },
  {
   "cell_type": "code",
   "execution_count": 122,
   "metadata": {},
   "outputs": [
    {
     "name": "stdout",
     "output_type": "stream",
     "text": [
      "Index(['district', 'category', 'count'], dtype='object')\n",
      "6\n"
     ]
    },
    {
     "data": {
      "text/html": "<div>\n<style scoped>\n    .dataframe tbody tr th:only-of-type {\n        vertical-align: middle;\n    }\n\n    .dataframe tbody tr th {\n        vertical-align: top;\n    }\n\n    .dataframe thead th {\n        text-align: right;\n    }\n</style>\n<table border=\"1\" class=\"dataframe\">\n  <thead>\n    <tr style=\"text-align: right;\">\n      <th></th>\n      <th>district</th>\n      <th>category</th>\n      <th>count</th>\n      <th>fraction district</th>\n      <th>fraction category</th>\n    </tr>\n  </thead>\n  <tbody>\n    <tr>\n      <th>0</th>\n      <td>Amager Vest</td>\n      <td>Formede træer</td>\n      <td>82</td>\n      <td>0.015664</td>\n      <td>0.035480</td>\n    </tr>\n    <tr>\n      <th>1</th>\n      <td>Amager Vest</td>\n      <td>Gade- og allétræer</td>\n      <td>2824</td>\n      <td>0.539446</td>\n      <td>0.408536</td>\n    </tr>\n    <tr>\n      <th>2</th>\n      <td>Amager Vest</td>\n      <td>Park- og naturtræer</td>\n      <td>1782</td>\n      <td>0.340401</td>\n      <td>0.453056</td>\n    </tr>\n    <tr>\n      <th>3</th>\n      <td>Amager Vest</td>\n      <td>Private træer</td>\n      <td>57</td>\n      <td>0.010888</td>\n      <td>0.017966</td>\n    </tr>\n    <tr>\n      <th>4</th>\n      <td>Amager Vest</td>\n      <td>Træer i bevoksninger</td>\n      <td>490</td>\n      <td>0.093601</td>\n      <td>0.084559</td>\n    </tr>\n  </tbody>\n</table>\n</div>",
      "text/plain": "      district              category  count  fraction district  \\\n0  Amager Vest         Formede træer     82           0.015664   \n1  Amager Vest    Gade- og allétræer   2824           0.539446   \n2  Amager Vest   Park- og naturtræer   1782           0.340401   \n3  Amager Vest         Private træer     57           0.010888   \n4  Amager Vest  Træer i bevoksninger    490           0.093601   \n\n   fraction category  \n0           0.035480  \n1           0.408536  \n2           0.453056  \n3           0.017966  \n4           0.084559  "
     },
     "execution_count": 122,
     "metadata": {},
     "output_type": "execute_result"
    }
   ],
   "source": [
    "df1 = df.groupby(['bydelsnavn','ny_dm_element']).size().reset_index()\n",
    "df1.columns = ['district','category','count']\n",
    "print(df1.columns)\n",
    "print(len(df1['category'].unique()))\n",
    "\n",
    "df1['fraction district'] = 0\n",
    "for name in count_bydele.index:\n",
    "    df1.loc[df1['district']==name,'fraction district'] = df1.loc[df1['district']==name,'count']/count_bydele[name]\n",
    "    #print(df1.loc[df1['district']==name,'fraction district'].sum())\n",
    "\n",
    "count_category = df.groupby('ny_dm_element').size()\n",
    "df1['fraction category'] = 0\n",
    "for name in count_category.index:\n",
    "    df1.loc[df1['category']==name,'fraction category'] = count_category[name]/count_category.sum()\n",
    "\n",
    "df1.head()"
   ]
  },
  {
   "cell_type": "code",
   "execution_count": 125,
   "metadata": {},
   "outputs": [
    {
     "data": {
      "text/html": "\n    <div class=\"bk-root\">\n        <a href=\"https://bokeh.org\" target=\"_blank\" class=\"bk-logo bk-logo-small bk-logo-notebook\"></a>\n        <span id=\"1341\">Loading BokehJS ...</span>\n    </div>"
     },
     "metadata": {},
     "output_type": "display_data"
    },
    {
     "data": {
      "application/javascript": "\n(function(root) {\n  function now() {\n    return new Date();\n  }\n\n  const force = true;\n\n  if (typeof root._bokeh_onload_callbacks === \"undefined\" || force === true) {\n    root._bokeh_onload_callbacks = [];\n    root._bokeh_is_loading = undefined;\n  }\n\n  const JS_MIME_TYPE = 'application/javascript';\n  const HTML_MIME_TYPE = 'text/html';\n  const EXEC_MIME_TYPE = 'application/vnd.bokehjs_exec.v0+json';\n  const CLASS_NAME = 'output_bokeh rendered_html';\n\n  /**\n   * Render data to the DOM node\n   */\n  function render(props, node) {\n    const script = document.createElement(\"script\");\n    node.appendChild(script);\n  }\n\n  /**\n   * Handle when an output is cleared or removed\n   */\n  function handleClearOutput(event, handle) {\n    const cell = handle.cell;\n\n    const id = cell.output_area._bokeh_element_id;\n    const server_id = cell.output_area._bokeh_server_id;\n    // Clean up Bokeh references\n    if (id != null && id in Bokeh.index) {\n      Bokeh.index[id].model.document.clear();\n      delete Bokeh.index[id];\n    }\n\n    if (server_id !== undefined) {\n      // Clean up Bokeh references\n      const cmd_clean = \"from bokeh.io.state import curstate; print(curstate().uuid_to_server['\" + server_id + \"'].get_sessions()[0].document.roots[0]._id)\";\n      cell.notebook.kernel.execute(cmd_clean, {\n        iopub: {\n          output: function(msg) {\n            const id = msg.content.text.trim();\n            if (id in Bokeh.index) {\n              Bokeh.index[id].model.document.clear();\n              delete Bokeh.index[id];\n            }\n          }\n        }\n      });\n      // Destroy server and session\n      const cmd_destroy = \"import bokeh.io.notebook as ion; ion.destroy_server('\" + server_id + \"')\";\n      cell.notebook.kernel.execute(cmd_destroy);\n    }\n  }\n\n  /**\n   * Handle when a new output is added\n   */\n  function handleAddOutput(event, handle) {\n    const output_area = handle.output_area;\n    const output = handle.output;\n\n    // limit handleAddOutput to display_data with EXEC_MIME_TYPE content only\n    if ((output.output_type != \"display_data\") || (!Object.prototype.hasOwnProperty.call(output.data, EXEC_MIME_TYPE))) {\n      return\n    }\n\n    const toinsert = output_area.element.find(\".\" + CLASS_NAME.split(' ')[0]);\n\n    if (output.metadata[EXEC_MIME_TYPE][\"id\"] !== undefined) {\n      toinsert[toinsert.length - 1].firstChild.textContent = output.data[JS_MIME_TYPE];\n      // store reference to embed id on output_area\n      output_area._bokeh_element_id = output.metadata[EXEC_MIME_TYPE][\"id\"];\n    }\n    if (output.metadata[EXEC_MIME_TYPE][\"server_id\"] !== undefined) {\n      const bk_div = document.createElement(\"div\");\n      bk_div.innerHTML = output.data[HTML_MIME_TYPE];\n      const script_attrs = bk_div.children[0].attributes;\n      for (let i = 0; i < script_attrs.length; i++) {\n        toinsert[toinsert.length - 1].firstChild.setAttribute(script_attrs[i].name, script_attrs[i].value);\n        toinsert[toinsert.length - 1].firstChild.textContent = bk_div.children[0].textContent\n      }\n      // store reference to server id on output_area\n      output_area._bokeh_server_id = output.metadata[EXEC_MIME_TYPE][\"server_id\"];\n    }\n  }\n\n  function register_renderer(events, OutputArea) {\n\n    function append_mime(data, metadata, element) {\n      // create a DOM node to render to\n      const toinsert = this.create_output_subarea(\n        metadata,\n        CLASS_NAME,\n        EXEC_MIME_TYPE\n      );\n      this.keyboard_manager.register_events(toinsert);\n      // Render to node\n      const props = {data: data, metadata: metadata[EXEC_MIME_TYPE]};\n      render(props, toinsert[toinsert.length - 1]);\n      element.append(toinsert);\n      return toinsert\n    }\n\n    /* Handle when an output is cleared or removed */\n    events.on('clear_output.CodeCell', handleClearOutput);\n    events.on('delete.Cell', handleClearOutput);\n\n    /* Handle when a new output is added */\n    events.on('output_added.OutputArea', handleAddOutput);\n\n    /**\n     * Register the mime type and append_mime function with output_area\n     */\n    OutputArea.prototype.register_mime_type(EXEC_MIME_TYPE, append_mime, {\n      /* Is output safe? */\n      safe: true,\n      /* Index of renderer in `output_area.display_order` */\n      index: 0\n    });\n  }\n\n  // register the mime type if in Jupyter Notebook environment and previously unregistered\n  if (root.Jupyter !== undefined) {\n    const events = require('base/js/events');\n    const OutputArea = require('notebook/js/outputarea').OutputArea;\n\n    if (OutputArea.prototype.mime_types().indexOf(EXEC_MIME_TYPE) == -1) {\n      register_renderer(events, OutputArea);\n    }\n  }\n\n  \n  if (typeof (root._bokeh_timeout) === \"undefined\" || force === true) {\n    root._bokeh_timeout = Date.now() + 5000;\n    root._bokeh_failed_load = false;\n  }\n\n  const NB_LOAD_WARNING = {'data': {'text/html':\n     \"<div style='background-color: #fdd'>\\n\"+\n     \"<p>\\n\"+\n     \"BokehJS does not appear to have successfully loaded. If loading BokehJS from CDN, this \\n\"+\n     \"may be due to a slow or bad network connection. Possible fixes:\\n\"+\n     \"</p>\\n\"+\n     \"<ul>\\n\"+\n     \"<li>re-rerun `output_notebook()` to attempt to load from CDN again, or</li>\\n\"+\n     \"<li>use INLINE resources instead, as so:</li>\\n\"+\n     \"</ul>\\n\"+\n     \"<code>\\n\"+\n     \"from bokeh.resources import INLINE\\n\"+\n     \"output_notebook(resources=INLINE)\\n\"+\n     \"</code>\\n\"+\n     \"</div>\"}};\n\n  function display_loaded() {\n    const el = document.getElementById(\"1341\");\n    if (el != null) {\n      el.textContent = \"BokehJS is loading...\";\n    }\n    if (root.Bokeh !== undefined) {\n      if (el != null) {\n        el.textContent = \"BokehJS \" + root.Bokeh.version + \" successfully loaded.\";\n      }\n    } else if (Date.now() < root._bokeh_timeout) {\n      setTimeout(display_loaded, 100)\n    }\n  }\n\n\n  function run_callbacks() {\n    try {\n      root._bokeh_onload_callbacks.forEach(function(callback) {\n        if (callback != null)\n          callback();\n      });\n    } finally {\n      delete root._bokeh_onload_callbacks\n    }\n    console.debug(\"Bokeh: all callbacks have finished\");\n  }\n\n  function load_libs(css_urls, js_urls, callback) {\n    if (css_urls == null) css_urls = [];\n    if (js_urls == null) js_urls = [];\n\n    root._bokeh_onload_callbacks.push(callback);\n    if (root._bokeh_is_loading > 0) {\n      console.debug(\"Bokeh: BokehJS is being loaded, scheduling callback at\", now());\n      return null;\n    }\n    if (js_urls == null || js_urls.length === 0) {\n      run_callbacks();\n      return null;\n    }\n    console.debug(\"Bokeh: BokehJS not loaded, scheduling load and callback at\", now());\n    root._bokeh_is_loading = css_urls.length + js_urls.length;\n\n    function on_load() {\n      root._bokeh_is_loading--;\n      if (root._bokeh_is_loading === 0) {\n        console.debug(\"Bokeh: all BokehJS libraries/stylesheets loaded\");\n        run_callbacks()\n      }\n    }\n\n    function on_error(url) {\n      console.error(\"failed to load \" + url);\n    }\n\n    for (let i = 0; i < css_urls.length; i++) {\n      const url = css_urls[i];\n      const element = document.createElement(\"link\");\n      element.onload = on_load;\n      element.onerror = on_error.bind(null, url);\n      element.rel = \"stylesheet\";\n      element.type = \"text/css\";\n      element.href = url;\n      console.debug(\"Bokeh: injecting link tag for BokehJS stylesheet: \", url);\n      document.body.appendChild(element);\n    }\n\n    for (let i = 0; i < js_urls.length; i++) {\n      const url = js_urls[i];\n      const element = document.createElement('script');\n      element.onload = on_load;\n      element.onerror = on_error.bind(null, url);\n      element.async = false;\n      element.src = url;\n      console.debug(\"Bokeh: injecting script tag for BokehJS library: \", url);\n      document.head.appendChild(element);\n    }\n  };\n\n  function inject_raw_css(css) {\n    const element = document.createElement(\"style\");\n    element.appendChild(document.createTextNode(css));\n    document.body.appendChild(element);\n  }\n\n  \n  const js_urls = [\"https://cdn.bokeh.org/bokeh/release/bokeh-2.4.2.min.js\", \"https://cdn.bokeh.org/bokeh/release/bokeh-gl-2.4.2.min.js\", \"https://cdn.bokeh.org/bokeh/release/bokeh-widgets-2.4.2.min.js\", \"https://cdn.bokeh.org/bokeh/release/bokeh-tables-2.4.2.min.js\", \"https://cdn.bokeh.org/bokeh/release/bokeh-mathjax-2.4.2.min.js\"];\n  const css_urls = [];\n  \n\n  const inline_js = [\n    function(Bokeh) {\n      Bokeh.set_log_level(\"info\");\n    },\n    function(Bokeh) {\n    \n    \n    }\n  ];\n\n  function run_inline_js() {\n    \n    if (root.Bokeh !== undefined || force === true) {\n      \n    for (let i = 0; i < inline_js.length; i++) {\n      inline_js[i].call(root, root.Bokeh);\n    }\n    if (force === true) {\n        display_loaded();\n      }} else if (Date.now() < root._bokeh_timeout) {\n      setTimeout(run_inline_js, 100);\n    } else if (!root._bokeh_failed_load) {\n      console.log(\"Bokeh: BokehJS failed to load within specified timeout.\");\n      root._bokeh_failed_load = true;\n    } else if (force !== true) {\n      const cell = $(document.getElementById(\"1341\")).parents('.cell').data().cell;\n      cell.output_area.append_execute_result(NB_LOAD_WARNING)\n    }\n\n  }\n\n  if (root._bokeh_is_loading === 0) {\n    console.debug(\"Bokeh: BokehJS loaded, going straight to plotting\");\n    run_inline_js();\n  } else {\n    load_libs(css_urls, js_urls, function() {\n      console.debug(\"Bokeh: BokehJS plotting callback run at\", now());\n      run_inline_js();\n    });\n  }\n}(window));",
      "application/vnd.bokehjs_load.v0+json": "\n(function(root) {\n  function now() {\n    return new Date();\n  }\n\n  const force = true;\n\n  if (typeof root._bokeh_onload_callbacks === \"undefined\" || force === true) {\n    root._bokeh_onload_callbacks = [];\n    root._bokeh_is_loading = undefined;\n  }\n\n  \n\n  \n  if (typeof (root._bokeh_timeout) === \"undefined\" || force === true) {\n    root._bokeh_timeout = Date.now() + 5000;\n    root._bokeh_failed_load = false;\n  }\n\n  const NB_LOAD_WARNING = {'data': {'text/html':\n     \"<div style='background-color: #fdd'>\\n\"+\n     \"<p>\\n\"+\n     \"BokehJS does not appear to have successfully loaded. If loading BokehJS from CDN, this \\n\"+\n     \"may be due to a slow or bad network connection. Possible fixes:\\n\"+\n     \"</p>\\n\"+\n     \"<ul>\\n\"+\n     \"<li>re-rerun `output_notebook()` to attempt to load from CDN again, or</li>\\n\"+\n     \"<li>use INLINE resources instead, as so:</li>\\n\"+\n     \"</ul>\\n\"+\n     \"<code>\\n\"+\n     \"from bokeh.resources import INLINE\\n\"+\n     \"output_notebook(resources=INLINE)\\n\"+\n     \"</code>\\n\"+\n     \"</div>\"}};\n\n  function display_loaded() {\n    const el = document.getElementById(\"1341\");\n    if (el != null) {\n      el.textContent = \"BokehJS is loading...\";\n    }\n    if (root.Bokeh !== undefined) {\n      if (el != null) {\n        el.textContent = \"BokehJS \" + root.Bokeh.version + \" successfully loaded.\";\n      }\n    } else if (Date.now() < root._bokeh_timeout) {\n      setTimeout(display_loaded, 100)\n    }\n  }\n\n\n  function run_callbacks() {\n    try {\n      root._bokeh_onload_callbacks.forEach(function(callback) {\n        if (callback != null)\n          callback();\n      });\n    } finally {\n      delete root._bokeh_onload_callbacks\n    }\n    console.debug(\"Bokeh: all callbacks have finished\");\n  }\n\n  function load_libs(css_urls, js_urls, callback) {\n    if (css_urls == null) css_urls = [];\n    if (js_urls == null) js_urls = [];\n\n    root._bokeh_onload_callbacks.push(callback);\n    if (root._bokeh_is_loading > 0) {\n      console.debug(\"Bokeh: BokehJS is being loaded, scheduling callback at\", now());\n      return null;\n    }\n    if (js_urls == null || js_urls.length === 0) {\n      run_callbacks();\n      return null;\n    }\n    console.debug(\"Bokeh: BokehJS not loaded, scheduling load and callback at\", now());\n    root._bokeh_is_loading = css_urls.length + js_urls.length;\n\n    function on_load() {\n      root._bokeh_is_loading--;\n      if (root._bokeh_is_loading === 0) {\n        console.debug(\"Bokeh: all BokehJS libraries/stylesheets loaded\");\n        run_callbacks()\n      }\n    }\n\n    function on_error(url) {\n      console.error(\"failed to load \" + url);\n    }\n\n    for (let i = 0; i < css_urls.length; i++) {\n      const url = css_urls[i];\n      const element = document.createElement(\"link\");\n      element.onload = on_load;\n      element.onerror = on_error.bind(null, url);\n      element.rel = \"stylesheet\";\n      element.type = \"text/css\";\n      element.href = url;\n      console.debug(\"Bokeh: injecting link tag for BokehJS stylesheet: \", url);\n      document.body.appendChild(element);\n    }\n\n    for (let i = 0; i < js_urls.length; i++) {\n      const url = js_urls[i];\n      const element = document.createElement('script');\n      element.onload = on_load;\n      element.onerror = on_error.bind(null, url);\n      element.async = false;\n      element.src = url;\n      console.debug(\"Bokeh: injecting script tag for BokehJS library: \", url);\n      document.head.appendChild(element);\n    }\n  };\n\n  function inject_raw_css(css) {\n    const element = document.createElement(\"style\");\n    element.appendChild(document.createTextNode(css));\n    document.body.appendChild(element);\n  }\n\n  \n  const js_urls = [\"https://cdn.bokeh.org/bokeh/release/bokeh-2.4.2.min.js\", \"https://cdn.bokeh.org/bokeh/release/bokeh-gl-2.4.2.min.js\", \"https://cdn.bokeh.org/bokeh/release/bokeh-widgets-2.4.2.min.js\", \"https://cdn.bokeh.org/bokeh/release/bokeh-tables-2.4.2.min.js\", \"https://cdn.bokeh.org/bokeh/release/bokeh-mathjax-2.4.2.min.js\"];\n  const css_urls = [];\n  \n\n  const inline_js = [\n    function(Bokeh) {\n      Bokeh.set_log_level(\"info\");\n    },\n    function(Bokeh) {\n    \n    \n    }\n  ];\n\n  function run_inline_js() {\n    \n    if (root.Bokeh !== undefined || force === true) {\n      \n    for (let i = 0; i < inline_js.length; i++) {\n      inline_js[i].call(root, root.Bokeh);\n    }\n    if (force === true) {\n        display_loaded();\n      }} else if (Date.now() < root._bokeh_timeout) {\n      setTimeout(run_inline_js, 100);\n    } else if (!root._bokeh_failed_load) {\n      console.log(\"Bokeh: BokehJS failed to load within specified timeout.\");\n      root._bokeh_failed_load = true;\n    } else if (force !== true) {\n      const cell = $(document.getElementById(\"1341\")).parents('.cell').data().cell;\n      cell.output_area.append_execute_result(NB_LOAD_WARNING)\n    }\n\n  }\n\n  if (root._bokeh_is_loading === 0) {\n    console.debug(\"Bokeh: BokehJS loaded, going straight to plotting\");\n    run_inline_js();\n  } else {\n    load_libs(css_urls, js_urls, function() {\n      console.debug(\"Bokeh: BokehJS plotting callback run at\", now());\n      run_inline_js();\n    });\n  }\n}(window));"
     },
     "metadata": {},
     "output_type": "display_data"
    },
    {
     "data": {
      "text/html": "\n\n\n\n\n\n  <div class=\"bk-root\" id=\"3db9293f-9266-438f-bc1e-4b0c5f0d3982\" data-root-id=\"1343\"></div>\n"
     },
     "metadata": {},
     "output_type": "display_data"
    },
    {
     "data": {
      "application/javascript": "(function(root) {\n  function embed_document(root) {\n    \n  const docs_json = {\"7c2d10ed-ee58-4214-b5bb-2855c53facbb\":{\"defs\":[],\"roots\":{\"references\":[{\"attributes\":{\"below\":[{\"id\":\"1354\"}],\"center\":[{\"id\":\"1357\"},{\"id\":\"1361\"},{\"id\":\"1392\"}],\"left\":[{\"id\":\"1358\"}],\"renderers\":[{\"id\":\"1380\"}],\"title\":{\"id\":\"1344\"},\"toolbar\":{\"id\":\"1369\"},\"width\":900,\"x_range\":{\"id\":\"1346\"},\"x_scale\":{\"id\":\"1350\"},\"y_range\":{\"id\":\"1348\"},\"y_scale\":{\"id\":\"1352\"}},\"id\":\"1343\",\"subtype\":\"Figure\",\"type\":\"Plot\"},{\"attributes\":{\"tools\":[{\"id\":\"1362\"},{\"id\":\"1363\"},{\"id\":\"1364\"},{\"id\":\"1365\"},{\"id\":\"1366\"},{\"id\":\"1367\"}]},\"id\":\"1369\",\"type\":\"Toolbar\"},{\"attributes\":{},\"id\":\"1348\",\"type\":\"DataRange1d\"},{\"attributes\":{\"fill_alpha\":{\"value\":0.2},\"fill_color\":{\"value\":\"red\"},\"hatch_alpha\":{\"value\":0.2},\"hatch_color\":{\"value\":\"red\"},\"line_alpha\":{\"value\":0.2},\"line_color\":{\"value\":\"red\"},\"top\":{\"field\":\"category\"},\"width\":{\"value\":0.5},\"x\":{\"field\":\"district\"}},\"id\":\"1379\",\"type\":\"VBar\"},{\"attributes\":{},\"id\":\"1350\",\"type\":\"LinearScale\"},{\"attributes\":{\"fill_color\":{\"value\":\"red\"},\"hatch_color\":{\"value\":\"red\"},\"line_color\":{\"value\":\"red\"},\"top\":{\"field\":\"category\"},\"width\":{\"value\":0.5},\"x\":{\"field\":\"district\"}},\"id\":\"1377\",\"type\":\"VBar\"},{\"attributes\":{\"coordinates\":null,\"data_source\":{\"id\":\"1342\"},\"glyph\":{\"id\":\"1377\"},\"group\":null,\"hover_glyph\":null,\"muted\":true,\"muted_glyph\":{\"id\":\"1379\"},\"nonselection_glyph\":{\"id\":\"1378\"},\"view\":{\"id\":\"1381\"}},\"id\":\"1380\",\"type\":\"GlyphRenderer\"},{\"attributes\":{},\"id\":\"1355\",\"type\":\"BasicTicker\"},{\"attributes\":{\"axis_label\":\"n_samples\",\"coordinates\":null,\"formatter\":{\"id\":\"1384\"},\"group\":null,\"major_label_policy\":{\"id\":\"1385\"},\"ticker\":{\"id\":\"1359\"}},\"id\":\"1358\",\"type\":\"LinearAxis\"},{\"attributes\":{},\"id\":\"1389\",\"type\":\"UnionRenderers\"},{\"attributes\":{},\"id\":\"1390\",\"type\":\"Selection\"},{\"attributes\":{\"data\":{\"category\":[\"Formede tr\\u00e6er\",\"Gade- og all\\u00e9tr\\u00e6er\",\"Park- og naturtr\\u00e6er\",\"Private tr\\u00e6er\",\"Tr\\u00e6er i bevoksninger\",\"Formede tr\\u00e6er\",\"Gade- og all\\u00e9tr\\u00e6er\",\"Park- og naturtr\\u00e6er\",\"Private tr\\u00e6er\",\"Tr\\u00e6er i bevoksninger\",\"Formede tr\\u00e6er\",\"Gade- og all\\u00e9tr\\u00e6er\",\"Park- og naturtr\\u00e6er\",\"Private tr\\u00e6er\",\"Tr\\u00e6er i bevoksninger\",\"Formede tr\\u00e6er\",\"Gade- og all\\u00e9tr\\u00e6er\",\"Park- og naturtr\\u00e6er\",\"Private tr\\u00e6er\",\"Tr\\u00e6er i bevoksninger\",\"Formede tr\\u00e6er\",\"Gade- og all\\u00e9tr\\u00e6er\",\"Park- og naturtr\\u00e6er\",\"Private tr\\u00e6er\",\"Tr\\u00e6er i bevoksninger\",\"Formede tr\\u00e6er\",\"Gade- og all\\u00e9tr\\u00e6er\",\"Park- og naturtr\\u00e6er\",\"Private tr\\u00e6er\",\"Tr\\u00e6er i bevoksninger\",\"Formede tr\\u00e6er\",\"Gade- og all\\u00e9tr\\u00e6er\",\"Park- og naturtr\\u00e6er\",\"Private tr\\u00e6er\",\"Tr\\u00e6er i bevoksninger\",\"Formede tr\\u00e6er\",\"Gade- og all\\u00e9tr\\u00e6er\",\"Park- og naturtr\\u00e6er\",\"Private tr\\u00e6er\",\"Tr\\u00e6er i bevoksninger\",\"Formede tr\\u00e6er\",\"Gade- og all\\u00e9tr\\u00e6er\",\"Park- og naturtr\\u00e6er\",\"Private tr\\u00e6er\",\"Tr\\u00e6er i bevoksninger\",\"0\",\"Formede tr\\u00e6er\",\"Gade- og all\\u00e9tr\\u00e6er\",\"Park- og naturtr\\u00e6er\",\"Private tr\\u00e6er\",\"Tr\\u00e6er i bevoksninger\"],\"count\":[82,2824,1782,57,490,114,1695,2013,140,335,473,2165,5402,158,462,50,1574,2080,68,677,454,2870,2193,280,535,231,2890,3830,104,211,208,1728,2895,58,463,44,1179,2741,44,208,132,4252,2622,53,287,25,414,4178,2552,153,1580],\"district\":[\"Amager Vest\",\"Amager Vest\",\"Amager Vest\",\"Amager Vest\",\"Amager Vest\",\"Amager \\u00d8st\",\"Amager \\u00d8st\",\"Amager \\u00d8st\",\"Amager \\u00d8st\",\"Amager \\u00d8st\",\"Bispebjerg\",\"Bispebjerg\",\"Bispebjerg\",\"Bispebjerg\",\"Bispebjerg\",\"Br\\u00f8nsh\\u00f8j-Husum\",\"Br\\u00f8nsh\\u00f8j-Husum\",\"Br\\u00f8nsh\\u00f8j-Husum\",\"Br\\u00f8nsh\\u00f8j-Husum\",\"Br\\u00f8nsh\\u00f8j-Husum\",\"Indre By\",\"Indre By\",\"Indre By\",\"Indre By\",\"Indre By\",\"N\\u00f8rrebro\",\"N\\u00f8rrebro\",\"N\\u00f8rrebro\",\"N\\u00f8rrebro\",\"N\\u00f8rrebro\",\"Valby\",\"Valby\",\"Valby\",\"Valby\",\"Valby\",\"Vanl\\u00f8se\",\"Vanl\\u00f8se\",\"Vanl\\u00f8se\",\"Vanl\\u00f8se\",\"Vanl\\u00f8se\",\"Vesterbro-Kongens Enghave\",\"Vesterbro-Kongens Enghave\",\"Vesterbro-Kongens Enghave\",\"Vesterbro-Kongens Enghave\",\"Vesterbro-Kongens Enghave\",\"\\u00d8sterbro\",\"\\u00d8sterbro\",\"\\u00d8sterbro\",\"\\u00d8sterbro\",\"\\u00d8sterbro\",\"\\u00d8sterbro\"],\"fraction category\":{\"__ndarray__\":\"Sdgj0nEqoj8KO9k4diXaP/Czd5zd/tw/LsWLDZRlkj/Ck52arKW1P0nYI9JxKqI/CjvZOHYl2j/ws3ec3f7cPy7Fiw2UZZI/wpOdmqyltT9J2CPScSqiPwo72Th2Jdo/8LN3nN3+3D8uxYsNlGWSP8KTnZqspbU/Sdgj0nEqoj8KO9k4diXaP/Czd5zd/tw/LsWLDZRlkj/Ck52arKW1P0nYI9JxKqI/CjvZOHYl2j/ws3ec3f7cPy7Fiw2UZZI/wpOdmqyltT9J2CPScSqiPwo72Th2Jdo/8LN3nN3+3D8uxYsNlGWSP8KTnZqspbU/Sdgj0nEqoj8KO9k4diXaP/Czd5zd/tw/LsWLDZRlkj/Ck52arKW1P0nYI9JxKqI/CjvZOHYl2j/ws3ec3f7cPy7Fiw2UZZI/wpOdmqyltT9J2CPScSqiPwo72Th2Jdo/8LN3nN3+3D8uxYsNlGWSP8KTnZqspbU/JObSqSNmOj9J2CPScSqiPwo72Th2Jdo/8LN3nN3+3D8uxYsNlGWSP8KTnZqspbU/\",\"dtype\":\"float64\",\"order\":\"little\",\"shape\":[51]},\"fraction district\":{\"__ndarray__\":\"zX7l6SsKkD/J43pVJEPhP54MiuMhydU/wNUfd5RMhj/YVKM8OPa3P0PKVWC3Kps/vz9CaNo+2T9GDKJgWvvdP+oLeJlwrqA/Zledt0b1sz/Dc9ltA/erPwAAAAAAANA/bI2EQxH24z96O8UMxK6SP8QXe1OGUKs/FWubUzMEhz+Vu8TFc6TWPwLYFlPc690/ZYcvhmRNjz+pKaxQRnrDP0d0n7riWrI/co/HMhoC3T9WclPEXirWP6S0zXj7o6Y/SqqNrDuhtT/GohpmB0egPyCjBbCedNk/ZFYWMxve4D9st+WEQlCNPzjgMo5+vJ0/2kmLpPrloz9PpZC+5qnUP3oqhfQ1T+E/OVyb8r4xhj+BBvswgCW2P2AV7EayX4U/5ml6vMTl0T/OKJRB983kP2AV7EayX4U/Qxl034xCqT+JXZKsdGaSP9L4viyuheI/H+QPfOzX1j/jQKUFR419PwR7kxzWAKQ/Hmp5i40BZz+hGlvwr8+nP7/hGSqMCd4/bRE7H+tY0j9hpLIKgpmRP8oYu/nut8Y/\",\"dtype\":\"float64\",\"order\":\"little\",\"shape\":[51]},\"index\":[0,1,2,3,4,5,6,7,8,9,10,11,12,13,14,15,16,17,18,19,20,21,22,23,24,25,26,27,28,29,30,31,32,33,34,35,36,37,38,39,40,41,42,43,44,45,46,47,48,49,50]},\"selected\":{\"id\":\"1390\"},\"selection_policy\":{\"id\":\"1389\"}},\"id\":\"1342\",\"type\":\"ColumnDataSource\"},{\"attributes\":{\"fill_alpha\":{\"value\":0.1},\"fill_color\":{\"value\":\"red\"},\"hatch_alpha\":{\"value\":0.1},\"hatch_color\":{\"value\":\"red\"},\"line_alpha\":{\"value\":0.1},\"line_color\":{\"value\":\"red\"},\"top\":{\"field\":\"category\"},\"width\":{\"value\":0.5},\"x\":{\"field\":\"district\"}},\"id\":\"1378\",\"type\":\"VBar\"},{\"attributes\":{\"axis\":{\"id\":\"1354\"},\"coordinates\":null,\"group\":null,\"ticker\":null},\"id\":\"1357\",\"type\":\"Grid\"},{\"attributes\":{},\"id\":\"1387\",\"type\":\"BasicTickFormatter\"},{\"attributes\":{\"label\":{\"value\":\"category\"},\"renderers\":[{\"id\":\"1380\"}]},\"id\":\"1393\",\"type\":\"LegendItem\"},{\"attributes\":{\"overlay\":{\"id\":\"1368\"}},\"id\":\"1364\",\"type\":\"BoxZoomTool\"},{\"attributes\":{},\"id\":\"1385\",\"type\":\"AllLabels\"},{\"attributes\":{},\"id\":\"1366\",\"type\":\"ResetTool\"},{\"attributes\":{},\"id\":\"1352\",\"type\":\"LinearScale\"},{\"attributes\":{},\"id\":\"1359\",\"type\":\"BasicTicker\"},{\"attributes\":{\"coordinates\":null,\"group\":null,\"items\":[{\"id\":\"1393\"}]},\"id\":\"1392\",\"type\":\"Legend\"},{\"attributes\":{\"coordinates\":null,\"group\":null,\"text\":\"n_trees_by_district\"},\"id\":\"1344\",\"type\":\"Title\"},{\"attributes\":{\"axis\":{\"id\":\"1358\"},\"coordinates\":null,\"dimension\":1,\"group\":null,\"ticker\":null},\"id\":\"1361\",\"type\":\"Grid\"},{\"attributes\":{},\"id\":\"1346\",\"type\":\"DataRange1d\"},{\"attributes\":{\"source\":{\"id\":\"1342\"}},\"id\":\"1381\",\"type\":\"CDSView\"},{\"attributes\":{},\"id\":\"1363\",\"type\":\"WheelZoomTool\"},{\"attributes\":{\"bottom_units\":\"screen\",\"coordinates\":null,\"fill_alpha\":0.5,\"fill_color\":\"lightgrey\",\"group\":null,\"left_units\":\"screen\",\"level\":\"overlay\",\"line_alpha\":1.0,\"line_color\":\"black\",\"line_dash\":[4,4],\"line_width\":2,\"right_units\":\"screen\",\"syncable\":false,\"top_units\":\"screen\"},\"id\":\"1368\",\"type\":\"BoxAnnotation\"},{\"attributes\":{},\"id\":\"1365\",\"type\":\"SaveTool\"},{\"attributes\":{},\"id\":\"1362\",\"type\":\"PanTool\"},{\"attributes\":{\"axis_label\":\"district\",\"coordinates\":null,\"formatter\":{\"id\":\"1387\"},\"group\":null,\"major_label_policy\":{\"id\":\"1388\"},\"ticker\":{\"id\":\"1355\"}},\"id\":\"1354\",\"type\":\"LinearAxis\"},{\"attributes\":{},\"id\":\"1367\",\"type\":\"HelpTool\"},{\"attributes\":{},\"id\":\"1388\",\"type\":\"AllLabels\"},{\"attributes\":{},\"id\":\"1384\",\"type\":\"BasicTickFormatter\"}],\"root_ids\":[\"1343\"]},\"title\":\"Bokeh Application\",\"version\":\"2.4.2\"}};\n  const render_items = [{\"docid\":\"7c2d10ed-ee58-4214-b5bb-2855c53facbb\",\"root_ids\":[\"1343\"],\"roots\":{\"1343\":\"3db9293f-9266-438f-bc1e-4b0c5f0d3982\"}}];\n  root.Bokeh.embed.embed_items_notebook(docs_json, render_items);\n\n  }\n  if (root.Bokeh !== undefined) {\n    embed_document(root);\n  } else {\n    let attempts = 0;\n    const timer = setInterval(function(root) {\n      if (root.Bokeh !== undefined) {\n        clearInterval(timer);\n        embed_document(root);\n      } else {\n        attempts++;\n        if (attempts > 100) {\n          clearInterval(timer);\n          console.log(\"Bokeh: ERROR: Unable to run BokehJS code because BokehJS library is missing\");\n        }\n      }\n    }, 10, root)\n  }\n})(window);",
      "application/vnd.bokehjs_exec.v0+json": ""
     },
     "metadata": {
      "application/vnd.bokehjs_exec.v0+json": {
       "id": "1343"
      }
     },
     "output_type": "display_data"
    }
   ],
   "source": [
    "output_notebook()\n",
    "src1 = ColumnDataSource(df1)\n",
    "p1 = figure(plot_width = 900, plot_height = 600, title = \"n_trees_by_district\",x_axis_label = \"district\", y_axis_label = \"n_samples\")\n",
    "#Define the columns to use for each bar\n",
    "bar_cols = ['category']\n",
    "colors = ['red', 'blue','green','purple','yellow','pink']\n",
    "#Create empty list for custom legend\n",
    "items1 = []\n",
    "#Add bars by using p.var\n",
    "bar1 ={}\n",
    "# Insert fraction values in bars\n",
    "for indx, i in enumerate(bar_cols):\n",
    "    bar1[i] = p1.vbar(x=\"district\", top = i, source= src1, width=0.5, legend_label=i, color=colors[indx], muted =True)\n",
    "    #Append items to create the legend\n",
    "    items1.append((bar_cols[indx], [bar1[i]]))\n",
    "\n",
    "show(p1)\n",
    "\n"
   ]
  }
 ],
 "metadata": {
  "kernelspec": {
   "display_name": "Python 3.9.1 64-bit ('SocialData': conda)",
   "name": "python391jvsc74a57bd035102f34d3bdac640e2569cd15da5c68d187c34a3d5c738579b8b36af75149df"
  },
  "language_info": {
   "codemirror_mode": {
    "name": "ipython",
    "version": 3
   },
   "file_extension": ".py",
   "mimetype": "text/x-python",
   "name": "python",
   "nbconvert_exporter": "python",
   "pygments_lexer": "ipython3",
   "version": "3.9.1"
  },
  "metadata": {
   "interpreter": {
    "hash": "35102f34d3bdac640e2569cd15da5c68d187c34a3d5c738579b8b36af75149df"
   }
  },
  "orig_nbformat": 2
 },
 "nbformat": 4,
 "nbformat_minor": 2
}